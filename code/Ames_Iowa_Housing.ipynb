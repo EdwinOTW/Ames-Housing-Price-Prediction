{
 "cells": [
  {
   "cell_type": "markdown",
   "metadata": {},
   "source": [
    "# Problem Statement"
   ]
  },
  {
   "cell_type": "markdown",
   "metadata": {},
   "source": [
    "What is the best features for you to maximize the price of your house?\n",
    "\n",
    "To predict the price patterns of the houses in the area:\n",
    "\n",
    "1) I am going to find the neccessary data relating to the area.\n",
    "\n",
    "2) Clean the data\n",
    "\n",
    "3) Perform EDA on the clean data\n",
    "\n",
    "4) Decide on which variables are good predictors to use in the models\n",
    "\n",
    "5) Create a model based on selected variables\n",
    "\n",
    "6) Test how good the models are in predicting house prices\n",
    "\n",
    "7) Use the best Model\n",
    "\n",
    "8) Recommendations for housing price"
   ]
  },
  {
   "cell_type": "markdown",
   "metadata": {},
   "source": [
    "# Quick Guide"
   ]
  },
  {
   "cell_type": "markdown",
   "metadata": {},
   "source": [
    "#### - [1. Import Train Data](#Import)\n",
    "\n",
    "#### - [2. Data Cleaning](#Data_Cleaning)\n",
    "\n",
    "   - [Identify all columns with Null Values](#allnull)\n",
    "   - [Indentify Variables with huge Null Values](#hugenull)\n",
    "   - [Check for Outliers](#checkoutliers)\n",
    "   - [Check Remaining Null Values](#checknull)\n",
    "        - [Split into Catergorical and Continuous variables](#splitter)\n",
    "   - [Fill Null Values in Main Table](#fillnull)\n",
    "\n",
    "#### - [3. Spliting Dataframe](#Split_dataframe)\n",
    "\n",
    "   - [Split into Catergorical and Continuous Variable](#splitcc)\n",
    "   - [Split Catergorical into Ordinal and Nominal](#splitdf)\n",
    "   - [Rank Ordinal Variables / Drop any unusable columns in train_ord](#rankord)\n",
    "\n",
    "### [Model 1](#Model1)\n",
    "\n",
    "#### - [4. Check for Correlation](#check__corr)\n",
    "\n",
    "   - [Check for Correlation between Price and Variables](#check_corr)\n",
    "   - [Check Boxplot Between Price and Variables](#boxplot)\n",
    "   \n",
    "#### - [5. Create Model](#create_model)\n",
    "\n",
    "   - [Determine which Column to drop](#drop)\n",
    "   - [Merge DataFrames to create Model](#merge)\n",
    "   - [Check for correlation and pick 30 highest correlation](#corr)\n",
    "   \n",
    "#### - [6. Prep Model](#model_prep)\n",
    "\n",
    "#### - [7. Test Model](#test1)\n",
    "\n",
    "   - [Check for Multicollinearity](#multicollienearity1)\n",
    "   \n",
    "#### - [8. Refine Model](#refine1)\n",
    "\n",
    "### [Model 2](#model2)\n",
    "   - [Merge DataFrames (Cont / Ord / Nom)](#merge2)\n",
    "   - [Using LassoCV to remove unneccessary Variables](#lasso)\n",
    "   - [Create Model](#model_prep2)\n",
    "   - [Check for Multicollinearity](#multicollinearity2)\n",
    "   - [Test Model](#test2)\n",
    "   \n",
    "### [Model 3](#model3)\n",
    "   - [Merge DataFrames](#merge3)\n",
    "   - [Feature Engineering](#feature_eng)\n",
    "   - [Create our features matrix (`X`) and target vector (`y`)](#create_xy3)\n",
    "   - [Check for Multicollinearity](#multicollinearity3)\n",
    "   - [Model Prep](#model_prep3)\n",
    "   - [Test Model](#test3)\n",
    "   \n",
    "#### - [9. Test Model on Kaggle Test Data](#Kaggle)\n",
    "   - [Predict Kaggle Data with Model 1](#kaggle_1)\n",
    "   - [Predict Kaggle Data with Model 2](#kaggle_2)\n",
    "   - [Predict Kaggle Data with Model 3](#kaggle_3)\n",
    "\n",
    "#### - [10. Recommendations](#Recommendations)"
   ]
  },
  {
   "cell_type": "markdown",
   "metadata": {},
   "source": [
    "# Import Libraries"
   ]
  },
  {
   "cell_type": "code",
   "execution_count": 1,
   "metadata": {},
   "outputs": [],
   "source": [
    "# Importing libraries\n",
    "import pandas as pd\n",
    "import pandas_profiling\n",
    "import numpy as np\n",
    "import matplotlib.pyplot as plt\n",
    "import seaborn as sns\n",
    "import warnings\n",
    "\n",
    "from sklearn.preprocessing import LabelEncoder\n",
    "from sklearn.linear_model import LinearRegression, LassoCV, RidgeCV\n",
    "from sklearn.model_selection import train_test_split, cross_val_score\n",
    "from sklearn.preprocessing import StandardScaler, PolynomialFeatures\n",
    "from sklearn.metrics import mean_squared_error\n",
    "\n",
    "%matplotlib inline"
   ]
  },
  {
   "cell_type": "code",
   "execution_count": 2,
   "metadata": {},
   "outputs": [],
   "source": [
    "# Prevent warnings from appearing\n",
    "warnings.filterwarnings('ignore')"
   ]
  },
  {
   "cell_type": "markdown",
   "metadata": {},
   "source": [
    "# Functions Used"
   ]
  },
  {
   "cell_type": "code",
   "execution_count": 3,
   "metadata": {},
   "outputs": [],
   "source": [
    "# Function for Categorical Plots\n",
    "# Scatter types [strip, swarm]\n",
    "# Dist types [box, violin, boxen]\n",
    "# Estimate types [point, bar, count]\n",
    "def catplot(data_, figuresize, plot):\n",
    "    plt.figure(figsize=figuresize) # Figure size for all plots\n",
    "\n",
    "    for i in range(len(data_.columns)):\n",
    "        if len(data_.columns) // 2 == 0:\n",
    "            ax = plt.subplot(len(data_.columns)/2, 2, i+1) # plt.subplot(no. of rows, no of plot per row, choose the plot(i=0))\n",
    "        else:\n",
    "            ax = plt.subplot((len(data_.columns)+1)/2, 2, i+1)\n",
    "                             \n",
    "        plt.setp(ax, xticks =(), yticks = ()) # Setup the axis\n",
    "        plt.title(label = \"{} vs SalePrice\".format(data_.columns[i])) # Set Title\n",
    "\n",
    "        sns.catplot(y = 'saleprice', x = data_.columns[i],data=data_, kind = plot)"
   ]
  },
  {
   "cell_type": "code",
   "execution_count": 4,
   "metadata": {},
   "outputs": [],
   "source": [
    "# Function to plot Boxplots\n",
    "def boxplot(data, figuresize, sale):\n",
    "    plt.figure(figsize=figuresize) # Figure size for all plots\n",
    "\n",
    "    for i in range(len(data.columns)):\n",
    "        if len(data.columns) // 2 == 0:\n",
    "            ax = plt.subplot(len(data.columns)/2, 2, i+1) # plt.subplot(no. of rows, no of plot per row, choose the plot(i=0))\n",
    "        else:\n",
    "            ax = plt.subplot((len(data.columns)+1)/2, 2, i+1)\n",
    "                             \n",
    "        plt.setp(ax, xticks =(), yticks = ()) # Setup the axis\n",
    "        plt.title(label = \"{} vs SalePrice\".format(data.columns[i])) # Set Title\n",
    "\n",
    "        sns.boxplot(y = data[sale], x = data[data.columns[i]] )"
   ]
  },
  {
   "cell_type": "code",
   "execution_count": 5,
   "metadata": {},
   "outputs": [],
   "source": [
    "# Function to plot regplot\n",
    "def regplot(data, figuresize, sale):\n",
    "    plt.figure(figsize=figuresize) # Figure size for all plots\n",
    "\n",
    "    for i in range(len(data.columns)):\n",
    "        if len(data.columns) // 2 == 0:\n",
    "            ax = plt.subplot(len(data.columns)/2, 2, i+1) # plt.subplot(no. of rows, no of plot per row, choose the plot(i=0))\n",
    "        else:\n",
    "            ax = plt.subplot((len(data.columns)+1)/2, 2, i+1)\n",
    "                             \n",
    "        plt.setp(ax, xticks =(), yticks = ()) # Setup the axis\n",
    "        plt.title(label = \"{} vs SalePrice\".format(data.columns[i])) # Set Title\n",
    "\n",
    "        sns.regplot(y = data[sale], x = data[data.columns[i]] )"
   ]
  },
  {
   "cell_type": "code",
   "execution_count": 6,
   "metadata": {},
   "outputs": [],
   "source": [
    "# Function to plot Distribution Plot\n",
    "def distplot(data, figuresize):\n",
    "    plt.figure(figsize=figuresize) # Figure size for all plots\n",
    "\n",
    "    for i in range(len(data.columns)):\n",
    "        if len(data.columns) // 2 == 0:\n",
    "            ax = plt.subplot(len(data.columns)/2, 2, i+1) # plt.subplot(no. of rows, no of plot per row, choose the plot(i=0))\n",
    "        else:\n",
    "            ax = plt.subplot((len(data.columns)+1)/2, 2, i+1)\n",
    "                             \n",
    "        plt.setp(ax, xticks =(), yticks = ()) # Setup the axis\n",
    "        plt.title(label = \"{} vs SalePrice\".format(data.columns[i])) # Set Title\n",
    "\n",
    "        sns.distplot(data[data.columns[i]])"
   ]
  },
  {
   "cell_type": "code",
   "execution_count": 7,
   "metadata": {},
   "outputs": [],
   "source": [
    "# Function to plot Heatmap\n",
    "def heatmap(data, figuresize):\n",
    "    plt.figure(figsize=figuresize)\n",
    "    plt.title(\"Correlation Heatmap\")\n",
    "    sns.heatmap(data.corr(), vmin= -1, annot=True)\n"
   ]
  },
  {
   "cell_type": "code",
   "execution_count": 8,
   "metadata": {},
   "outputs": [],
   "source": [
    "# Function to fill up all the Null Values\n",
    "def fill_null(data, columns):\n",
    "    for i in columns:\n",
    "        if i == \"Lot Frontage\":\n",
    "            data[i] = data[i]\n",
    "        elif data[i].dtypes == object:\n",
    "            data[i].fillna(\"NA\", inplace=True)\n",
    "        else:\n",
    "            data[i].fillna(0, inplace=True)"
   ]
  },
  {
   "cell_type": "code",
   "execution_count": 9,
   "metadata": {},
   "outputs": [],
   "source": [
    "# Function to identify Multicollinearity\n",
    "def multicollinearity(model):\n",
    "    for i in model.columns:\n",
    "        for j in model.columns:\n",
    "            if i != j:\n",
    "                corr = model[i].corr(model[j])\n",
    "                if corr > 0.7:\n",
    "                    print('{} and {} corr = {}'.format(i,j,corr))"
   ]
  },
  {
   "cell_type": "code",
   "execution_count": 10,
   "metadata": {},
   "outputs": [],
   "source": [
    "# Function to create Basic Data Dictionary\n",
    "def data_dictionary(data):\n",
    "    for i in data:\n",
    "        print(\"|\" + str(i) + '|' + str(data[i].dtypes) + '|' + \"train\" + '| |')"
   ]
  },
  {
   "cell_type": "code",
   "execution_count": 11,
   "metadata": {},
   "outputs": [],
   "source": [
    "# Function to rename Columns\n",
    "def rename(x):\n",
    "    if x == x.lower():\n",
    "        return x\n",
    "    else:\n",
    "        try:\n",
    "            x = x.replace(\" \", \"_\").lower()\n",
    "            return x\n",
    "        except:\n",
    "            return x"
   ]
  },
  {
   "cell_type": "markdown",
   "metadata": {},
   "source": [
    "<a id='Import'></a>\n",
    "# 1) Import Train Data"
   ]
  },
  {
   "cell_type": "code",
   "execution_count": 12,
   "metadata": {
    "scrolled": true
   },
   "outputs": [],
   "source": [
    "train = pd.read_csv('../datasets/train.csv', dtype={'MS SubClass': object, \"PID\": object, \"Overall Qual\": object, \"Overall Cond\": object})"
   ]
  },
  {
   "cell_type": "code",
   "execution_count": 13,
   "metadata": {
    "scrolled": false
   },
   "outputs": [
    {
     "data": {
      "text/html": [
       "<div>\n",
       "<style scoped>\n",
       "    .dataframe tbody tr th:only-of-type {\n",
       "        vertical-align: middle;\n",
       "    }\n",
       "\n",
       "    .dataframe tbody tr th {\n",
       "        vertical-align: top;\n",
       "    }\n",
       "\n",
       "    .dataframe thead th {\n",
       "        text-align: right;\n",
       "    }\n",
       "</style>\n",
       "<table border=\"1\" class=\"dataframe\">\n",
       "  <thead>\n",
       "    <tr style=\"text-align: right;\">\n",
       "      <th></th>\n",
       "      <th>Id</th>\n",
       "      <th>PID</th>\n",
       "      <th>MS SubClass</th>\n",
       "      <th>MS Zoning</th>\n",
       "      <th>Lot Frontage</th>\n",
       "      <th>Lot Area</th>\n",
       "      <th>Street</th>\n",
       "      <th>Alley</th>\n",
       "      <th>Lot Shape</th>\n",
       "      <th>Land Contour</th>\n",
       "      <th>...</th>\n",
       "      <th>Screen Porch</th>\n",
       "      <th>Pool Area</th>\n",
       "      <th>Pool QC</th>\n",
       "      <th>Fence</th>\n",
       "      <th>Misc Feature</th>\n",
       "      <th>Misc Val</th>\n",
       "      <th>Mo Sold</th>\n",
       "      <th>Yr Sold</th>\n",
       "      <th>Sale Type</th>\n",
       "      <th>SalePrice</th>\n",
       "    </tr>\n",
       "  </thead>\n",
       "  <tbody>\n",
       "    <tr>\n",
       "      <th>0</th>\n",
       "      <td>109</td>\n",
       "      <td>533352170</td>\n",
       "      <td>60</td>\n",
       "      <td>RL</td>\n",
       "      <td>NaN</td>\n",
       "      <td>13517</td>\n",
       "      <td>Pave</td>\n",
       "      <td>NaN</td>\n",
       "      <td>IR1</td>\n",
       "      <td>Lvl</td>\n",
       "      <td>...</td>\n",
       "      <td>0</td>\n",
       "      <td>0</td>\n",
       "      <td>NaN</td>\n",
       "      <td>NaN</td>\n",
       "      <td>NaN</td>\n",
       "      <td>0</td>\n",
       "      <td>3</td>\n",
       "      <td>2010</td>\n",
       "      <td>WD</td>\n",
       "      <td>130500</td>\n",
       "    </tr>\n",
       "    <tr>\n",
       "      <th>1</th>\n",
       "      <td>544</td>\n",
       "      <td>531379050</td>\n",
       "      <td>60</td>\n",
       "      <td>RL</td>\n",
       "      <td>43.0</td>\n",
       "      <td>11492</td>\n",
       "      <td>Pave</td>\n",
       "      <td>NaN</td>\n",
       "      <td>IR1</td>\n",
       "      <td>Lvl</td>\n",
       "      <td>...</td>\n",
       "      <td>0</td>\n",
       "      <td>0</td>\n",
       "      <td>NaN</td>\n",
       "      <td>NaN</td>\n",
       "      <td>NaN</td>\n",
       "      <td>0</td>\n",
       "      <td>4</td>\n",
       "      <td>2009</td>\n",
       "      <td>WD</td>\n",
       "      <td>220000</td>\n",
       "    </tr>\n",
       "    <tr>\n",
       "      <th>2</th>\n",
       "      <td>153</td>\n",
       "      <td>535304180</td>\n",
       "      <td>20</td>\n",
       "      <td>RL</td>\n",
       "      <td>68.0</td>\n",
       "      <td>7922</td>\n",
       "      <td>Pave</td>\n",
       "      <td>NaN</td>\n",
       "      <td>Reg</td>\n",
       "      <td>Lvl</td>\n",
       "      <td>...</td>\n",
       "      <td>0</td>\n",
       "      <td>0</td>\n",
       "      <td>NaN</td>\n",
       "      <td>NaN</td>\n",
       "      <td>NaN</td>\n",
       "      <td>0</td>\n",
       "      <td>1</td>\n",
       "      <td>2010</td>\n",
       "      <td>WD</td>\n",
       "      <td>109000</td>\n",
       "    </tr>\n",
       "    <tr>\n",
       "      <th>3</th>\n",
       "      <td>318</td>\n",
       "      <td>916386060</td>\n",
       "      <td>60</td>\n",
       "      <td>RL</td>\n",
       "      <td>73.0</td>\n",
       "      <td>9802</td>\n",
       "      <td>Pave</td>\n",
       "      <td>NaN</td>\n",
       "      <td>Reg</td>\n",
       "      <td>Lvl</td>\n",
       "      <td>...</td>\n",
       "      <td>0</td>\n",
       "      <td>0</td>\n",
       "      <td>NaN</td>\n",
       "      <td>NaN</td>\n",
       "      <td>NaN</td>\n",
       "      <td>0</td>\n",
       "      <td>4</td>\n",
       "      <td>2010</td>\n",
       "      <td>WD</td>\n",
       "      <td>174000</td>\n",
       "    </tr>\n",
       "    <tr>\n",
       "      <th>4</th>\n",
       "      <td>255</td>\n",
       "      <td>906425045</td>\n",
       "      <td>50</td>\n",
       "      <td>RL</td>\n",
       "      <td>82.0</td>\n",
       "      <td>14235</td>\n",
       "      <td>Pave</td>\n",
       "      <td>NaN</td>\n",
       "      <td>IR1</td>\n",
       "      <td>Lvl</td>\n",
       "      <td>...</td>\n",
       "      <td>0</td>\n",
       "      <td>0</td>\n",
       "      <td>NaN</td>\n",
       "      <td>NaN</td>\n",
       "      <td>NaN</td>\n",
       "      <td>0</td>\n",
       "      <td>3</td>\n",
       "      <td>2010</td>\n",
       "      <td>WD</td>\n",
       "      <td>138500</td>\n",
       "    </tr>\n",
       "  </tbody>\n",
       "</table>\n",
       "<p>5 rows × 81 columns</p>\n",
       "</div>"
      ],
      "text/plain": [
       "    Id        PID MS SubClass MS Zoning  Lot Frontage  Lot Area Street Alley  \\\n",
       "0  109  533352170          60        RL           NaN     13517   Pave   NaN   \n",
       "1  544  531379050          60        RL          43.0     11492   Pave   NaN   \n",
       "2  153  535304180          20        RL          68.0      7922   Pave   NaN   \n",
       "3  318  916386060          60        RL          73.0      9802   Pave   NaN   \n",
       "4  255  906425045          50        RL          82.0     14235   Pave   NaN   \n",
       "\n",
       "  Lot Shape Land Contour  ... Screen Porch Pool Area Pool QC Fence  \\\n",
       "0       IR1          Lvl  ...            0         0     NaN   NaN   \n",
       "1       IR1          Lvl  ...            0         0     NaN   NaN   \n",
       "2       Reg          Lvl  ...            0         0     NaN   NaN   \n",
       "3       Reg          Lvl  ...            0         0     NaN   NaN   \n",
       "4       IR1          Lvl  ...            0         0     NaN   NaN   \n",
       "\n",
       "  Misc Feature Misc Val Mo Sold Yr Sold Sale Type SalePrice  \n",
       "0          NaN        0       3    2010       WD     130500  \n",
       "1          NaN        0       4    2009       WD     220000  \n",
       "2          NaN        0       1    2010       WD     109000  \n",
       "3          NaN        0       4    2010       WD     174000  \n",
       "4          NaN        0       3    2010       WD     138500  \n",
       "\n",
       "[5 rows x 81 columns]"
      ]
     },
     "execution_count": 13,
     "metadata": {},
     "output_type": "execute_result"
    }
   ],
   "source": [
    "train.head()"
   ]
  },
  {
   "cell_type": "markdown",
   "metadata": {},
   "source": [
    "### Looking for errors"
   ]
  },
  {
   "cell_type": "code",
   "execution_count": 14,
   "metadata": {},
   "outputs": [
    {
     "name": "stdout",
     "output_type": "stream",
     "text": [
      "<class 'pandas.core.frame.DataFrame'>\n",
      "RangeIndex: 2051 entries, 0 to 2050\n",
      "Data columns (total 81 columns):\n",
      "Id                 2051 non-null int64\n",
      "PID                2051 non-null object\n",
      "MS SubClass        2051 non-null object\n",
      "MS Zoning          2051 non-null object\n",
      "Lot Frontage       1721 non-null float64\n",
      "Lot Area           2051 non-null int64\n",
      "Street             2051 non-null object\n",
      "Alley              140 non-null object\n",
      "Lot Shape          2051 non-null object\n",
      "Land Contour       2051 non-null object\n",
      "Utilities          2051 non-null object\n",
      "Lot Config         2051 non-null object\n",
      "Land Slope         2051 non-null object\n",
      "Neighborhood       2051 non-null object\n",
      "Condition 1        2051 non-null object\n",
      "Condition 2        2051 non-null object\n",
      "Bldg Type          2051 non-null object\n",
      "House Style        2051 non-null object\n",
      "Overall Qual       2051 non-null object\n",
      "Overall Cond       2051 non-null object\n",
      "Year Built         2051 non-null int64\n",
      "Year Remod/Add     2051 non-null int64\n",
      "Roof Style         2051 non-null object\n",
      "Roof Matl          2051 non-null object\n",
      "Exterior 1st       2051 non-null object\n",
      "Exterior 2nd       2051 non-null object\n",
      "Mas Vnr Type       2029 non-null object\n",
      "Mas Vnr Area       2029 non-null float64\n",
      "Exter Qual         2051 non-null object\n",
      "Exter Cond         2051 non-null object\n",
      "Foundation         2051 non-null object\n",
      "Bsmt Qual          1996 non-null object\n",
      "Bsmt Cond          1996 non-null object\n",
      "Bsmt Exposure      1993 non-null object\n",
      "BsmtFin Type 1     1996 non-null object\n",
      "BsmtFin SF 1       2050 non-null float64\n",
      "BsmtFin Type 2     1995 non-null object\n",
      "BsmtFin SF 2       2050 non-null float64\n",
      "Bsmt Unf SF        2050 non-null float64\n",
      "Total Bsmt SF      2050 non-null float64\n",
      "Heating            2051 non-null object\n",
      "Heating QC         2051 non-null object\n",
      "Central Air        2051 non-null object\n",
      "Electrical         2051 non-null object\n",
      "1st Flr SF         2051 non-null int64\n",
      "2nd Flr SF         2051 non-null int64\n",
      "Low Qual Fin SF    2051 non-null int64\n",
      "Gr Liv Area        2051 non-null int64\n",
      "Bsmt Full Bath     2049 non-null float64\n",
      "Bsmt Half Bath     2049 non-null float64\n",
      "Full Bath          2051 non-null int64\n",
      "Half Bath          2051 non-null int64\n",
      "Bedroom AbvGr      2051 non-null int64\n",
      "Kitchen AbvGr      2051 non-null int64\n",
      "Kitchen Qual       2051 non-null object\n",
      "TotRms AbvGrd      2051 non-null int64\n",
      "Functional         2051 non-null object\n",
      "Fireplaces         2051 non-null int64\n",
      "Fireplace Qu       1051 non-null object\n",
      "Garage Type        1938 non-null object\n",
      "Garage Yr Blt      1937 non-null float64\n",
      "Garage Finish      1937 non-null object\n",
      "Garage Cars        2050 non-null float64\n",
      "Garage Area        2050 non-null float64\n",
      "Garage Qual        1937 non-null object\n",
      "Garage Cond        1937 non-null object\n",
      "Paved Drive        2051 non-null object\n",
      "Wood Deck SF       2051 non-null int64\n",
      "Open Porch SF      2051 non-null int64\n",
      "Enclosed Porch     2051 non-null int64\n",
      "3Ssn Porch         2051 non-null int64\n",
      "Screen Porch       2051 non-null int64\n",
      "Pool Area          2051 non-null int64\n",
      "Pool QC            9 non-null object\n",
      "Fence              400 non-null object\n",
      "Misc Feature       65 non-null object\n",
      "Misc Val           2051 non-null int64\n",
      "Mo Sold            2051 non-null int64\n",
      "Yr Sold            2051 non-null int64\n",
      "Sale Type          2051 non-null object\n",
      "SalePrice          2051 non-null int64\n",
      "dtypes: float64(11), int64(24), object(46)\n",
      "memory usage: 1.3+ MB\n"
     ]
    }
   ],
   "source": [
    "train.info()"
   ]
  },
  {
   "cell_type": "code",
   "execution_count": 15,
   "metadata": {},
   "outputs": [
    {
     "data": {
      "text/html": [
       "<div>\n",
       "<style scoped>\n",
       "    .dataframe tbody tr th:only-of-type {\n",
       "        vertical-align: middle;\n",
       "    }\n",
       "\n",
       "    .dataframe tbody tr th {\n",
       "        vertical-align: top;\n",
       "    }\n",
       "\n",
       "    .dataframe thead th {\n",
       "        text-align: right;\n",
       "    }\n",
       "</style>\n",
       "<table border=\"1\" class=\"dataframe\">\n",
       "  <thead>\n",
       "    <tr style=\"text-align: right;\">\n",
       "      <th></th>\n",
       "      <th>Id</th>\n",
       "      <th>Lot Frontage</th>\n",
       "      <th>Lot Area</th>\n",
       "      <th>Year Built</th>\n",
       "      <th>Year Remod/Add</th>\n",
       "      <th>Mas Vnr Area</th>\n",
       "      <th>BsmtFin SF 1</th>\n",
       "      <th>BsmtFin SF 2</th>\n",
       "      <th>Bsmt Unf SF</th>\n",
       "      <th>Total Bsmt SF</th>\n",
       "      <th>...</th>\n",
       "      <th>Wood Deck SF</th>\n",
       "      <th>Open Porch SF</th>\n",
       "      <th>Enclosed Porch</th>\n",
       "      <th>3Ssn Porch</th>\n",
       "      <th>Screen Porch</th>\n",
       "      <th>Pool Area</th>\n",
       "      <th>Misc Val</th>\n",
       "      <th>Mo Sold</th>\n",
       "      <th>Yr Sold</th>\n",
       "      <th>SalePrice</th>\n",
       "    </tr>\n",
       "  </thead>\n",
       "  <tbody>\n",
       "    <tr>\n",
       "      <th>count</th>\n",
       "      <td>2051.000000</td>\n",
       "      <td>1721.000000</td>\n",
       "      <td>2051.000000</td>\n",
       "      <td>2051.000000</td>\n",
       "      <td>2051.000000</td>\n",
       "      <td>2029.000000</td>\n",
       "      <td>2050.000000</td>\n",
       "      <td>2050.000000</td>\n",
       "      <td>2050.000000</td>\n",
       "      <td>2050.000000</td>\n",
       "      <td>...</td>\n",
       "      <td>2051.000000</td>\n",
       "      <td>2051.000000</td>\n",
       "      <td>2051.000000</td>\n",
       "      <td>2051.000000</td>\n",
       "      <td>2051.000000</td>\n",
       "      <td>2051.000000</td>\n",
       "      <td>2051.000000</td>\n",
       "      <td>2051.000000</td>\n",
       "      <td>2051.000000</td>\n",
       "      <td>2051.000000</td>\n",
       "    </tr>\n",
       "    <tr>\n",
       "      <th>mean</th>\n",
       "      <td>1474.033642</td>\n",
       "      <td>69.055200</td>\n",
       "      <td>10065.208191</td>\n",
       "      <td>1971.708922</td>\n",
       "      <td>1984.190151</td>\n",
       "      <td>99.695909</td>\n",
       "      <td>442.300488</td>\n",
       "      <td>47.959024</td>\n",
       "      <td>567.728293</td>\n",
       "      <td>1057.987805</td>\n",
       "      <td>...</td>\n",
       "      <td>93.833740</td>\n",
       "      <td>47.556802</td>\n",
       "      <td>22.571916</td>\n",
       "      <td>2.591419</td>\n",
       "      <td>16.511458</td>\n",
       "      <td>2.397855</td>\n",
       "      <td>51.574354</td>\n",
       "      <td>6.219893</td>\n",
       "      <td>2007.775719</td>\n",
       "      <td>181469.701609</td>\n",
       "    </tr>\n",
       "    <tr>\n",
       "      <th>std</th>\n",
       "      <td>843.980841</td>\n",
       "      <td>23.260653</td>\n",
       "      <td>6742.488909</td>\n",
       "      <td>30.177889</td>\n",
       "      <td>21.036250</td>\n",
       "      <td>174.963129</td>\n",
       "      <td>461.204124</td>\n",
       "      <td>165.000901</td>\n",
       "      <td>444.954786</td>\n",
       "      <td>449.410704</td>\n",
       "      <td>...</td>\n",
       "      <td>128.549416</td>\n",
       "      <td>66.747241</td>\n",
       "      <td>59.845110</td>\n",
       "      <td>25.229615</td>\n",
       "      <td>57.374204</td>\n",
       "      <td>37.782570</td>\n",
       "      <td>573.393985</td>\n",
       "      <td>2.744736</td>\n",
       "      <td>1.312014</td>\n",
       "      <td>79258.659352</td>\n",
       "    </tr>\n",
       "    <tr>\n",
       "      <th>min</th>\n",
       "      <td>1.000000</td>\n",
       "      <td>21.000000</td>\n",
       "      <td>1300.000000</td>\n",
       "      <td>1872.000000</td>\n",
       "      <td>1950.000000</td>\n",
       "      <td>0.000000</td>\n",
       "      <td>0.000000</td>\n",
       "      <td>0.000000</td>\n",
       "      <td>0.000000</td>\n",
       "      <td>0.000000</td>\n",
       "      <td>...</td>\n",
       "      <td>0.000000</td>\n",
       "      <td>0.000000</td>\n",
       "      <td>0.000000</td>\n",
       "      <td>0.000000</td>\n",
       "      <td>0.000000</td>\n",
       "      <td>0.000000</td>\n",
       "      <td>0.000000</td>\n",
       "      <td>1.000000</td>\n",
       "      <td>2006.000000</td>\n",
       "      <td>12789.000000</td>\n",
       "    </tr>\n",
       "    <tr>\n",
       "      <th>25%</th>\n",
       "      <td>753.500000</td>\n",
       "      <td>58.000000</td>\n",
       "      <td>7500.000000</td>\n",
       "      <td>1953.500000</td>\n",
       "      <td>1964.500000</td>\n",
       "      <td>0.000000</td>\n",
       "      <td>0.000000</td>\n",
       "      <td>0.000000</td>\n",
       "      <td>220.000000</td>\n",
       "      <td>793.000000</td>\n",
       "      <td>...</td>\n",
       "      <td>0.000000</td>\n",
       "      <td>0.000000</td>\n",
       "      <td>0.000000</td>\n",
       "      <td>0.000000</td>\n",
       "      <td>0.000000</td>\n",
       "      <td>0.000000</td>\n",
       "      <td>0.000000</td>\n",
       "      <td>4.000000</td>\n",
       "      <td>2007.000000</td>\n",
       "      <td>129825.000000</td>\n",
       "    </tr>\n",
       "    <tr>\n",
       "      <th>50%</th>\n",
       "      <td>1486.000000</td>\n",
       "      <td>68.000000</td>\n",
       "      <td>9430.000000</td>\n",
       "      <td>1974.000000</td>\n",
       "      <td>1993.000000</td>\n",
       "      <td>0.000000</td>\n",
       "      <td>368.000000</td>\n",
       "      <td>0.000000</td>\n",
       "      <td>474.500000</td>\n",
       "      <td>994.500000</td>\n",
       "      <td>...</td>\n",
       "      <td>0.000000</td>\n",
       "      <td>27.000000</td>\n",
       "      <td>0.000000</td>\n",
       "      <td>0.000000</td>\n",
       "      <td>0.000000</td>\n",
       "      <td>0.000000</td>\n",
       "      <td>0.000000</td>\n",
       "      <td>6.000000</td>\n",
       "      <td>2008.000000</td>\n",
       "      <td>162500.000000</td>\n",
       "    </tr>\n",
       "    <tr>\n",
       "      <th>75%</th>\n",
       "      <td>2198.000000</td>\n",
       "      <td>80.000000</td>\n",
       "      <td>11513.500000</td>\n",
       "      <td>2001.000000</td>\n",
       "      <td>2004.000000</td>\n",
       "      <td>161.000000</td>\n",
       "      <td>733.750000</td>\n",
       "      <td>0.000000</td>\n",
       "      <td>811.000000</td>\n",
       "      <td>1318.750000</td>\n",
       "      <td>...</td>\n",
       "      <td>168.000000</td>\n",
       "      <td>70.000000</td>\n",
       "      <td>0.000000</td>\n",
       "      <td>0.000000</td>\n",
       "      <td>0.000000</td>\n",
       "      <td>0.000000</td>\n",
       "      <td>0.000000</td>\n",
       "      <td>8.000000</td>\n",
       "      <td>2009.000000</td>\n",
       "      <td>214000.000000</td>\n",
       "    </tr>\n",
       "    <tr>\n",
       "      <th>max</th>\n",
       "      <td>2930.000000</td>\n",
       "      <td>313.000000</td>\n",
       "      <td>159000.000000</td>\n",
       "      <td>2010.000000</td>\n",
       "      <td>2010.000000</td>\n",
       "      <td>1600.000000</td>\n",
       "      <td>5644.000000</td>\n",
       "      <td>1474.000000</td>\n",
       "      <td>2336.000000</td>\n",
       "      <td>6110.000000</td>\n",
       "      <td>...</td>\n",
       "      <td>1424.000000</td>\n",
       "      <td>547.000000</td>\n",
       "      <td>432.000000</td>\n",
       "      <td>508.000000</td>\n",
       "      <td>490.000000</td>\n",
       "      <td>800.000000</td>\n",
       "      <td>17000.000000</td>\n",
       "      <td>12.000000</td>\n",
       "      <td>2010.000000</td>\n",
       "      <td>611657.000000</td>\n",
       "    </tr>\n",
       "  </tbody>\n",
       "</table>\n",
       "<p>8 rows × 35 columns</p>\n",
       "</div>"
      ],
      "text/plain": [
       "                Id  Lot Frontage       Lot Area   Year Built  Year Remod/Add  \\\n",
       "count  2051.000000   1721.000000    2051.000000  2051.000000     2051.000000   \n",
       "mean   1474.033642     69.055200   10065.208191  1971.708922     1984.190151   \n",
       "std     843.980841     23.260653    6742.488909    30.177889       21.036250   \n",
       "min       1.000000     21.000000    1300.000000  1872.000000     1950.000000   \n",
       "25%     753.500000     58.000000    7500.000000  1953.500000     1964.500000   \n",
       "50%    1486.000000     68.000000    9430.000000  1974.000000     1993.000000   \n",
       "75%    2198.000000     80.000000   11513.500000  2001.000000     2004.000000   \n",
       "max    2930.000000    313.000000  159000.000000  2010.000000     2010.000000   \n",
       "\n",
       "       Mas Vnr Area  BsmtFin SF 1  BsmtFin SF 2  Bsmt Unf SF  Total Bsmt SF  \\\n",
       "count   2029.000000   2050.000000   2050.000000  2050.000000    2050.000000   \n",
       "mean      99.695909    442.300488     47.959024   567.728293    1057.987805   \n",
       "std      174.963129    461.204124    165.000901   444.954786     449.410704   \n",
       "min        0.000000      0.000000      0.000000     0.000000       0.000000   \n",
       "25%        0.000000      0.000000      0.000000   220.000000     793.000000   \n",
       "50%        0.000000    368.000000      0.000000   474.500000     994.500000   \n",
       "75%      161.000000    733.750000      0.000000   811.000000    1318.750000   \n",
       "max     1600.000000   5644.000000   1474.000000  2336.000000    6110.000000   \n",
       "\n",
       "       ...  Wood Deck SF  Open Porch SF  Enclosed Porch   3Ssn Porch  \\\n",
       "count  ...   2051.000000    2051.000000     2051.000000  2051.000000   \n",
       "mean   ...     93.833740      47.556802       22.571916     2.591419   \n",
       "std    ...    128.549416      66.747241       59.845110    25.229615   \n",
       "min    ...      0.000000       0.000000        0.000000     0.000000   \n",
       "25%    ...      0.000000       0.000000        0.000000     0.000000   \n",
       "50%    ...      0.000000      27.000000        0.000000     0.000000   \n",
       "75%    ...    168.000000      70.000000        0.000000     0.000000   \n",
       "max    ...   1424.000000     547.000000      432.000000   508.000000   \n",
       "\n",
       "       Screen Porch    Pool Area      Misc Val      Mo Sold      Yr Sold  \\\n",
       "count   2051.000000  2051.000000   2051.000000  2051.000000  2051.000000   \n",
       "mean      16.511458     2.397855     51.574354     6.219893  2007.775719   \n",
       "std       57.374204    37.782570    573.393985     2.744736     1.312014   \n",
       "min        0.000000     0.000000      0.000000     1.000000  2006.000000   \n",
       "25%        0.000000     0.000000      0.000000     4.000000  2007.000000   \n",
       "50%        0.000000     0.000000      0.000000     6.000000  2008.000000   \n",
       "75%        0.000000     0.000000      0.000000     8.000000  2009.000000   \n",
       "max      490.000000   800.000000  17000.000000    12.000000  2010.000000   \n",
       "\n",
       "           SalePrice  \n",
       "count    2051.000000  \n",
       "mean   181469.701609  \n",
       "std     79258.659352  \n",
       "min     12789.000000  \n",
       "25%    129825.000000  \n",
       "50%    162500.000000  \n",
       "75%    214000.000000  \n",
       "max    611657.000000  \n",
       "\n",
       "[8 rows x 35 columns]"
      ]
     },
     "execution_count": 15,
     "metadata": {},
     "output_type": "execute_result"
    }
   ],
   "source": [
    "train.describe()"
   ]
  },
  {
   "cell_type": "markdown",
   "metadata": {},
   "source": [
    "<a id='Data_Cleaning'></a>\n",
    "# 2) Data Cleaning"
   ]
  },
  {
   "cell_type": "markdown",
   "metadata": {},
   "source": [
    "<a id='allnull'></a>\n",
    "### 2.1) Identify all columns with Null Values"
   ]
  },
  {
   "cell_type": "code",
   "execution_count": 16,
   "metadata": {},
   "outputs": [
    {
     "data": {
      "text/plain": [
       "Pool QC           2042\n",
       "Misc Feature      1986\n",
       "Alley             1911\n",
       "Fence             1651\n",
       "Fireplace Qu      1000\n",
       "Lot Frontage       330\n",
       "Garage Finish      114\n",
       "Garage Cond        114\n",
       "Garage Qual        114\n",
       "Garage Yr Blt      114\n",
       "Garage Type        113\n",
       "Bsmt Exposure       58\n",
       "BsmtFin Type 2      56\n",
       "BsmtFin Type 1      55\n",
       "Bsmt Cond           55\n",
       "Bsmt Qual           55\n",
       "Mas Vnr Type        22\n",
       "Mas Vnr Area        22\n",
       "Bsmt Half Bath       2\n",
       "Bsmt Full Bath       2\n",
       "Garage Cars          1\n",
       "Garage Area          1\n",
       "Bsmt Unf SF          1\n",
       "BsmtFin SF 2         1\n",
       "Total Bsmt SF        1\n",
       "BsmtFin SF 1         1\n",
       "dtype: int64"
      ]
     },
     "execution_count": 16,
     "metadata": {},
     "output_type": "execute_result"
    }
   ],
   "source": [
    "train.isnull().sum().sort_values(ascending = False).head(26)"
   ]
  },
  {
   "cell_type": "markdown",
   "metadata": {},
   "source": [
    "<h1><center>Null Values Data Dictionary</center></h1>\n",
    "\n",
    "|Feature|Type|Number of Null|Description|\n",
    "|---|---|---|---|\n",
    "|Pool QC|Object|2042| Null Value should be NA(Ordinal)|\n",
    "|Misc Feature|Object|1986| Null Value should be NA(Ordinal)|\n",
    "|Alley|Object|1911|Null Value should be NA(Nominal)|\n",
    "|Fence|Object|1651|Null Value should be NA(Ordinal)|\n",
    "|Fireplace Qu|Object|1000|Null Value should be NA(Ordinal)|\n",
    "|Lot Frontage|Int|330|Null Value should be Null/0(Continous)|\n",
    "|Garage Finish|Object|114|Null Value should be NA(Ordinal)|\n",
    "|Garage Cond|Object|114|Null Value should be NA(Ordinal)|\n",
    "|Garage Qual|Object|114|Null Value should be NA(Ordinal)|\n",
    "|Garage Yr Blt|Int|114| Null Value remain Null(Discete)|\n",
    "|Garage Type|Object|113|Null Value should be NA(Nomaial)|\n",
    "|Bsmt Exposure|Object|58|Null Values should be NA(Ordinal)|\n",
    "|BsmtFin Type 2|Object|56|Null Values should be NA(Ordinal)|\n",
    "|BsmtFin Type 1|Object|55|Null Values should be NA(Ordinal)|\n",
    "|Bsmt Cond|Object|55|Null Values should be NA(Ordinal)|\n",
    "|Bsmt Qual|Object|55|Null Values should be NA(Ordinal)|\n",
    "|Mas Vnr Type|Object|22|Null Values should be None(Nominal)|\n",
    "|Mas Vnr Area|Int|22|Null Values should be 0(Continuous)|\n",
    "|Bsmt Half Bath|Int|2|Null Values should be 0(Discrete)|\n",
    "|Bsmt Full Bath|Int|2|Null Values should be 0(Discrete)|\n",
    "|Garage Cars|Int|1|Null Values should be 0(Discrete)|\n",
    "|Garage Area|Int|1|Null Values should be 0(Continous)|  \n",
    "|Bsmt Unf SF|Int|1|Null Values should be 0(Continous)|\n",
    "|BsmtFin SF 2|Int|1|Null Values should be 0|\n",
    "|Total Bsmt SF|Int|1|Null Values should be 0|\n",
    "|BsmtFin SF 1|Int|1|Null Values should be 0|"
   ]
  },
  {
   "cell_type": "markdown",
   "metadata": {},
   "source": [
    "<a id='hugenull'></a>\n",
    "### 2.2) Indentify Variables with huge Null Values "
   ]
  },
  {
   "cell_type": "code",
   "execution_count": 17,
   "metadata": {},
   "outputs": [
    {
     "data": {
      "text/html": [
       "<div>\n",
       "<style scoped>\n",
       "    .dataframe tbody tr th:only-of-type {\n",
       "        vertical-align: middle;\n",
       "    }\n",
       "\n",
       "    .dataframe tbody tr th {\n",
       "        vertical-align: top;\n",
       "    }\n",
       "\n",
       "    .dataframe thead th {\n",
       "        text-align: right;\n",
       "    }\n",
       "</style>\n",
       "<table border=\"1\" class=\"dataframe\">\n",
       "  <thead>\n",
       "    <tr style=\"text-align: right;\">\n",
       "      <th></th>\n",
       "      <th>SalePrice</th>\n",
       "      <th>Misc Feature</th>\n",
       "      <th>Fence</th>\n",
       "      <th>Pool QC</th>\n",
       "      <th>Alley</th>\n",
       "    </tr>\n",
       "  </thead>\n",
       "  <tbody>\n",
       "    <tr>\n",
       "      <th>0</th>\n",
       "      <td>130500</td>\n",
       "      <td>NaN</td>\n",
       "      <td>NaN</td>\n",
       "      <td>NaN</td>\n",
       "      <td>NaN</td>\n",
       "    </tr>\n",
       "    <tr>\n",
       "      <th>1</th>\n",
       "      <td>220000</td>\n",
       "      <td>NaN</td>\n",
       "      <td>NaN</td>\n",
       "      <td>NaN</td>\n",
       "      <td>NaN</td>\n",
       "    </tr>\n",
       "    <tr>\n",
       "      <th>2</th>\n",
       "      <td>109000</td>\n",
       "      <td>NaN</td>\n",
       "      <td>NaN</td>\n",
       "      <td>NaN</td>\n",
       "      <td>NaN</td>\n",
       "    </tr>\n",
       "    <tr>\n",
       "      <th>3</th>\n",
       "      <td>174000</td>\n",
       "      <td>NaN</td>\n",
       "      <td>NaN</td>\n",
       "      <td>NaN</td>\n",
       "      <td>NaN</td>\n",
       "    </tr>\n",
       "    <tr>\n",
       "      <th>4</th>\n",
       "      <td>138500</td>\n",
       "      <td>NaN</td>\n",
       "      <td>NaN</td>\n",
       "      <td>NaN</td>\n",
       "      <td>NaN</td>\n",
       "    </tr>\n",
       "  </tbody>\n",
       "</table>\n",
       "</div>"
      ],
      "text/plain": [
       "   SalePrice Misc Feature Fence Pool QC Alley\n",
       "0     130500          NaN   NaN     NaN   NaN\n",
       "1     220000          NaN   NaN     NaN   NaN\n",
       "2     109000          NaN   NaN     NaN   NaN\n",
       "3     174000          NaN   NaN     NaN   NaN\n",
       "4     138500          NaN   NaN     NaN   NaN"
      ]
     },
     "execution_count": 17,
     "metadata": {},
     "output_type": "execute_result"
    }
   ],
   "source": [
    "# Create DataFrame with variables with too many null values with sale price\n",
    "train_null = train[['SalePrice', 'Misc Feature', 'Fence', 'Pool QC', 'Alley']]\n",
    "train_null.head()"
   ]
  },
  {
   "cell_type": "code",
   "execution_count": 18,
   "metadata": {},
   "outputs": [],
   "source": [
    "train_null = train_null.fillna(\"NA\")"
   ]
  },
  {
   "cell_type": "code",
   "execution_count": 19,
   "metadata": {},
   "outputs": [
    {
     "data": {
      "image/png": "[encoded data removed]",
      "text/plain": [
       "<Figure size 1440x2160 with 5 Axes>"
      ]
     },
     "metadata": {
      "needs_background": "light"
     },
     "output_type": "display_data"
    }
   ],
   "source": [
    "# Boxplot to see if categories have relationship with Saleprice\n",
    "boxplot(train_null, (20,30), sale = 'SalePrice')"
   ]
  },
  {
   "cell_type": "markdown",
   "metadata": {},
   "source": [
    "From the Barplots. It would seem that the columns there might have been some correlation with the Saleprice. However, there are too many null values, when they are changed to the NA category, the correlation is gone. Hence, these columns are not usable to predict SalePrice and shall be dropped."
   ]
  },
  {
   "cell_type": "code",
   "execution_count": 20,
   "metadata": {},
   "outputs": [
    {
     "data": {
      "text/html": [
       "<div>\n",
       "<style scoped>\n",
       "    .dataframe tbody tr th:only-of-type {\n",
       "        vertical-align: middle;\n",
       "    }\n",
       "\n",
       "    .dataframe tbody tr th {\n",
       "        vertical-align: top;\n",
       "    }\n",
       "\n",
       "    .dataframe thead th {\n",
       "        text-align: right;\n",
       "    }\n",
       "</style>\n",
       "<table border=\"1\" class=\"dataframe\">\n",
       "  <thead>\n",
       "    <tr style=\"text-align: right;\">\n",
       "      <th></th>\n",
       "      <th>SalePrice</th>\n",
       "      <th>Misc Feature_Elev</th>\n",
       "      <th>Misc Feature_Gar2</th>\n",
       "      <th>Misc Feature_NA</th>\n",
       "      <th>Misc Feature_Othr</th>\n",
       "      <th>Misc Feature_Shed</th>\n",
       "      <th>Misc Feature_TenC</th>\n",
       "      <th>Fence_GdPrv</th>\n",
       "      <th>Fence_GdWo</th>\n",
       "      <th>Fence_MnPrv</th>\n",
       "      <th>Fence_MnWw</th>\n",
       "      <th>Fence_NA</th>\n",
       "      <th>Pool QC_Ex</th>\n",
       "      <th>Pool QC_Fa</th>\n",
       "      <th>Pool QC_Gd</th>\n",
       "      <th>Pool QC_NA</th>\n",
       "      <th>Pool QC_TA</th>\n",
       "      <th>Alley_Grvl</th>\n",
       "      <th>Alley_NA</th>\n",
       "      <th>Alley_Pave</th>\n",
       "    </tr>\n",
       "  </thead>\n",
       "  <tbody>\n",
       "    <tr>\n",
       "      <th>0</th>\n",
       "      <td>130500</td>\n",
       "      <td>0</td>\n",
       "      <td>0</td>\n",
       "      <td>1</td>\n",
       "      <td>0</td>\n",
       "      <td>0</td>\n",
       "      <td>0</td>\n",
       "      <td>0</td>\n",
       "      <td>0</td>\n",
       "      <td>0</td>\n",
       "      <td>0</td>\n",
       "      <td>1</td>\n",
       "      <td>0</td>\n",
       "      <td>0</td>\n",
       "      <td>0</td>\n",
       "      <td>1</td>\n",
       "      <td>0</td>\n",
       "      <td>0</td>\n",
       "      <td>1</td>\n",
       "      <td>0</td>\n",
       "    </tr>\n",
       "    <tr>\n",
       "      <th>1</th>\n",
       "      <td>220000</td>\n",
       "      <td>0</td>\n",
       "      <td>0</td>\n",
       "      <td>1</td>\n",
       "      <td>0</td>\n",
       "      <td>0</td>\n",
       "      <td>0</td>\n",
       "      <td>0</td>\n",
       "      <td>0</td>\n",
       "      <td>0</td>\n",
       "      <td>0</td>\n",
       "      <td>1</td>\n",
       "      <td>0</td>\n",
       "      <td>0</td>\n",
       "      <td>0</td>\n",
       "      <td>1</td>\n",
       "      <td>0</td>\n",
       "      <td>0</td>\n",
       "      <td>1</td>\n",
       "      <td>0</td>\n",
       "    </tr>\n",
       "    <tr>\n",
       "      <th>2</th>\n",
       "      <td>109000</td>\n",
       "      <td>0</td>\n",
       "      <td>0</td>\n",
       "      <td>1</td>\n",
       "      <td>0</td>\n",
       "      <td>0</td>\n",
       "      <td>0</td>\n",
       "      <td>0</td>\n",
       "      <td>0</td>\n",
       "      <td>0</td>\n",
       "      <td>0</td>\n",
       "      <td>1</td>\n",
       "      <td>0</td>\n",
       "      <td>0</td>\n",
       "      <td>0</td>\n",
       "      <td>1</td>\n",
       "      <td>0</td>\n",
       "      <td>0</td>\n",
       "      <td>1</td>\n",
       "      <td>0</td>\n",
       "    </tr>\n",
       "    <tr>\n",
       "      <th>3</th>\n",
       "      <td>174000</td>\n",
       "      <td>0</td>\n",
       "      <td>0</td>\n",
       "      <td>1</td>\n",
       "      <td>0</td>\n",
       "      <td>0</td>\n",
       "      <td>0</td>\n",
       "      <td>0</td>\n",
       "      <td>0</td>\n",
       "      <td>0</td>\n",
       "      <td>0</td>\n",
       "      <td>1</td>\n",
       "      <td>0</td>\n",
       "      <td>0</td>\n",
       "      <td>0</td>\n",
       "      <td>1</td>\n",
       "      <td>0</td>\n",
       "      <td>0</td>\n",
       "      <td>1</td>\n",
       "      <td>0</td>\n",
       "    </tr>\n",
       "    <tr>\n",
       "      <th>4</th>\n",
       "      <td>138500</td>\n",
       "      <td>0</td>\n",
       "      <td>0</td>\n",
       "      <td>1</td>\n",
       "      <td>0</td>\n",
       "      <td>0</td>\n",
       "      <td>0</td>\n",
       "      <td>0</td>\n",
       "      <td>0</td>\n",
       "      <td>0</td>\n",
       "      <td>0</td>\n",
       "      <td>1</td>\n",
       "      <td>0</td>\n",
       "      <td>0</td>\n",
       "      <td>0</td>\n",
       "      <td>1</td>\n",
       "      <td>0</td>\n",
       "      <td>0</td>\n",
       "      <td>1</td>\n",
       "      <td>0</td>\n",
       "    </tr>\n",
       "  </tbody>\n",
       "</table>\n",
       "</div>"
      ],
      "text/plain": [
       "   SalePrice  Misc Feature_Elev  Misc Feature_Gar2  Misc Feature_NA  \\\n",
       "0     130500                  0                  0                1   \n",
       "1     220000                  0                  0                1   \n",
       "2     109000                  0                  0                1   \n",
       "3     174000                  0                  0                1   \n",
       "4     138500                  0                  0                1   \n",
       "\n",
       "   Misc Feature_Othr  Misc Feature_Shed  Misc Feature_TenC  Fence_GdPrv  \\\n",
       "0                  0                  0                  0            0   \n",
       "1                  0                  0                  0            0   \n",
       "2                  0                  0                  0            0   \n",
       "3                  0                  0                  0            0   \n",
       "4                  0                  0                  0            0   \n",
       "\n",
       "   Fence_GdWo  Fence_MnPrv  Fence_MnWw  Fence_NA  Pool QC_Ex  Pool QC_Fa  \\\n",
       "0           0            0           0         1           0           0   \n",
       "1           0            0           0         1           0           0   \n",
       "2           0            0           0         1           0           0   \n",
       "3           0            0           0         1           0           0   \n",
       "4           0            0           0         1           0           0   \n",
       "\n",
       "   Pool QC_Gd  Pool QC_NA  Pool QC_TA  Alley_Grvl  Alley_NA  Alley_Pave  \n",
       "0           0           1           0           0         1           0  \n",
       "1           0           1           0           0         1           0  \n",
       "2           0           1           0           0         1           0  \n",
       "3           0           1           0           0         1           0  \n",
       "4           0           1           0           0         1           0  "
      ]
     },
     "execution_count": 20,
     "metadata": {},
     "output_type": "execute_result"
    }
   ],
   "source": [
    "# Change columns to get_dummies\n",
    "train_null_dummies = pd.get_dummies(train_null)\n",
    "train_null_dummies.head()"
   ]
  },
  {
   "cell_type": "code",
   "execution_count": 21,
   "metadata": {
    "scrolled": true
   },
   "outputs": [
    {
     "data": {
      "text/plain": [
       "Text(0.5, 1.0, 'Heatmap for Categorical Null Variables')"
      ]
     },
     "execution_count": 21,
     "metadata": {},
     "output_type": "execute_result"
    },
    {
     "data": {
      "image/png": "[encoded data removed]",
      "text/plain": [
       "<Figure size 1440x720 with 2 Axes>"
      ]
     },
     "metadata": {
      "needs_background": "light"
     },
     "output_type": "display_data"
    }
   ],
   "source": [
    "# Check if null Values are correlated with price\n",
    "heatmap(train_null_dummies, figuresize = (20,10))\n",
    "plt.title('Heatmap for Categorical Null Variables', fontsize = 20)"
   ]
  },
  {
   "cell_type": "markdown",
   "metadata": {},
   "source": [
    "Based on the Heatmap, there is very little correlation between the dummy variables to SalePrice. Hence we shall drop all the columns."
   ]
  },
  {
   "cell_type": "code",
   "execution_count": 22,
   "metadata": {},
   "outputs": [],
   "source": [
    "# Drop Misc Feature, Fence, Pool QC, Alley for having too many null values and are not correlated with sales price\n",
    "train = train.drop( axis = 1, columns = train[['Misc Feature', 'Fence', 'Pool QC', 'Alley']])"
   ]
  },
  {
   "cell_type": "code",
   "execution_count": 23,
   "metadata": {},
   "outputs": [],
   "source": [
    "# Rename Columns\n",
    "train = train.rename(columns = lambda x : rename(x))"
   ]
  },
  {
   "cell_type": "markdown",
   "metadata": {},
   "source": [
    "<h1><center>Data Dictionary of Aimes_Iowa_Housing Dataset</center></h1>\n",
    "\n",
    "|Feature|Type|Dataset|Description|\n",
    "|---|---|---|---|\n",
    "|id|int64|train|Observation number|\n",
    "|pid|object|train|Parcel identification number  - can be used with city web site for parcel review|\n",
    "|ms_subclass|object|train|Identifies the type of dwelling involved in the sale|\n",
    "|ms_zoning|object|train|Identifies the general zoning classification of the sale|\n",
    "|lot_frontage|float64|train|Linear feet of street connected to property|\n",
    "|lot_area|int64|train|Lot size in square feet|\n",
    "|street|object|train|Type of road access to property|\n",
    "|lot_shape|object|train|General shape of property|\n",
    "|land_contour|object|train|Flatness of the property|\n",
    "|utilities|object|train|Type of utilities available|\n",
    "|lot_config|object|train|Lot configuration|\n",
    "|land_slope|object|train|Slope of property|\n",
    "|neighborhood|object|train|Physical locations within Ames city limits|\n",
    "|condition_1|object|train|Proximity to various conditions|\n",
    "|condition_2|object|train|Proximity to various conditions (if more than one is present)|\n",
    "|bldg_type|object|train|Type of dwelling|\n",
    "|house_style|object|train|Style of dwelling|\n",
    "|overall_qual|object|train|Rates the overall material and finish of the house|\n",
    "|overall_cond|object|train|Rates the overall condition of the house|\n",
    "|year_built|int64|train|Original construction date|\n",
    "|year_remod/add|int64|train|Remodel date (same as construction date if no remodeling or additions)|\n",
    "|roof_style|object|train|Type of roof|\n",
    "|roof_matl|object|train|Roof material|\n",
    "|exterior_1st|object|train|Exterior covering on house|\n",
    "|exterior_2nd|object|train|Exterior covering on house (if more than one material)|\n",
    "|mas_vnr_type|object|train|Masonry veneer type|\n",
    "|mas_vnr_area|float64|train|Masonry veneer area in square feet|\n",
    "|exter_qual|object|train|Evaluates the quality of the material on the exterior|\n",
    "|exter_cond|object|train|Evaluates the present condition of the material on the exterior|\n",
    "|foundation|object|train|Type of foundation|\n",
    "|bsmt_qual|object|train|Evaluates the height of the basement|\n",
    "|bsmt_cond|object|train|Evaluates the general condition of the basement|\n",
    "|bsmt_exposure|object|train|Refers to walkout or garden level walls|\n",
    "|bsmtfin_type_1|object|train|Rating of basement finished area|\n",
    "|bsmtfin_sf_1|float64|train|Type 1 finished square feet|\n",
    "|bsmtfin_type_2|object|train|Rating of basement finished area (if multiple types)|\n",
    "|bsmtfin_sf_2|float64|train|Type 2 finished square feet|\n",
    "|bsmt_unf_sf|float64|train|Unfinished square feet of basement area|\n",
    "|total_bsmt_sf|float64|train|Total square feet of basement area|\n",
    "|heating|object|train|Type of heating|\n",
    "|heating_qc|object|train|Heating quality and condition|\n",
    "|central_air|object|train|Central air conditioning|\n",
    "|electrical|object|train|Electrical system|\n",
    "|1st_flr_sf|int64|train|First Floor square feet|\n",
    "|2nd_flr_sf|int64|train|Second floor square feet|\n",
    "|low_qual_fin_sf|int64|train|Low quality finished square feet (all floors)|\n",
    "|gr_liv_area|int64|train|Above grade (ground) living area square feet|\n",
    "|bsmt_full_bath|float64|train|Basement full bathrooms|\n",
    "|bsmt_half_bath|float64|train|Basement half bathrooms|\n",
    "|full_bath|int64|train|Full bathrooms above grade|\n",
    "|half_bath|int64|train|Half baths above grade|\n",
    "|bedroom_abvgr|int64|train|Bedrooms above grade (does NOT include basement bedrooms)|\n",
    "|kitchen_abvgr|int64|train|Kitchens above grade|\n",
    "|kitchen_qual|object|train|Kitchen quality|\n",
    "|totrms_abvgrd|int64|train|Total rooms above grade (does not include bathrooms)|\n",
    "|functional|object|train|Home functionality (Assume typical unless deductions are warranted)|\n",
    "|fireplaces|int64|train|Number of fireplaces|\n",
    "|fireplace_qu|object|train|Fireplace quality|\n",
    "|garage_type|object|train|Garage location|\n",
    "|garage_yr_blt|float64|train|Year garage was built|\n",
    "|garage_finish|object|train|Interior finish of the garage|\n",
    "|garage_cars|float64|train|Size of garage in car capacity|\n",
    "|garage_area|float64|train|Size of garage in square feet|\n",
    "|garage_qual|object|train|Garage quality|\n",
    "|garage_cond|object|train|Garage condition|\n",
    "|pved_drive|object|train|Paved driveway|\n",
    "|wood_deck SF|int64|train|Wood deck area in square feet|\n",
    "|open_porch SF|int64|train|Open porch area in square feet|\n",
    "|enclosed_porch|int64|train|Enclosed porch area in square feet|\n",
    "|3ssn_porch|int64|train|Three season porch area in square feet|\n",
    "|screen_porch|int64|train|Screen porch area in square feet|\n",
    "|pool_area|int64|train|Pool area in square feet|\n",
    "|misc_val|int64|train|$Value of miscellaneous feature|\n",
    "|mo_sold|int64|train|Month Sold (MM)|\n",
    "|yr_sold|int64|train|Year Sold (YYYY)|\n",
    "|sale_type|object|train|Type of sale|\n",
    "|saleprice|int64|train|Condition of sale|"
   ]
  },
  {
   "cell_type": "markdown",
   "metadata": {},
   "source": [
    "The Complete Data Description can be found [here](http://jse.amstat.org/v19n3/decock/DataDocumentation.txt)"
   ]
  },
  {
   "cell_type": "markdown",
   "metadata": {},
   "source": [
    "<a id='checkoutliers'></a>\n",
    "### 2.3) Check for Outliers"
   ]
  },
  {
   "cell_type": "code",
   "execution_count": null,
   "metadata": {},
   "outputs": [
    {
     "data": {
      "text/html": [
       "<div>\n",
       "<style scoped>\n",
       "    .dataframe tbody tr th:only-of-type {\n",
       "        vertical-align: middle;\n",
       "    }\n",
       "\n",
       "    .dataframe tbody tr th {\n",
       "        vertical-align: top;\n",
       "    }\n",
       "\n",
       "    .dataframe thead th {\n",
       "        text-align: right;\n",
       "    }\n",
       "</style>\n",
       "<table border=\"1\" class=\"dataframe\">\n",
       "  <thead>\n",
       "    <tr style=\"text-align: right;\">\n",
       "      <th></th>\n",
       "      <th>saleprice</th>\n",
       "      <th>gr_liv_area</th>\n",
       "    </tr>\n",
       "  </thead>\n",
       "  <tbody>\n",
       "    <tr>\n",
       "      <th>0</th>\n",
       "      <td>130500</td>\n",
       "      <td>1479</td>\n",
       "    </tr>\n",
       "    <tr>\n",
       "      <th>1</th>\n",
       "      <td>220000</td>\n",
       "      <td>2122</td>\n",
       "    </tr>\n",
       "    <tr>\n",
       "      <th>2</th>\n",
       "      <td>109000</td>\n",
       "      <td>1057</td>\n",
       "    </tr>\n",
       "    <tr>\n",
       "      <th>3</th>\n",
       "      <td>174000</td>\n",
       "      <td>1444</td>\n",
       "    </tr>\n",
       "    <tr>\n",
       "      <th>4</th>\n",
       "      <td>138500</td>\n",
       "      <td>1445</td>\n",
       "    </tr>\n",
       "  </tbody>\n",
       "</table>\n",
       "</div>"
      ],
      "text/plain": [
       "   saleprice  gr_liv_area\n",
       "0     130500         1479\n",
       "1     220000         2122\n",
       "2     109000         1057\n",
       "3     174000         1444\n",
       "4     138500         1445"
      ]
     },
     "execution_count": 24,
     "metadata": {},
     "output_type": "execute_result"
    }
   ],
   "source": [
    "# Looking for outliers\n",
    "train_liv_area = train[['saleprice', 'gr_liv_area']]\n",
    "train_liv_area.head()\n"
   ]
  },
  {
   "cell_type": "code",
   "execution_count": null,
   "metadata": {},
   "outputs": [
    {
     "data": {
      "text/plain": [
       "Text(0.5, 1.0, 'gr_liv_area vs saleprice')"
      ]
     },
     "execution_count": 25,
     "metadata": {},
     "output_type": "execute_result"
    },
    {
     "data": {
      "image/png": "[encoded data removed]",
      "text/plain": [
       "<Figure size 432x288 with 1 Axes>"
      ]
     },
     "metadata": {
      "needs_background": "light"
     },
     "output_type": "display_data"
    }
   ],
   "source": [
    "# Scatterplot of Gr Liv Area Against Sales Price\n",
    "sns.scatterplot(x = train_liv_area['gr_liv_area'], y = train_liv_area['saleprice'])\n",
    "plt.title(\"gr_liv_area vs saleprice\")"
   ]
  },
  {
   "cell_type": "markdown",
   "metadata": {},
   "source": [
    "There are 2 outliers in the scatterplot, it will affect the regression so we should identify them and drop the rows."
   ]
  },
  {
   "cell_type": "code",
   "execution_count": null,
   "metadata": {},
   "outputs": [
    {
     "data": {
      "text/html": [
       "<div>\n",
       "<style scoped>\n",
       "    .dataframe tbody tr th:only-of-type {\n",
       "        vertical-align: middle;\n",
       "    }\n",
       "\n",
       "    .dataframe tbody tr th {\n",
       "        vertical-align: top;\n",
       "    }\n",
       "\n",
       "    .dataframe thead th {\n",
       "        text-align: right;\n",
       "    }\n",
       "</style>\n",
       "<table border=\"1\" class=\"dataframe\">\n",
       "  <thead>\n",
       "    <tr style=\"text-align: right;\">\n",
       "      <th></th>\n",
       "      <th>id</th>\n",
       "      <th>pid</th>\n",
       "      <th>ms_subclass</th>\n",
       "      <th>ms_zoning</th>\n",
       "      <th>lot_frontage</th>\n",
       "      <th>lot_area</th>\n",
       "      <th>street</th>\n",
       "      <th>lot_shape</th>\n",
       "      <th>land_contour</th>\n",
       "      <th>utilities</th>\n",
       "      <th>...</th>\n",
       "      <th>open_porch_sf</th>\n",
       "      <th>enclosed_porch</th>\n",
       "      <th>3ssn_porch</th>\n",
       "      <th>screen_porch</th>\n",
       "      <th>pool_area</th>\n",
       "      <th>misc_val</th>\n",
       "      <th>mo_sold</th>\n",
       "      <th>yr_sold</th>\n",
       "      <th>sale_type</th>\n",
       "      <th>saleprice</th>\n",
       "    </tr>\n",
       "  </thead>\n",
       "  <tbody>\n",
       "    <tr>\n",
       "      <th>0</th>\n",
       "      <td>109</td>\n",
       "      <td>533352170</td>\n",
       "      <td>60</td>\n",
       "      <td>RL</td>\n",
       "      <td>NaN</td>\n",
       "      <td>13517</td>\n",
       "      <td>Pave</td>\n",
       "      <td>IR1</td>\n",
       "      <td>Lvl</td>\n",
       "      <td>AllPub</td>\n",
       "      <td>...</td>\n",
       "      <td>44</td>\n",
       "      <td>0</td>\n",
       "      <td>0</td>\n",
       "      <td>0</td>\n",
       "      <td>0</td>\n",
       "      <td>0</td>\n",
       "      <td>3</td>\n",
       "      <td>2010</td>\n",
       "      <td>WD</td>\n",
       "      <td>130500</td>\n",
       "    </tr>\n",
       "    <tr>\n",
       "      <th>1</th>\n",
       "      <td>544</td>\n",
       "      <td>531379050</td>\n",
       "      <td>60</td>\n",
       "      <td>RL</td>\n",
       "      <td>43.0</td>\n",
       "      <td>11492</td>\n",
       "      <td>Pave</td>\n",
       "      <td>IR1</td>\n",
       "      <td>Lvl</td>\n",
       "      <td>AllPub</td>\n",
       "      <td>...</td>\n",
       "      <td>74</td>\n",
       "      <td>0</td>\n",
       "      <td>0</td>\n",
       "      <td>0</td>\n",
       "      <td>0</td>\n",
       "      <td>0</td>\n",
       "      <td>4</td>\n",
       "      <td>2009</td>\n",
       "      <td>WD</td>\n",
       "      <td>220000</td>\n",
       "    </tr>\n",
       "    <tr>\n",
       "      <th>2</th>\n",
       "      <td>153</td>\n",
       "      <td>535304180</td>\n",
       "      <td>20</td>\n",
       "      <td>RL</td>\n",
       "      <td>68.0</td>\n",
       "      <td>7922</td>\n",
       "      <td>Pave</td>\n",
       "      <td>Reg</td>\n",
       "      <td>Lvl</td>\n",
       "      <td>AllPub</td>\n",
       "      <td>...</td>\n",
       "      <td>52</td>\n",
       "      <td>0</td>\n",
       "      <td>0</td>\n",
       "      <td>0</td>\n",
       "      <td>0</td>\n",
       "      <td>0</td>\n",
       "      <td>1</td>\n",
       "      <td>2010</td>\n",
       "      <td>WD</td>\n",
       "      <td>109000</td>\n",
       "    </tr>\n",
       "    <tr>\n",
       "      <th>3</th>\n",
       "      <td>318</td>\n",
       "      <td>916386060</td>\n",
       "      <td>60</td>\n",
       "      <td>RL</td>\n",
       "      <td>73.0</td>\n",
       "      <td>9802</td>\n",
       "      <td>Pave</td>\n",
       "      <td>Reg</td>\n",
       "      <td>Lvl</td>\n",
       "      <td>AllPub</td>\n",
       "      <td>...</td>\n",
       "      <td>0</td>\n",
       "      <td>0</td>\n",
       "      <td>0</td>\n",
       "      <td>0</td>\n",
       "      <td>0</td>\n",
       "      <td>0</td>\n",
       "      <td>4</td>\n",
       "      <td>2010</td>\n",
       "      <td>WD</td>\n",
       "      <td>174000</td>\n",
       "    </tr>\n",
       "    <tr>\n",
       "      <th>4</th>\n",
       "      <td>255</td>\n",
       "      <td>906425045</td>\n",
       "      <td>50</td>\n",
       "      <td>RL</td>\n",
       "      <td>82.0</td>\n",
       "      <td>14235</td>\n",
       "      <td>Pave</td>\n",
       "      <td>IR1</td>\n",
       "      <td>Lvl</td>\n",
       "      <td>AllPub</td>\n",
       "      <td>...</td>\n",
       "      <td>59</td>\n",
       "      <td>0</td>\n",
       "      <td>0</td>\n",
       "      <td>0</td>\n",
       "      <td>0</td>\n",
       "      <td>0</td>\n",
       "      <td>3</td>\n",
       "      <td>2010</td>\n",
       "      <td>WD</td>\n",
       "      <td>138500</td>\n",
       "    </tr>\n",
       "  </tbody>\n",
       "</table>\n",
       "<p>5 rows × 77 columns</p>\n",
       "</div>"
      ],
      "text/plain": [
       "    id        pid ms_subclass ms_zoning  lot_frontage  lot_area street  \\\n",
       "0  109  533352170          60        RL           NaN     13517   Pave   \n",
       "1  544  531379050          60        RL          43.0     11492   Pave   \n",
       "2  153  535304180          20        RL          68.0      7922   Pave   \n",
       "3  318  916386060          60        RL          73.0      9802   Pave   \n",
       "4  255  906425045          50        RL          82.0     14235   Pave   \n",
       "\n",
       "  lot_shape land_contour utilities  ... open_porch_sf enclosed_porch  \\\n",
       "0       IR1          Lvl    AllPub  ...            44              0   \n",
       "1       IR1          Lvl    AllPub  ...            74              0   \n",
       "2       Reg          Lvl    AllPub  ...            52              0   \n",
       "3       Reg          Lvl    AllPub  ...             0              0   \n",
       "4       IR1          Lvl    AllPub  ...            59              0   \n",
       "\n",
       "  3ssn_porch screen_porch pool_area misc_val mo_sold yr_sold sale_type  \\\n",
       "0          0            0         0        0       3    2010       WD    \n",
       "1          0            0         0        0       4    2009       WD    \n",
       "2          0            0         0        0       1    2010       WD    \n",
       "3          0            0         0        0       4    2010       WD    \n",
       "4          0            0         0        0       3    2010       WD    \n",
       "\n",
       "   saleprice  \n",
       "0     130500  \n",
       "1     220000  \n",
       "2     109000  \n",
       "3     174000  \n",
       "4     138500  \n",
       "\n",
       "[5 rows x 77 columns]"
      ]
     },
     "execution_count": 26,
     "metadata": {},
     "output_type": "execute_result"
    }
   ],
   "source": [
    "# Remove Houses with more than 4000 square feet\n",
    "train = train[(train['gr_liv_area'] < 4000)]\n",
    "train.head()"
   ]
  },
  {
   "cell_type": "markdown",
   "metadata": {},
   "source": [
    "<a id='checknull'></a>\n",
    "### 2.4) Check Remaining Null Values"
   ]
  },
  {
   "cell_type": "code",
   "execution_count": null,
   "metadata": {},
   "outputs": [
    {
     "name": "stdout",
     "output_type": "stream",
     "text": [
      "<class 'pandas.core.frame.DataFrame'>\n",
      "Int64Index: 2049 entries, 0 to 2050\n",
      "Data columns (total 77 columns):\n",
      "id                 2049 non-null int64\n",
      "pid                2049 non-null object\n",
      "ms_subclass        2049 non-null object\n",
      "ms_zoning          2049 non-null object\n",
      "lot_frontage       1719 non-null float64\n",
      "lot_area           2049 non-null int64\n",
      "street             2049 non-null object\n",
      "lot_shape          2049 non-null object\n",
      "land_contour       2049 non-null object\n",
      "utilities          2049 non-null object\n",
      "lot_config         2049 non-null object\n",
      "land_slope         2049 non-null object\n",
      "neighborhood       2049 non-null object\n",
      "condition_1        2049 non-null object\n",
      "condition_2        2049 non-null object\n",
      "bldg_type          2049 non-null object\n",
      "house_style        2049 non-null object\n",
      "overall_qual       2049 non-null object\n",
      "overall_cond       2049 non-null object\n",
      "year_built         2049 non-null int64\n",
      "year_remod/add     2049 non-null int64\n",
      "roof_style         2049 non-null object\n",
      "roof_matl          2049 non-null object\n",
      "exterior_1st       2049 non-null object\n",
      "exterior_2nd       2049 non-null object\n",
      "mas_vnr_type       2027 non-null object\n",
      "mas_vnr_area       2027 non-null float64\n",
      "exter_qual         2049 non-null object\n",
      "exter_cond         2049 non-null object\n",
      "foundation         2049 non-null object\n",
      "bsmt_qual          1994 non-null object\n",
      "bsmt_cond          1994 non-null object\n",
      "bsmt_exposure      1991 non-null object\n",
      "bsmtfin_type_1     1994 non-null object\n",
      "bsmtfin_sf_1       2048 non-null float64\n",
      "bsmtfin_type_2     1993 non-null object\n",
      "bsmtfin_sf_2       2048 non-null float64\n",
      "bsmt_unf_sf        2048 non-null float64\n",
      "total_bsmt_sf      2048 non-null float64\n",
      "heating            2049 non-null object\n",
      "heating_qc         2049 non-null object\n",
      "central_air        2049 non-null object\n",
      "electrical         2049 non-null object\n",
      "1st_flr_sf         2049 non-null int64\n",
      "2nd_flr_sf         2049 non-null int64\n",
      "low_qual_fin_sf    2049 non-null int64\n",
      "gr_liv_area        2049 non-null int64\n",
      "bsmt_full_bath     2047 non-null float64\n",
      "bsmt_half_bath     2047 non-null float64\n",
      "full_bath          2049 non-null int64\n",
      "half_bath          2049 non-null int64\n",
      "bedroom_abvgr      2049 non-null int64\n",
      "kitchen_abvgr      2049 non-null int64\n",
      "kitchen_qual       2049 non-null object\n",
      "totrms_abvgrd      2049 non-null int64\n",
      "functional         2049 non-null object\n",
      "fireplaces         2049 non-null int64\n",
      "fireplace_qu       1049 non-null object\n",
      "garage_type        1936 non-null object\n",
      "garage_yr_blt      1935 non-null float64\n",
      "garage_finish      1935 non-null object\n",
      "garage_cars        2048 non-null float64\n",
      "garage_area        2048 non-null float64\n",
      "garage_qual        1935 non-null object\n",
      "garage_cond        1935 non-null object\n",
      "paved_drive        2049 non-null object\n",
      "wood_deck_sf       2049 non-null int64\n",
      "open_porch_sf      2049 non-null int64\n",
      "enclosed_porch     2049 non-null int64\n",
      "3ssn_porch         2049 non-null int64\n",
      "screen_porch       2049 non-null int64\n",
      "pool_area          2049 non-null int64\n",
      "misc_val           2049 non-null int64\n",
      "mo_sold            2049 non-null int64\n",
      "yr_sold            2049 non-null int64\n",
      "sale_type          2049 non-null object\n",
      "saleprice          2049 non-null int64\n",
      "dtypes: float64(11), int64(24), object(42)\n",
      "memory usage: 1.2+ MB\n"
     ]
    }
   ],
   "source": [
    "train.info()"
   ]
  },
  {
   "cell_type": "markdown",
   "metadata": {},
   "source": [
    "<a id='splitter'></a>\n",
    "#### Split into Catergorical and Continuous variables"
   ]
  },
  {
   "cell_type": "code",
   "execution_count": null,
   "metadata": {},
   "outputs": [],
   "source": [
    "train_null_cat = train[['saleprice', 'mas_vnr_type', 'bsmt_qual', 'bsmt_cond', 'bsmt_exposure', 'bsmtfin_type_1', 'bsmtfin_type_2', 'fireplace_qu', 'garage_type', 'garage_finish', 'garage_qual', 'garage_cond']]\n",
    "train_null_cont = train[['saleprice', 'mas_vnr_area', 'lot_frontage', 'garage_yr_blt']]"
   ]
  },
  {
   "cell_type": "code",
   "execution_count": null,
   "metadata": {},
   "outputs": [
    {
     "data": {
      "text/plain": [
       "Text(0.5, 1.0, 'Heatmap for Continuous Null Variables')"
      ]
     },
     "execution_count": 29,
     "metadata": {},
     "output_type": "execute_result"
    },
    {
     "data": {
      "image/png": "[encoded data removed]",
      "text/plain": [
       "<Figure size 1080x720 with 2 Axes>"
      ]
     },
     "metadata": {
      "needs_background": "light"
     },
     "output_type": "display_data"
    }
   ],
   "source": [
    "# Plot heatmap Continuous variables to see correlation\n",
    "heatmap(train_null_cont, (15,10))\n",
    "plt.title('Heatmap for Continuous Null Variables', fontsize = 15)"
   ]
  },
  {
   "cell_type": "markdown",
   "metadata": {},
   "source": [
    "Checking the Correlation of Variables before filling up Null Values"
   ]
  },
  {
   "cell_type": "code",
   "execution_count": null,
   "metadata": {},
   "outputs": [
    {
     "data": {
      "image/png": "[encoded data removed]",
      "text/plain": [
       "<Figure size 1440x2520 with 12 Axes>"
      ]
     },
     "metadata": {
      "needs_background": "light"
     },
     "output_type": "display_data"
    }
   ],
   "source": [
    "# Plot BoxPlot for catergorical Variables\n",
    "boxplot(train_null_cat,(20,35), 'saleprice')"
   ]
  },
  {
   "cell_type": "markdown",
   "metadata": {},
   "source": [
    "Checking the relationship between categories before filling null values.\n"
   ]
  },
  {
   "cell_type": "markdown",
   "metadata": {},
   "source": [
    "<a id='fillnull'></a>\n",
    "### 2.5) Fill Null Values in Main Table"
   ]
  },
  {
   "cell_type": "code",
   "execution_count": null,
   "metadata": {},
   "outputs": [],
   "source": [
    "# Fill Null Values of Mas Vnr Type\n",
    "train['mas_vnr_type'].fillna(\"None\", inplace=True)"
   ]
  },
  {
   "cell_type": "code",
   "execution_count": null,
   "metadata": {},
   "outputs": [
    {
     "data": {
      "text/plain": [
       "object     42\n",
       "int64      24\n",
       "float64    11\n",
       "dtype: int64"
      ]
     },
     "execution_count": 32,
     "metadata": {},
     "output_type": "execute_result"
    }
   ],
   "source": [
    "# Fill Null Values of all columns\n",
    "fill_null(train, train.columns)\n",
    "train.dtypes.value_counts()"
   ]
  },
  {
   "cell_type": "code",
   "execution_count": null,
   "metadata": {},
   "outputs": [
    {
     "data": {
      "text/plain": [
       "RangeIndex(start=0, stop=2049, step=1)"
      ]
     },
     "execution_count": 33,
     "metadata": {},
     "output_type": "execute_result"
    }
   ],
   "source": [
    "# Reset index\n",
    "\n",
    "train = train.reset_index(drop = True)\n",
    "train.index\n"
   ]
  },
  {
   "cell_type": "markdown",
   "metadata": {},
   "source": [
    "<a id='Split_dataframe'></a>\n",
    "# 3) Split Dataframe ( We would be using these Dataframes to create our model from now)"
   ]
  },
  {
   "cell_type": "markdown",
   "metadata": {},
   "source": [
    "<a id='splitcc'></a>\n",
    "### 3.1) Split into Catergorical and Continuous Variable"
   ]
  },
  {
   "cell_type": "code",
   "execution_count": null,
   "metadata": {},
   "outputs": [],
   "source": [
    "# Add SalePrice Column into both DataFrames\n",
    "train_cont = train[['saleprice']]\n",
    "train_cat = train[['saleprice']]"
   ]
  },
  {
   "cell_type": "code",
   "execution_count": null,
   "metadata": {},
   "outputs": [
    {
     "name": "stdout",
     "output_type": "stream",
     "text": [
      "saleprice Variable already added in the DataFrames\n"
     ]
    }
   ],
   "source": [
    "# Split into Catergorical and Continuous Variable\n",
    "for i in train.columns:\n",
    "    if (i == 'saleprice'):\n",
    "        print(\"saleprice Variable already added in the DataFrames\")\n",
    "    elif (train[i].dtype == 'object'):\n",
    "        train_cat[i] = train[[i]]\n",
    "    else:\n",
    "        train_cont[i] = train[i]"
   ]
  },
  {
   "cell_type": "code",
   "execution_count": null,
   "metadata": {},
   "outputs": [
    {
     "data": {
      "text/html": [
       "<div>\n",
       "<style scoped>\n",
       "    .dataframe tbody tr th:only-of-type {\n",
       "        vertical-align: middle;\n",
       "    }\n",
       "\n",
       "    .dataframe tbody tr th {\n",
       "        vertical-align: top;\n",
       "    }\n",
       "\n",
       "    .dataframe thead th {\n",
       "        text-align: right;\n",
       "    }\n",
       "</style>\n",
       "<table border=\"1\" class=\"dataframe\">\n",
       "  <thead>\n",
       "    <tr style=\"text-align: right;\">\n",
       "      <th></th>\n",
       "      <th>saleprice</th>\n",
       "      <th>pid</th>\n",
       "      <th>ms_subclass</th>\n",
       "      <th>ms_zoning</th>\n",
       "      <th>street</th>\n",
       "      <th>lot_shape</th>\n",
       "      <th>land_contour</th>\n",
       "      <th>utilities</th>\n",
       "      <th>lot_config</th>\n",
       "      <th>land_slope</th>\n",
       "      <th>...</th>\n",
       "      <th>electrical</th>\n",
       "      <th>kitchen_qual</th>\n",
       "      <th>functional</th>\n",
       "      <th>fireplace_qu</th>\n",
       "      <th>garage_type</th>\n",
       "      <th>garage_finish</th>\n",
       "      <th>garage_qual</th>\n",
       "      <th>garage_cond</th>\n",
       "      <th>paved_drive</th>\n",
       "      <th>sale_type</th>\n",
       "    </tr>\n",
       "  </thead>\n",
       "  <tbody>\n",
       "    <tr>\n",
       "      <th>0</th>\n",
       "      <td>130500</td>\n",
       "      <td>533352170</td>\n",
       "      <td>60</td>\n",
       "      <td>RL</td>\n",
       "      <td>Pave</td>\n",
       "      <td>IR1</td>\n",
       "      <td>Lvl</td>\n",
       "      <td>AllPub</td>\n",
       "      <td>CulDSac</td>\n",
       "      <td>Gtl</td>\n",
       "      <td>...</td>\n",
       "      <td>SBrkr</td>\n",
       "      <td>Gd</td>\n",
       "      <td>Typ</td>\n",
       "      <td>NA</td>\n",
       "      <td>Attchd</td>\n",
       "      <td>RFn</td>\n",
       "      <td>TA</td>\n",
       "      <td>TA</td>\n",
       "      <td>Y</td>\n",
       "      <td>WD</td>\n",
       "    </tr>\n",
       "    <tr>\n",
       "      <th>1</th>\n",
       "      <td>220000</td>\n",
       "      <td>531379050</td>\n",
       "      <td>60</td>\n",
       "      <td>RL</td>\n",
       "      <td>Pave</td>\n",
       "      <td>IR1</td>\n",
       "      <td>Lvl</td>\n",
       "      <td>AllPub</td>\n",
       "      <td>CulDSac</td>\n",
       "      <td>Gtl</td>\n",
       "      <td>...</td>\n",
       "      <td>SBrkr</td>\n",
       "      <td>Gd</td>\n",
       "      <td>Typ</td>\n",
       "      <td>TA</td>\n",
       "      <td>Attchd</td>\n",
       "      <td>RFn</td>\n",
       "      <td>TA</td>\n",
       "      <td>TA</td>\n",
       "      <td>Y</td>\n",
       "      <td>WD</td>\n",
       "    </tr>\n",
       "    <tr>\n",
       "      <th>2</th>\n",
       "      <td>109000</td>\n",
       "      <td>535304180</td>\n",
       "      <td>20</td>\n",
       "      <td>RL</td>\n",
       "      <td>Pave</td>\n",
       "      <td>Reg</td>\n",
       "      <td>Lvl</td>\n",
       "      <td>AllPub</td>\n",
       "      <td>Inside</td>\n",
       "      <td>Gtl</td>\n",
       "      <td>...</td>\n",
       "      <td>SBrkr</td>\n",
       "      <td>Gd</td>\n",
       "      <td>Typ</td>\n",
       "      <td>NA</td>\n",
       "      <td>Detchd</td>\n",
       "      <td>Unf</td>\n",
       "      <td>TA</td>\n",
       "      <td>TA</td>\n",
       "      <td>Y</td>\n",
       "      <td>WD</td>\n",
       "    </tr>\n",
       "    <tr>\n",
       "      <th>3</th>\n",
       "      <td>174000</td>\n",
       "      <td>916386060</td>\n",
       "      <td>60</td>\n",
       "      <td>RL</td>\n",
       "      <td>Pave</td>\n",
       "      <td>Reg</td>\n",
       "      <td>Lvl</td>\n",
       "      <td>AllPub</td>\n",
       "      <td>Inside</td>\n",
       "      <td>Gtl</td>\n",
       "      <td>...</td>\n",
       "      <td>SBrkr</td>\n",
       "      <td>TA</td>\n",
       "      <td>Typ</td>\n",
       "      <td>NA</td>\n",
       "      <td>BuiltIn</td>\n",
       "      <td>Fin</td>\n",
       "      <td>TA</td>\n",
       "      <td>TA</td>\n",
       "      <td>Y</td>\n",
       "      <td>WD</td>\n",
       "    </tr>\n",
       "    <tr>\n",
       "      <th>4</th>\n",
       "      <td>138500</td>\n",
       "      <td>906425045</td>\n",
       "      <td>50</td>\n",
       "      <td>RL</td>\n",
       "      <td>Pave</td>\n",
       "      <td>IR1</td>\n",
       "      <td>Lvl</td>\n",
       "      <td>AllPub</td>\n",
       "      <td>Inside</td>\n",
       "      <td>Gtl</td>\n",
       "      <td>...</td>\n",
       "      <td>SBrkr</td>\n",
       "      <td>TA</td>\n",
       "      <td>Typ</td>\n",
       "      <td>NA</td>\n",
       "      <td>Detchd</td>\n",
       "      <td>Unf</td>\n",
       "      <td>TA</td>\n",
       "      <td>TA</td>\n",
       "      <td>N</td>\n",
       "      <td>WD</td>\n",
       "    </tr>\n",
       "  </tbody>\n",
       "</table>\n",
       "<p>5 rows × 43 columns</p>\n",
       "</div>"
      ],
      "text/plain": [
       "   saleprice        pid ms_subclass ms_zoning street lot_shape land_contour  \\\n",
       "0     130500  533352170          60        RL   Pave       IR1          Lvl   \n",
       "1     220000  531379050          60        RL   Pave       IR1          Lvl   \n",
       "2     109000  535304180          20        RL   Pave       Reg          Lvl   \n",
       "3     174000  916386060          60        RL   Pave       Reg          Lvl   \n",
       "4     138500  906425045          50        RL   Pave       IR1          Lvl   \n",
       "\n",
       "  utilities lot_config land_slope  ... electrical kitchen_qual functional  \\\n",
       "0    AllPub    CulDSac        Gtl  ...      SBrkr           Gd        Typ   \n",
       "1    AllPub    CulDSac        Gtl  ...      SBrkr           Gd        Typ   \n",
       "2    AllPub     Inside        Gtl  ...      SBrkr           Gd        Typ   \n",
       "3    AllPub     Inside        Gtl  ...      SBrkr           TA        Typ   \n",
       "4    AllPub     Inside        Gtl  ...      SBrkr           TA        Typ   \n",
       "\n",
       "  fireplace_qu garage_type garage_finish garage_qual garage_cond paved_drive  \\\n",
       "0           NA      Attchd           RFn          TA          TA           Y   \n",
       "1           TA      Attchd           RFn          TA          TA           Y   \n",
       "2           NA      Detchd           Unf          TA          TA           Y   \n",
       "3           NA     BuiltIn           Fin          TA          TA           Y   \n",
       "4           NA      Detchd           Unf          TA          TA           N   \n",
       "\n",
       "  sale_type  \n",
       "0       WD   \n",
       "1       WD   \n",
       "2       WD   \n",
       "3       WD   \n",
       "4       WD   \n",
       "\n",
       "[5 rows x 43 columns]"
      ]
     },
     "execution_count": 36,
     "metadata": {},
     "output_type": "execute_result"
    }
   ],
   "source": [
    "# Categorical\n",
    "train_cat.head()\n"
   ]
  },
  {
   "cell_type": "code",
   "execution_count": null,
   "metadata": {},
   "outputs": [
    {
     "data": {
      "text/html": [
       "<div>\n",
       "<style scoped>\n",
       "    .dataframe tbody tr th:only-of-type {\n",
       "        vertical-align: middle;\n",
       "    }\n",
       "\n",
       "    .dataframe tbody tr th {\n",
       "        vertical-align: top;\n",
       "    }\n",
       "\n",
       "    .dataframe thead th {\n",
       "        text-align: right;\n",
       "    }\n",
       "</style>\n",
       "<table border=\"1\" class=\"dataframe\">\n",
       "  <thead>\n",
       "    <tr style=\"text-align: right;\">\n",
       "      <th></th>\n",
       "      <th>saleprice</th>\n",
       "      <th>id</th>\n",
       "      <th>lot_frontage</th>\n",
       "      <th>lot_area</th>\n",
       "      <th>year_built</th>\n",
       "      <th>year_remod/add</th>\n",
       "      <th>mas_vnr_area</th>\n",
       "      <th>bsmtfin_sf_1</th>\n",
       "      <th>bsmtfin_sf_2</th>\n",
       "      <th>bsmt_unf_sf</th>\n",
       "      <th>...</th>\n",
       "      <th>garage_area</th>\n",
       "      <th>wood_deck_sf</th>\n",
       "      <th>open_porch_sf</th>\n",
       "      <th>enclosed_porch</th>\n",
       "      <th>3ssn_porch</th>\n",
       "      <th>screen_porch</th>\n",
       "      <th>pool_area</th>\n",
       "      <th>misc_val</th>\n",
       "      <th>mo_sold</th>\n",
       "      <th>yr_sold</th>\n",
       "    </tr>\n",
       "  </thead>\n",
       "  <tbody>\n",
       "    <tr>\n",
       "      <th>0</th>\n",
       "      <td>130500</td>\n",
       "      <td>109</td>\n",
       "      <td>0.0</td>\n",
       "      <td>13517</td>\n",
       "      <td>1976</td>\n",
       "      <td>2005</td>\n",
       "      <td>289.0</td>\n",
       "      <td>533.0</td>\n",
       "      <td>0.0</td>\n",
       "      <td>192.0</td>\n",
       "      <td>...</td>\n",
       "      <td>475.0</td>\n",
       "      <td>0</td>\n",
       "      <td>44</td>\n",
       "      <td>0</td>\n",
       "      <td>0</td>\n",
       "      <td>0</td>\n",
       "      <td>0</td>\n",
       "      <td>0</td>\n",
       "      <td>3</td>\n",
       "      <td>2010</td>\n",
       "    </tr>\n",
       "    <tr>\n",
       "      <th>1</th>\n",
       "      <td>220000</td>\n",
       "      <td>544</td>\n",
       "      <td>43.0</td>\n",
       "      <td>11492</td>\n",
       "      <td>1996</td>\n",
       "      <td>1997</td>\n",
       "      <td>132.0</td>\n",
       "      <td>637.0</td>\n",
       "      <td>0.0</td>\n",
       "      <td>276.0</td>\n",
       "      <td>...</td>\n",
       "      <td>559.0</td>\n",
       "      <td>0</td>\n",
       "      <td>74</td>\n",
       "      <td>0</td>\n",
       "      <td>0</td>\n",
       "      <td>0</td>\n",
       "      <td>0</td>\n",
       "      <td>0</td>\n",
       "      <td>4</td>\n",
       "      <td>2009</td>\n",
       "    </tr>\n",
       "    <tr>\n",
       "      <th>2</th>\n",
       "      <td>109000</td>\n",
       "      <td>153</td>\n",
       "      <td>68.0</td>\n",
       "      <td>7922</td>\n",
       "      <td>1953</td>\n",
       "      <td>2007</td>\n",
       "      <td>0.0</td>\n",
       "      <td>731.0</td>\n",
       "      <td>0.0</td>\n",
       "      <td>326.0</td>\n",
       "      <td>...</td>\n",
       "      <td>246.0</td>\n",
       "      <td>0</td>\n",
       "      <td>52</td>\n",
       "      <td>0</td>\n",
       "      <td>0</td>\n",
       "      <td>0</td>\n",
       "      <td>0</td>\n",
       "      <td>0</td>\n",
       "      <td>1</td>\n",
       "      <td>2010</td>\n",
       "    </tr>\n",
       "    <tr>\n",
       "      <th>3</th>\n",
       "      <td>174000</td>\n",
       "      <td>318</td>\n",
       "      <td>73.0</td>\n",
       "      <td>9802</td>\n",
       "      <td>2006</td>\n",
       "      <td>2007</td>\n",
       "      <td>0.0</td>\n",
       "      <td>0.0</td>\n",
       "      <td>0.0</td>\n",
       "      <td>384.0</td>\n",
       "      <td>...</td>\n",
       "      <td>400.0</td>\n",
       "      <td>100</td>\n",
       "      <td>0</td>\n",
       "      <td>0</td>\n",
       "      <td>0</td>\n",
       "      <td>0</td>\n",
       "      <td>0</td>\n",
       "      <td>0</td>\n",
       "      <td>4</td>\n",
       "      <td>2010</td>\n",
       "    </tr>\n",
       "    <tr>\n",
       "      <th>4</th>\n",
       "      <td>138500</td>\n",
       "      <td>255</td>\n",
       "      <td>82.0</td>\n",
       "      <td>14235</td>\n",
       "      <td>1900</td>\n",
       "      <td>1993</td>\n",
       "      <td>0.0</td>\n",
       "      <td>0.0</td>\n",
       "      <td>0.0</td>\n",
       "      <td>676.0</td>\n",
       "      <td>...</td>\n",
       "      <td>484.0</td>\n",
       "      <td>0</td>\n",
       "      <td>59</td>\n",
       "      <td>0</td>\n",
       "      <td>0</td>\n",
       "      <td>0</td>\n",
       "      <td>0</td>\n",
       "      <td>0</td>\n",
       "      <td>3</td>\n",
       "      <td>2010</td>\n",
       "    </tr>\n",
       "  </tbody>\n",
       "</table>\n",
       "<p>5 rows × 35 columns</p>\n",
       "</div>"
      ],
      "text/plain": [
       "   saleprice   id  lot_frontage  lot_area  year_built  year_remod/add  \\\n",
       "0     130500  109           0.0     13517        1976            2005   \n",
       "1     220000  544          43.0     11492        1996            1997   \n",
       "2     109000  153          68.0      7922        1953            2007   \n",
       "3     174000  318          73.0      9802        2006            2007   \n",
       "4     138500  255          82.0     14235        1900            1993   \n",
       "\n",
       "   mas_vnr_area  bsmtfin_sf_1  bsmtfin_sf_2  bsmt_unf_sf  ...  garage_area  \\\n",
       "0         289.0         533.0           0.0        192.0  ...        475.0   \n",
       "1         132.0         637.0           0.0        276.0  ...        559.0   \n",
       "2           0.0         731.0           0.0        326.0  ...        246.0   \n",
       "3           0.0           0.0           0.0        384.0  ...        400.0   \n",
       "4           0.0           0.0           0.0        676.0  ...        484.0   \n",
       "\n",
       "   wood_deck_sf  open_porch_sf  enclosed_porch  3ssn_porch  screen_porch  \\\n",
       "0             0             44               0           0             0   \n",
       "1             0             74               0           0             0   \n",
       "2             0             52               0           0             0   \n",
       "3           100              0               0           0             0   \n",
       "4             0             59               0           0             0   \n",
       "\n",
       "   pool_area  misc_val  mo_sold  yr_sold  \n",
       "0          0         0        3     2010  \n",
       "1          0         0        4     2009  \n",
       "2          0         0        1     2010  \n",
       "3          0         0        4     2010  \n",
       "4          0         0        3     2010  \n",
       "\n",
       "[5 rows x 35 columns]"
      ]
     },
     "execution_count": 37,
     "metadata": {},
     "output_type": "execute_result"
    }
   ],
   "source": [
    "# Continuous\n",
    "train_cont.head()"
   ]
  },
  {
   "cell_type": "code",
   "execution_count": null,
   "metadata": {},
   "outputs": [
    {
     "data": {
      "text/plain": [
       "<matplotlib.axes._subplots.AxesSubplot at 0x1a24cd0160>"
      ]
     },
     "execution_count": 38,
     "metadata": {},
     "output_type": "execute_result"
    },
    {
     "data": {
      "image/png": "[encoded data removed]",
      "text/plain": [
       "<Figure size 432x288 with 1 Axes>"
      ]
     },
     "metadata": {
      "needs_background": "light"
     },
     "output_type": "display_data"
    }
   ],
   "source": [
    "# Checking Relationship between SalePrice and Lot Frontage\n",
    "testing = train_cont[[\"saleprice\",'lot_frontage']]\n",
    "sns.regplot(data = testing, x=\"lot_frontage\", y=\"saleprice\")"
   ]
  },
  {
   "cell_type": "code",
   "execution_count": null,
   "metadata": {},
   "outputs": [
    {
     "data": {
      "text/html": [
       "<div>\n",
       "<style scoped>\n",
       "    .dataframe tbody tr th:only-of-type {\n",
       "        vertical-align: middle;\n",
       "    }\n",
       "\n",
       "    .dataframe tbody tr th {\n",
       "        vertical-align: top;\n",
       "    }\n",
       "\n",
       "    .dataframe thead th {\n",
       "        text-align: right;\n",
       "    }\n",
       "</style>\n",
       "<table border=\"1\" class=\"dataframe\">\n",
       "  <thead>\n",
       "    <tr style=\"text-align: right;\">\n",
       "      <th></th>\n",
       "      <th>saleprice</th>\n",
       "      <th>lot_frontage</th>\n",
       "    </tr>\n",
       "  </thead>\n",
       "  <tbody>\n",
       "    <tr>\n",
       "      <th>saleprice</th>\n",
       "      <td>1.000000</td>\n",
       "      <td>0.185351</td>\n",
       "    </tr>\n",
       "    <tr>\n",
       "      <th>lot_frontage</th>\n",
       "      <td>0.185351</td>\n",
       "      <td>1.000000</td>\n",
       "    </tr>\n",
       "  </tbody>\n",
       "</table>\n",
       "</div>"
      ],
      "text/plain": [
       "              saleprice  lot_frontage\n",
       "saleprice      1.000000      0.185351\n",
       "lot_frontage   0.185351      1.000000"
      ]
     },
     "execution_count": 39,
     "metadata": {},
     "output_type": "execute_result"
    }
   ],
   "source": [
    "testing.corr()"
   ]
  },
  {
   "cell_type": "code",
   "execution_count": null,
   "metadata": {},
   "outputs": [],
   "source": [
    "# Drop Lot Frontage as there is little correlation and this column has multiple Null Values\n",
    "train_cont = train_cont.drop(columns='lot_frontage')"
   ]
  },
  {
   "cell_type": "markdown",
   "metadata": {},
   "source": [
    "<a id='splitdf'></a>\n",
    "### 3.2) Split Catergorical into Ordinal and Nominal"
   ]
  },
  {
   "cell_type": "code",
   "execution_count": null,
   "metadata": {},
   "outputs": [],
   "source": [
    "# (train_ord = ordinal), (train_nom = nominal)\n",
    "train_ord = train[['saleprice','lot_shape','utilities','land_slope','overall_qual','overall_cond','exter_qual' , 'exter_cond','bsmt_qual','bsmt_cond','bsmt_exposure','bsmtfin_type_1','bsmtfin_type_2','electrical', 'functional','garage_finish', 'garage_qual', 'garage_cond', 'paved_drive','heating_qc','kitchen_qual','fireplace_qu']]\n",
    "train_nom = train[['saleprice','pid', 'ms_subclass', 'ms_zoning', 'street', 'land_contour', 'lot_config' ,'neighborhood', 'condition_1' ,'condition_2' ,'bldg_type', 'house_style', 'roof_style', 'roof_matl', 'mas_vnr_type', 'foundation', 'heating','central_air', 'garage_type', 'sale_type', 'exterior_1st', 'exterior_2nd']]"
   ]
  },
  {
   "cell_type": "code",
   "execution_count": null,
   "metadata": {},
   "outputs": [
    {
     "data": {
      "text/html": [
       "<div>\n",
       "<style scoped>\n",
       "    .dataframe tbody tr th:only-of-type {\n",
       "        vertical-align: middle;\n",
       "    }\n",
       "\n",
       "    .dataframe tbody tr th {\n",
       "        vertical-align: top;\n",
       "    }\n",
       "\n",
       "    .dataframe thead th {\n",
       "        text-align: right;\n",
       "    }\n",
       "</style>\n",
       "<table border=\"1\" class=\"dataframe\">\n",
       "  <thead>\n",
       "    <tr style=\"text-align: right;\">\n",
       "      <th></th>\n",
       "      <th>saleprice</th>\n",
       "      <th>pid</th>\n",
       "      <th>ms_subclass</th>\n",
       "      <th>ms_zoning</th>\n",
       "      <th>street</th>\n",
       "      <th>land_contour</th>\n",
       "      <th>lot_config</th>\n",
       "      <th>neighborhood</th>\n",
       "      <th>condition_1</th>\n",
       "      <th>condition_2</th>\n",
       "      <th>...</th>\n",
       "      <th>roof_style</th>\n",
       "      <th>roof_matl</th>\n",
       "      <th>mas_vnr_type</th>\n",
       "      <th>foundation</th>\n",
       "      <th>heating</th>\n",
       "      <th>central_air</th>\n",
       "      <th>garage_type</th>\n",
       "      <th>sale_type</th>\n",
       "      <th>exterior_1st</th>\n",
       "      <th>exterior_2nd</th>\n",
       "    </tr>\n",
       "  </thead>\n",
       "  <tbody>\n",
       "    <tr>\n",
       "      <th>0</th>\n",
       "      <td>130500</td>\n",
       "      <td>533352170</td>\n",
       "      <td>60</td>\n",
       "      <td>RL</td>\n",
       "      <td>Pave</td>\n",
       "      <td>Lvl</td>\n",
       "      <td>CulDSac</td>\n",
       "      <td>Sawyer</td>\n",
       "      <td>RRAe</td>\n",
       "      <td>Norm</td>\n",
       "      <td>...</td>\n",
       "      <td>Gable</td>\n",
       "      <td>CompShg</td>\n",
       "      <td>BrkFace</td>\n",
       "      <td>CBlock</td>\n",
       "      <td>GasA</td>\n",
       "      <td>Y</td>\n",
       "      <td>Attchd</td>\n",
       "      <td>WD</td>\n",
       "      <td>HdBoard</td>\n",
       "      <td>Plywood</td>\n",
       "    </tr>\n",
       "    <tr>\n",
       "      <th>1</th>\n",
       "      <td>220000</td>\n",
       "      <td>531379050</td>\n",
       "      <td>60</td>\n",
       "      <td>RL</td>\n",
       "      <td>Pave</td>\n",
       "      <td>Lvl</td>\n",
       "      <td>CulDSac</td>\n",
       "      <td>SawyerW</td>\n",
       "      <td>Norm</td>\n",
       "      <td>Norm</td>\n",
       "      <td>...</td>\n",
       "      <td>Gable</td>\n",
       "      <td>CompShg</td>\n",
       "      <td>BrkFace</td>\n",
       "      <td>PConc</td>\n",
       "      <td>GasA</td>\n",
       "      <td>Y</td>\n",
       "      <td>Attchd</td>\n",
       "      <td>WD</td>\n",
       "      <td>VinylSd</td>\n",
       "      <td>VinylSd</td>\n",
       "    </tr>\n",
       "    <tr>\n",
       "      <th>2</th>\n",
       "      <td>109000</td>\n",
       "      <td>535304180</td>\n",
       "      <td>20</td>\n",
       "      <td>RL</td>\n",
       "      <td>Pave</td>\n",
       "      <td>Lvl</td>\n",
       "      <td>Inside</td>\n",
       "      <td>NAmes</td>\n",
       "      <td>Norm</td>\n",
       "      <td>Norm</td>\n",
       "      <td>...</td>\n",
       "      <td>Gable</td>\n",
       "      <td>CompShg</td>\n",
       "      <td>None</td>\n",
       "      <td>CBlock</td>\n",
       "      <td>GasA</td>\n",
       "      <td>Y</td>\n",
       "      <td>Detchd</td>\n",
       "      <td>WD</td>\n",
       "      <td>VinylSd</td>\n",
       "      <td>VinylSd</td>\n",
       "    </tr>\n",
       "    <tr>\n",
       "      <th>3</th>\n",
       "      <td>174000</td>\n",
       "      <td>916386060</td>\n",
       "      <td>60</td>\n",
       "      <td>RL</td>\n",
       "      <td>Pave</td>\n",
       "      <td>Lvl</td>\n",
       "      <td>Inside</td>\n",
       "      <td>Timber</td>\n",
       "      <td>Norm</td>\n",
       "      <td>Norm</td>\n",
       "      <td>...</td>\n",
       "      <td>Gable</td>\n",
       "      <td>CompShg</td>\n",
       "      <td>None</td>\n",
       "      <td>PConc</td>\n",
       "      <td>GasA</td>\n",
       "      <td>Y</td>\n",
       "      <td>BuiltIn</td>\n",
       "      <td>WD</td>\n",
       "      <td>VinylSd</td>\n",
       "      <td>VinylSd</td>\n",
       "    </tr>\n",
       "    <tr>\n",
       "      <th>4</th>\n",
       "      <td>138500</td>\n",
       "      <td>906425045</td>\n",
       "      <td>50</td>\n",
       "      <td>RL</td>\n",
       "      <td>Pave</td>\n",
       "      <td>Lvl</td>\n",
       "      <td>Inside</td>\n",
       "      <td>SawyerW</td>\n",
       "      <td>Norm</td>\n",
       "      <td>Norm</td>\n",
       "      <td>...</td>\n",
       "      <td>Gable</td>\n",
       "      <td>CompShg</td>\n",
       "      <td>None</td>\n",
       "      <td>PConc</td>\n",
       "      <td>GasA</td>\n",
       "      <td>Y</td>\n",
       "      <td>Detchd</td>\n",
       "      <td>WD</td>\n",
       "      <td>Wd Sdng</td>\n",
       "      <td>Plywood</td>\n",
       "    </tr>\n",
       "  </tbody>\n",
       "</table>\n",
       "<p>5 rows × 22 columns</p>\n",
       "</div>"
      ],
      "text/plain": [
       "   saleprice        pid ms_subclass ms_zoning street land_contour lot_config  \\\n",
       "0     130500  533352170          60        RL   Pave          Lvl    CulDSac   \n",
       "1     220000  531379050          60        RL   Pave          Lvl    CulDSac   \n",
       "2     109000  535304180          20        RL   Pave          Lvl     Inside   \n",
       "3     174000  916386060          60        RL   Pave          Lvl     Inside   \n",
       "4     138500  906425045          50        RL   Pave          Lvl     Inside   \n",
       "\n",
       "  neighborhood condition_1 condition_2  ... roof_style roof_matl mas_vnr_type  \\\n",
       "0       Sawyer        RRAe        Norm  ...      Gable   CompShg      BrkFace   \n",
       "1      SawyerW        Norm        Norm  ...      Gable   CompShg      BrkFace   \n",
       "2        NAmes        Norm        Norm  ...      Gable   CompShg         None   \n",
       "3       Timber        Norm        Norm  ...      Gable   CompShg         None   \n",
       "4      SawyerW        Norm        Norm  ...      Gable   CompShg         None   \n",
       "\n",
       "  foundation heating central_air garage_type sale_type exterior_1st  \\\n",
       "0     CBlock    GasA           Y      Attchd       WD       HdBoard   \n",
       "1      PConc    GasA           Y      Attchd       WD       VinylSd   \n",
       "2     CBlock    GasA           Y      Detchd       WD       VinylSd   \n",
       "3      PConc    GasA           Y     BuiltIn       WD       VinylSd   \n",
       "4      PConc    GasA           Y      Detchd       WD       Wd Sdng   \n",
       "\n",
       "  exterior_2nd  \n",
       "0      Plywood  \n",
       "1      VinylSd  \n",
       "2      VinylSd  \n",
       "3      VinylSd  \n",
       "4      Plywood  \n",
       "\n",
       "[5 rows x 22 columns]"
      ]
     },
     "execution_count": 42,
     "metadata": {},
     "output_type": "execute_result"
    }
   ],
   "source": [
    "train_nom.head()"
   ]
  },
  {
   "cell_type": "code",
   "execution_count": null,
   "metadata": {},
   "outputs": [
    {
     "data": {
      "text/plain": [
       "907253130    1\n",
       "908229020    1\n",
       "903429110    1\n",
       "923228260    1\n",
       "907290040    1\n",
       "909279080    1\n",
       "528445060    1\n",
       "534403400    1\n",
       "535180070    1\n",
       "527404180    1\n",
       "535175070    1\n",
       "527451400    1\n",
       "528150080    1\n",
       "528488120    1\n",
       "909256120    1\n",
       "527216050    1\n",
       "527353020    1\n",
       "533352150    1\n",
       "535304020    1\n",
       "528275110    1\n",
       "905478140    1\n",
       "528240070    1\n",
       "528328100    1\n",
       "535304100    1\n",
       "531451110    1\n",
       "535353240    1\n",
       "905426100    1\n",
       "916325080    1\n",
       "535402140    1\n",
       "910203250    1\n",
       "            ..\n",
       "905200220    1\n",
       "535151110    1\n",
       "909282060    1\n",
       "903400180    1\n",
       "906226140    1\n",
       "902329080    1\n",
       "534400060    1\n",
       "902405120    1\n",
       "535325400    1\n",
       "907252050    1\n",
       "533350120    1\n",
       "907255060    1\n",
       "532377130    1\n",
       "905377050    1\n",
       "909100170    1\n",
       "528292020    1\n",
       "528102030    1\n",
       "528458090    1\n",
       "908102300    1\n",
       "535383100    1\n",
       "903429010    1\n",
       "527359080    1\n",
       "528315030    1\n",
       "905200490    1\n",
       "535101120    1\n",
       "909452102    1\n",
       "531375100    1\n",
       "904301070    1\n",
       "902306130    1\n",
       "527368020    1\n",
       "Name: pid, Length: 2049, dtype: int64"
      ]
     },
     "execution_count": 43,
     "metadata": {},
     "output_type": "execute_result"
    }
   ],
   "source": [
    "train_nom.pid.value_counts()"
   ]
  },
  {
   "cell_type": "markdown",
   "metadata": {},
   "source": [
    "Drop Column \"pid\" because there every row is a different PID so it is as good as being an index."
   ]
  },
  {
   "cell_type": "code",
   "execution_count": null,
   "metadata": {},
   "outputs": [],
   "source": [
    "train_nom = train_nom.drop( axis = 1, columns = train[['pid']])"
   ]
  },
  {
   "cell_type": "code",
   "execution_count": null,
   "metadata": {},
   "outputs": [
    {
     "data": {
      "text/html": [
       "<div>\n",
       "<style scoped>\n",
       "    .dataframe tbody tr th:only-of-type {\n",
       "        vertical-align: middle;\n",
       "    }\n",
       "\n",
       "    .dataframe tbody tr th {\n",
       "        vertical-align: top;\n",
       "    }\n",
       "\n",
       "    .dataframe thead th {\n",
       "        text-align: right;\n",
       "    }\n",
       "</style>\n",
       "<table border=\"1\" class=\"dataframe\">\n",
       "  <thead>\n",
       "    <tr style=\"text-align: right;\">\n",
       "      <th></th>\n",
       "      <th>saleprice</th>\n",
       "      <th>lot_shape</th>\n",
       "      <th>utilities</th>\n",
       "      <th>land_slope</th>\n",
       "      <th>overall_qual</th>\n",
       "      <th>overall_cond</th>\n",
       "      <th>exter_qual</th>\n",
       "      <th>exter_cond</th>\n",
       "      <th>bsmt_qual</th>\n",
       "      <th>bsmt_cond</th>\n",
       "      <th>...</th>\n",
       "      <th>bsmtfin_type_2</th>\n",
       "      <th>electrical</th>\n",
       "      <th>functional</th>\n",
       "      <th>garage_finish</th>\n",
       "      <th>garage_qual</th>\n",
       "      <th>garage_cond</th>\n",
       "      <th>paved_drive</th>\n",
       "      <th>heating_qc</th>\n",
       "      <th>kitchen_qual</th>\n",
       "      <th>fireplace_qu</th>\n",
       "    </tr>\n",
       "  </thead>\n",
       "  <tbody>\n",
       "    <tr>\n",
       "      <th>0</th>\n",
       "      <td>130500</td>\n",
       "      <td>IR1</td>\n",
       "      <td>AllPub</td>\n",
       "      <td>Gtl</td>\n",
       "      <td>6</td>\n",
       "      <td>8</td>\n",
       "      <td>Gd</td>\n",
       "      <td>TA</td>\n",
       "      <td>TA</td>\n",
       "      <td>TA</td>\n",
       "      <td>...</td>\n",
       "      <td>Unf</td>\n",
       "      <td>SBrkr</td>\n",
       "      <td>Typ</td>\n",
       "      <td>RFn</td>\n",
       "      <td>TA</td>\n",
       "      <td>TA</td>\n",
       "      <td>Y</td>\n",
       "      <td>Ex</td>\n",
       "      <td>Gd</td>\n",
       "      <td>NA</td>\n",
       "    </tr>\n",
       "    <tr>\n",
       "      <th>1</th>\n",
       "      <td>220000</td>\n",
       "      <td>IR1</td>\n",
       "      <td>AllPub</td>\n",
       "      <td>Gtl</td>\n",
       "      <td>7</td>\n",
       "      <td>5</td>\n",
       "      <td>Gd</td>\n",
       "      <td>TA</td>\n",
       "      <td>Gd</td>\n",
       "      <td>TA</td>\n",
       "      <td>...</td>\n",
       "      <td>Unf</td>\n",
       "      <td>SBrkr</td>\n",
       "      <td>Typ</td>\n",
       "      <td>RFn</td>\n",
       "      <td>TA</td>\n",
       "      <td>TA</td>\n",
       "      <td>Y</td>\n",
       "      <td>Ex</td>\n",
       "      <td>Gd</td>\n",
       "      <td>TA</td>\n",
       "    </tr>\n",
       "    <tr>\n",
       "      <th>2</th>\n",
       "      <td>109000</td>\n",
       "      <td>Reg</td>\n",
       "      <td>AllPub</td>\n",
       "      <td>Gtl</td>\n",
       "      <td>5</td>\n",
       "      <td>7</td>\n",
       "      <td>TA</td>\n",
       "      <td>Gd</td>\n",
       "      <td>TA</td>\n",
       "      <td>TA</td>\n",
       "      <td>...</td>\n",
       "      <td>Unf</td>\n",
       "      <td>SBrkr</td>\n",
       "      <td>Typ</td>\n",
       "      <td>Unf</td>\n",
       "      <td>TA</td>\n",
       "      <td>TA</td>\n",
       "      <td>Y</td>\n",
       "      <td>TA</td>\n",
       "      <td>Gd</td>\n",
       "      <td>NA</td>\n",
       "    </tr>\n",
       "    <tr>\n",
       "      <th>3</th>\n",
       "      <td>174000</td>\n",
       "      <td>Reg</td>\n",
       "      <td>AllPub</td>\n",
       "      <td>Gtl</td>\n",
       "      <td>5</td>\n",
       "      <td>5</td>\n",
       "      <td>TA</td>\n",
       "      <td>TA</td>\n",
       "      <td>Gd</td>\n",
       "      <td>TA</td>\n",
       "      <td>...</td>\n",
       "      <td>Unf</td>\n",
       "      <td>SBrkr</td>\n",
       "      <td>Typ</td>\n",
       "      <td>Fin</td>\n",
       "      <td>TA</td>\n",
       "      <td>TA</td>\n",
       "      <td>Y</td>\n",
       "      <td>Gd</td>\n",
       "      <td>TA</td>\n",
       "      <td>NA</td>\n",
       "    </tr>\n",
       "    <tr>\n",
       "      <th>4</th>\n",
       "      <td>138500</td>\n",
       "      <td>IR1</td>\n",
       "      <td>AllPub</td>\n",
       "      <td>Gtl</td>\n",
       "      <td>6</td>\n",
       "      <td>8</td>\n",
       "      <td>TA</td>\n",
       "      <td>TA</td>\n",
       "      <td>Fa</td>\n",
       "      <td>Gd</td>\n",
       "      <td>...</td>\n",
       "      <td>Unf</td>\n",
       "      <td>SBrkr</td>\n",
       "      <td>Typ</td>\n",
       "      <td>Unf</td>\n",
       "      <td>TA</td>\n",
       "      <td>TA</td>\n",
       "      <td>N</td>\n",
       "      <td>TA</td>\n",
       "      <td>TA</td>\n",
       "      <td>NA</td>\n",
       "    </tr>\n",
       "  </tbody>\n",
       "</table>\n",
       "<p>5 rows × 22 columns</p>\n",
       "</div>"
      ],
      "text/plain": [
       "   saleprice lot_shape utilities land_slope overall_qual overall_cond  \\\n",
       "0     130500       IR1    AllPub        Gtl            6            8   \n",
       "1     220000       IR1    AllPub        Gtl            7            5   \n",
       "2     109000       Reg    AllPub        Gtl            5            7   \n",
       "3     174000       Reg    AllPub        Gtl            5            5   \n",
       "4     138500       IR1    AllPub        Gtl            6            8   \n",
       "\n",
       "  exter_qual exter_cond bsmt_qual bsmt_cond  ... bsmtfin_type_2 electrical  \\\n",
       "0         Gd         TA        TA        TA  ...            Unf      SBrkr   \n",
       "1         Gd         TA        Gd        TA  ...            Unf      SBrkr   \n",
       "2         TA         Gd        TA        TA  ...            Unf      SBrkr   \n",
       "3         TA         TA        Gd        TA  ...            Unf      SBrkr   \n",
       "4         TA         TA        Fa        Gd  ...            Unf      SBrkr   \n",
       "\n",
       "  functional garage_finish garage_qual garage_cond paved_drive heating_qc  \\\n",
       "0        Typ           RFn          TA          TA           Y         Ex   \n",
       "1        Typ           RFn          TA          TA           Y         Ex   \n",
       "2        Typ           Unf          TA          TA           Y         TA   \n",
       "3        Typ           Fin          TA          TA           Y         Gd   \n",
       "4        Typ           Unf          TA          TA           N         TA   \n",
       "\n",
       "  kitchen_qual fireplace_qu  \n",
       "0           Gd           NA  \n",
       "1           Gd           TA  \n",
       "2           Gd           NA  \n",
       "3           TA           NA  \n",
       "4           TA           NA  \n",
       "\n",
       "[5 rows x 22 columns]"
      ]
     },
     "execution_count": 45,
     "metadata": {},
     "output_type": "execute_result"
    }
   ],
   "source": [
    "train_ord.head()"
   ]
  },
  {
   "cell_type": "markdown",
   "metadata": {},
   "source": [
    "<a id='rankord'></a>\n",
    "### 3.3) Rank Ordinal Variables / Drop any unusable columns in train_ord"
   ]
  },
  {
   "cell_type": "markdown",
   "metadata": {},
   "source": [
    "#### 3.3.1) Label Encoder Method"
   ]
  },
  {
   "cell_type": "code",
   "execution_count": null,
   "metadata": {},
   "outputs": [],
   "source": [
    "# Label Encoder Trial\n",
    "# lb_make = LabelEncoder()\n",
    "# train_ord['Exter_Qual'] = lb_make.fit_transform(train_ord['Exter Qual'])\n",
    "# train_ord[[\"Exter Qual\", 'Exter_Qual']].sort_values(by = 'Exter_Qual')"
   ]
  },
  {
   "cell_type": "markdown",
   "metadata": {},
   "source": [
    "Using Label Encoder doesn't work. Number ranking given randomly"
   ]
  },
  {
   "cell_type": "markdown",
   "metadata": {},
   "source": [
    "#### 3.3.2) Manual Method"
   ]
  },
  {
   "cell_type": "code",
   "execution_count": null,
   "metadata": {},
   "outputs": [
    {
     "data": {
      "text/plain": [
       "AllPub    2047\n",
       "NoSeWa       1\n",
       "NoSewr       1\n",
       "Name: utilities, dtype: int64"
      ]
     },
     "execution_count": 47,
     "metadata": {},
     "output_type": "execute_result"
    }
   ],
   "source": [
    "train_ord['utilities'].value_counts()"
   ]
  },
  {
   "cell_type": "markdown",
   "metadata": {},
   "source": [
    "Drop utilities because all values are the same, except 2 observations. Therefore, it does not tell us anything."
   ]
  },
  {
   "cell_type": "code",
   "execution_count": null,
   "metadata": {},
   "outputs": [],
   "source": [
    "train_ord.drop(columns='utilities', inplace = True, axis = 1)"
   ]
  },
  {
   "cell_type": "code",
   "execution_count": null,
   "metadata": {},
   "outputs": [
    {
     "data": {
      "text/plain": [
       "Gtl    1951\n",
       "Mod      88\n",
       "Sev      10\n",
       "Name: land_slope, dtype: int64"
      ]
     },
     "execution_count": 49,
     "metadata": {},
     "output_type": "execute_result"
    }
   ],
   "source": [
    "train_ord['land_slope'].value_counts()"
   ]
  },
  {
   "cell_type": "markdown",
   "metadata": {},
   "source": [
    "Drop land_slope because most category are the same, data is heavily skewed to Gtl. Therefore, it does not tell us anything about the price."
   ]
  },
  {
   "cell_type": "code",
   "execution_count": null,
   "metadata": {},
   "outputs": [],
   "source": [
    "train_ord.drop(columns='land_slope', inplace = True, axis = 1)"
   ]
  },
  {
   "cell_type": "code",
   "execution_count": null,
   "metadata": {},
   "outputs": [
    {
     "data": {
      "text/plain": [
       "SBrkr    1866\n",
       "FuseA     140\n",
       "FuseF      35\n",
       "FuseP       7\n",
       "Mix         1\n",
       "Name: electrical, dtype: int64"
      ]
     },
     "execution_count": 51,
     "metadata": {},
     "output_type": "execute_result"
    }
   ],
   "source": [
    "train_ord['electrical'].value_counts()"
   ]
  },
  {
   "cell_type": "markdown",
   "metadata": {},
   "source": [
    "Drop 'electrical' because most category are the same, data is heavily skewed to Sbrkr which is the highest quality. Therefore, it does not tell us anything about the price."
   ]
  },
  {
   "cell_type": "code",
   "execution_count": null,
   "metadata": {},
   "outputs": [],
   "source": [
    "train_ord.drop(columns='electrical', inplace = True, axis = 1)"
   ]
  },
  {
   "cell_type": "code",
   "execution_count": null,
   "metadata": {},
   "outputs": [
    {
     "data": {
      "text/plain": [
       "Index(['saleprice', 'lot_shape', 'overall_qual', 'overall_cond', 'exter_qual',\n",
       "       'exter_cond', 'bsmt_qual', 'bsmt_cond', 'bsmt_exposure',\n",
       "       'bsmtfin_type_1', 'bsmtfin_type_2', 'functional', 'garage_finish',\n",
       "       'garage_qual', 'garage_cond', 'paved_drive', 'heating_qc',\n",
       "       'kitchen_qual', 'fireplace_qu'],\n",
       "      dtype='object')"
      ]
     },
     "execution_count": 53,
     "metadata": {},
     "output_type": "execute_result"
    }
   ],
   "source": [
    "train_ord.columns"
   ]
  },
  {
   "cell_type": "code",
   "execution_count": null,
   "metadata": {},
   "outputs": [],
   "source": [
    "# Manual Method\n",
    "# Create Dictionary for replacements\n",
    "\n",
    "cleanup = {'lot_shape' : {'IR3':0,'IR2':1,'IR1':2,'Reg':3},\n",
    "           'overall_qual': {'1': 0,'2':1,'3':2,'4':3,\"5\":4,\"6\":5,'7':6,'8':7,'9':8,'10':9},\n",
    "           'overall_cond': {'1': 0,'2':1,'3':2,'4':3,\"5\":4,\"6\":5,'7':6,'8':7,'9':8},\n",
    "           'exter_qual' : {'NA':0,\"Po\":1, 'Fa':2, 'TA': 3,'Gd': 4,\"Ex\":5},\n",
    "           'exter_cond' : {'NA':0,\"Po\":1, 'Fa':2, 'TA': 3,'Gd': 4,\"Ex\":5},\n",
    "           'bsmt_qual' : {'NA':0,\"Po\":1, 'Fa':2, 'TA': 3,'Gd': 4,\"Ex\":5},\n",
    "           'bsmt_cond' : {'NA':0,\"Po\":1, 'Fa':2, 'TA': 3,'Gd': 4,\"Ex\":5},\n",
    "           'bsmt_exposure' : {'NA':0,'No':1,'Mn':2,'Av':3,'Gd':4},\n",
    "           'bsmtfin_type_1' : {'NA':0,\"Unf\":1,'LwQ':2,'Rec':3,'BLQ':4,\"ALQ\":5,'GLQ':6},\n",
    "           'bsmtfin_type_2' : {'NA':0,\"Unf\":1,'LwQ':2,'Rec':3,'BLQ':4,\"ALQ\":5,'GLQ':6},\n",
    "           'functional' : {'Sal':0,'Sev':1,'Maj2':2,'Maj1':3,'Mod':4,'Min2':5,'Min1':6,'Typ':7},\n",
    "           'garage_finish' : {'NA':0, 'Unf':1, 'RFn':2,'Fin':3},\n",
    "           'garage_qual' : {'NA':0,\"Po\":1, 'Fa':2, 'TA': 3,'Gd': 4,\"Ex\":5},\n",
    "           'garage_cond' : {'NA':0,\"Po\":1, 'Fa':2, 'TA': 3,'Gd': 4,\"Ex\":5},\n",
    "           'paved_drive' : {'N':0,'P':1,'Y':2},\n",
    "           'heating_qc' : {'NA':0,\"Po\":1, 'Fa':2, 'TA': 3,'Gd': 4,\"Ex\":5},\n",
    "           'kitchen_qual' : {'NA':0,\"Po\":1, 'Fa':2, 'TA': 3,'Gd': 4,\"Ex\":5},\n",
    "           'fireplace_qu' : {'NA':0,\"Po\":1, 'Fa':2, 'TA': 3,'Gd': 4,\"Ex\":5}\n",
    "           \n",
    "}"
   ]
  },
  {
   "cell_type": "code",
   "execution_count": null,
   "metadata": {},
   "outputs": [],
   "source": [
    "train_ord.replace(cleanup, inplace=True)"
   ]
  },
  {
   "cell_type": "code",
   "execution_count": null,
   "metadata": {},
   "outputs": [
    {
     "data": {
      "text/html": [
       "<div>\n",
       "<style scoped>\n",
       "    .dataframe tbody tr th:only-of-type {\n",
       "        vertical-align: middle;\n",
       "    }\n",
       "\n",
       "    .dataframe tbody tr th {\n",
       "        vertical-align: top;\n",
       "    }\n",
       "\n",
       "    .dataframe thead th {\n",
       "        text-align: right;\n",
       "    }\n",
       "</style>\n",
       "<table border=\"1\" class=\"dataframe\">\n",
       "  <thead>\n",
       "    <tr style=\"text-align: right;\">\n",
       "      <th></th>\n",
       "      <th>saleprice</th>\n",
       "      <th>lot_shape</th>\n",
       "      <th>overall_qual</th>\n",
       "      <th>overall_cond</th>\n",
       "      <th>exter_qual</th>\n",
       "      <th>exter_cond</th>\n",
       "      <th>bsmt_qual</th>\n",
       "      <th>bsmt_cond</th>\n",
       "      <th>bsmt_exposure</th>\n",
       "      <th>bsmtfin_type_1</th>\n",
       "      <th>bsmtfin_type_2</th>\n",
       "      <th>functional</th>\n",
       "      <th>garage_finish</th>\n",
       "      <th>garage_qual</th>\n",
       "      <th>garage_cond</th>\n",
       "      <th>paved_drive</th>\n",
       "      <th>heating_qc</th>\n",
       "      <th>kitchen_qual</th>\n",
       "      <th>fireplace_qu</th>\n",
       "    </tr>\n",
       "  </thead>\n",
       "  <tbody>\n",
       "    <tr>\n",
       "      <th>0</th>\n",
       "      <td>130500</td>\n",
       "      <td>2</td>\n",
       "      <td>5</td>\n",
       "      <td>7</td>\n",
       "      <td>4</td>\n",
       "      <td>3</td>\n",
       "      <td>3</td>\n",
       "      <td>3</td>\n",
       "      <td>1</td>\n",
       "      <td>6</td>\n",
       "      <td>1</td>\n",
       "      <td>7</td>\n",
       "      <td>2</td>\n",
       "      <td>3</td>\n",
       "      <td>3</td>\n",
       "      <td>2</td>\n",
       "      <td>5</td>\n",
       "      <td>4</td>\n",
       "      <td>0</td>\n",
       "    </tr>\n",
       "    <tr>\n",
       "      <th>1</th>\n",
       "      <td>220000</td>\n",
       "      <td>2</td>\n",
       "      <td>6</td>\n",
       "      <td>4</td>\n",
       "      <td>4</td>\n",
       "      <td>3</td>\n",
       "      <td>4</td>\n",
       "      <td>3</td>\n",
       "      <td>1</td>\n",
       "      <td>6</td>\n",
       "      <td>1</td>\n",
       "      <td>7</td>\n",
       "      <td>2</td>\n",
       "      <td>3</td>\n",
       "      <td>3</td>\n",
       "      <td>2</td>\n",
       "      <td>5</td>\n",
       "      <td>4</td>\n",
       "      <td>3</td>\n",
       "    </tr>\n",
       "    <tr>\n",
       "      <th>2</th>\n",
       "      <td>109000</td>\n",
       "      <td>3</td>\n",
       "      <td>4</td>\n",
       "      <td>6</td>\n",
       "      <td>3</td>\n",
       "      <td>4</td>\n",
       "      <td>3</td>\n",
       "      <td>3</td>\n",
       "      <td>1</td>\n",
       "      <td>6</td>\n",
       "      <td>1</td>\n",
       "      <td>7</td>\n",
       "      <td>1</td>\n",
       "      <td>3</td>\n",
       "      <td>3</td>\n",
       "      <td>2</td>\n",
       "      <td>3</td>\n",
       "      <td>4</td>\n",
       "      <td>0</td>\n",
       "    </tr>\n",
       "    <tr>\n",
       "      <th>3</th>\n",
       "      <td>174000</td>\n",
       "      <td>3</td>\n",
       "      <td>4</td>\n",
       "      <td>4</td>\n",
       "      <td>3</td>\n",
       "      <td>3</td>\n",
       "      <td>4</td>\n",
       "      <td>3</td>\n",
       "      <td>1</td>\n",
       "      <td>1</td>\n",
       "      <td>1</td>\n",
       "      <td>7</td>\n",
       "      <td>3</td>\n",
       "      <td>3</td>\n",
       "      <td>3</td>\n",
       "      <td>2</td>\n",
       "      <td>4</td>\n",
       "      <td>3</td>\n",
       "      <td>0</td>\n",
       "    </tr>\n",
       "    <tr>\n",
       "      <th>4</th>\n",
       "      <td>138500</td>\n",
       "      <td>2</td>\n",
       "      <td>5</td>\n",
       "      <td>7</td>\n",
       "      <td>3</td>\n",
       "      <td>3</td>\n",
       "      <td>2</td>\n",
       "      <td>4</td>\n",
       "      <td>1</td>\n",
       "      <td>1</td>\n",
       "      <td>1</td>\n",
       "      <td>7</td>\n",
       "      <td>1</td>\n",
       "      <td>3</td>\n",
       "      <td>3</td>\n",
       "      <td>0</td>\n",
       "      <td>3</td>\n",
       "      <td>3</td>\n",
       "      <td>0</td>\n",
       "    </tr>\n",
       "  </tbody>\n",
       "</table>\n",
       "</div>"
      ],
      "text/plain": [
       "   saleprice  lot_shape  overall_qual  overall_cond  exter_qual  exter_cond  \\\n",
       "0     130500          2             5             7           4           3   \n",
       "1     220000          2             6             4           4           3   \n",
       "2     109000          3             4             6           3           4   \n",
       "3     174000          3             4             4           3           3   \n",
       "4     138500          2             5             7           3           3   \n",
       "\n",
       "   bsmt_qual  bsmt_cond  bsmt_exposure  bsmtfin_type_1  bsmtfin_type_2  \\\n",
       "0          3          3              1               6               1   \n",
       "1          4          3              1               6               1   \n",
       "2          3          3              1               6               1   \n",
       "3          4          3              1               1               1   \n",
       "4          2          4              1               1               1   \n",
       "\n",
       "   functional  garage_finish  garage_qual  garage_cond  paved_drive  \\\n",
       "0           7              2            3            3            2   \n",
       "1           7              2            3            3            2   \n",
       "2           7              1            3            3            2   \n",
       "3           7              3            3            3            2   \n",
       "4           7              1            3            3            0   \n",
       "\n",
       "   heating_qc  kitchen_qual  fireplace_qu  \n",
       "0           5             4             0  \n",
       "1           5             4             3  \n",
       "2           3             4             0  \n",
       "3           4             3             0  \n",
       "4           3             3             0  "
      ]
     },
     "execution_count": 56,
     "metadata": {},
     "output_type": "execute_result"
    }
   ],
   "source": [
    "train_ord.head()"
   ]
  },
  {
   "cell_type": "markdown",
   "metadata": {},
   "source": [
    "<h1><center>Data Dictionary Ordinal DataFrame</center></h1>\n",
    "\n",
    "|Feature|Type|Ranking Representation|\n",
    "|---|---|---|\n",
    "|lot_shape|Object|{'IR3':0,'IR2':1,'IR1':2,'Reg':3}|\n",
    "|overall_qual|Object|{'1':0,'2':1,'3':2,'4':3,\"5\":4,\"6\":5,'7':6,'8':7,'9':8,'10':9}|\n",
    "|overall_cond|Object|{'1':0,'2':1,'3':2,'4':3,\"5\":4,\"6\":5,'7':6,'8':7,'9':8}|\n",
    "|exter_qual|Object|{'NA':0,\"Po\":1, 'Fa':2, 'TA': 3,'Gd': 4,\"Ex\":5}|\n",
    "|exter_cond|Object|{'NA':0,\"Po\":1, 'Fa':2, 'TA': 3,'Gd': 4,\"Ex\":5}|\n",
    "|bsmt_qual|Object|{'NA':0,\"Po\":1, 'Fa':2, 'TA': 3,'Gd': 4,\"Ex\":5}|\n",
    "|bsmt_cond|Object|{'NA':0,\"Po\":1, 'Fa':2, 'TA': 3,'Gd': 4,\"Ex\":5}|\n",
    "|bsmt_exposure|Object|{'NA':0,'No':1,'Mn':2,'Av':3,'Gd':4}|\n",
    "|bsmtfin_type_1|Object|{'NA':0,\"Unf\":1,'LwQ':2,'Rec':3,'BLQ':4,\"ALQ\":5,'GLQ':6}|\n",
    "|bsmtfin_type_2|Object|{'NA':0,\"Unf\":1,'LwQ':2,'Rec':3,'BLQ':4,\"ALQ\":5,'GLQ':6}|\n",
    "|functional|Object|{'Sal':0,'Sev':1,'Maj2':2,'Maj1':3,'Mod':4,'Min2':5,'Min1':6,'Typ':7}|\n",
    "|garage_finish|Object|{'NA':0, 'Unf':1, 'RFn':2,'Fin':3}|\n",
    "|garage_qual|Object|{'NA':0,\"Po\":1, 'Fa':2, 'TA': 3,'Gd': 4,\"Ex\":5}|\n",
    "|garage_cond|Object|{'NA':0,\"Po\":1, 'Fa':2, 'TA': 3,'Gd': 4,\"Ex\":5}|\n",
    "|paved_drive|Object|{'N':0,'P':1,'Y':2}|\n",
    "|heating_qc|Object|{'NA':0,\"Po\":1, 'Fa':2, 'TA': 3,'Gd': 4,\"Ex\":5}|\n",
    "|kitchen_qual|Object|{'NA':0,\"Po\":1, 'Fa':2, 'TA': 3,'Gd': 4,\"Ex\":5}|\n",
    "|fireplace_qu|Object|{'NA':0,\"Po\":1, 'Fa':2, 'TA': 3,'Gd': 4,\"Ex\":5}|"
   ]
  },
  {
   "cell_type": "markdown",
   "metadata": {},
   "source": [
    "<a id='Model1'></a>\n",
    "# Model 1"
   ]
  },
  {
   "cell_type": "markdown",
   "metadata": {},
   "source": [
    "<a id='check__corr'></a>\n",
    "# 4) Check for Correlation"
   ]
  },
  {
   "cell_type": "code",
   "execution_count": null,
   "metadata": {},
   "outputs": [
    {
     "data": {
      "text/html": [
       "<div>\n",
       "<style scoped>\n",
       "    .dataframe tbody tr th:only-of-type {\n",
       "        vertical-align: middle;\n",
       "    }\n",
       "\n",
       "    .dataframe tbody tr th {\n",
       "        vertical-align: top;\n",
       "    }\n",
       "\n",
       "    .dataframe thead th {\n",
       "        text-align: right;\n",
       "    }\n",
       "</style>\n",
       "<table border=\"1\" class=\"dataframe\">\n",
       "  <thead>\n",
       "    <tr style=\"text-align: right;\">\n",
       "      <th></th>\n",
       "      <th>saleprice</th>\n",
       "      <th>id</th>\n",
       "      <th>lot_area</th>\n",
       "      <th>year_built</th>\n",
       "      <th>year_remod/add</th>\n",
       "      <th>mas_vnr_area</th>\n",
       "      <th>bsmtfin_sf_1</th>\n",
       "      <th>bsmtfin_sf_2</th>\n",
       "      <th>bsmt_unf_sf</th>\n",
       "      <th>total_bsmt_sf</th>\n",
       "      <th>...</th>\n",
       "      <th>garage_area</th>\n",
       "      <th>wood_deck_sf</th>\n",
       "      <th>open_porch_sf</th>\n",
       "      <th>enclosed_porch</th>\n",
       "      <th>3ssn_porch</th>\n",
       "      <th>screen_porch</th>\n",
       "      <th>pool_area</th>\n",
       "      <th>misc_val</th>\n",
       "      <th>mo_sold</th>\n",
       "      <th>yr_sold</th>\n",
       "    </tr>\n",
       "  </thead>\n",
       "  <tbody>\n",
       "    <tr>\n",
       "      <th>0</th>\n",
       "      <td>130500</td>\n",
       "      <td>109</td>\n",
       "      <td>13517</td>\n",
       "      <td>1976</td>\n",
       "      <td>2005</td>\n",
       "      <td>289.0</td>\n",
       "      <td>533.0</td>\n",
       "      <td>0.0</td>\n",
       "      <td>192.0</td>\n",
       "      <td>725.0</td>\n",
       "      <td>...</td>\n",
       "      <td>475.0</td>\n",
       "      <td>0</td>\n",
       "      <td>44</td>\n",
       "      <td>0</td>\n",
       "      <td>0</td>\n",
       "      <td>0</td>\n",
       "      <td>0</td>\n",
       "      <td>0</td>\n",
       "      <td>3</td>\n",
       "      <td>2010</td>\n",
       "    </tr>\n",
       "    <tr>\n",
       "      <th>1</th>\n",
       "      <td>220000</td>\n",
       "      <td>544</td>\n",
       "      <td>11492</td>\n",
       "      <td>1996</td>\n",
       "      <td>1997</td>\n",
       "      <td>132.0</td>\n",
       "      <td>637.0</td>\n",
       "      <td>0.0</td>\n",
       "      <td>276.0</td>\n",
       "      <td>913.0</td>\n",
       "      <td>...</td>\n",
       "      <td>559.0</td>\n",
       "      <td>0</td>\n",
       "      <td>74</td>\n",
       "      <td>0</td>\n",
       "      <td>0</td>\n",
       "      <td>0</td>\n",
       "      <td>0</td>\n",
       "      <td>0</td>\n",
       "      <td>4</td>\n",
       "      <td>2009</td>\n",
       "    </tr>\n",
       "    <tr>\n",
       "      <th>2</th>\n",
       "      <td>109000</td>\n",
       "      <td>153</td>\n",
       "      <td>7922</td>\n",
       "      <td>1953</td>\n",
       "      <td>2007</td>\n",
       "      <td>0.0</td>\n",
       "      <td>731.0</td>\n",
       "      <td>0.0</td>\n",
       "      <td>326.0</td>\n",
       "      <td>1057.0</td>\n",
       "      <td>...</td>\n",
       "      <td>246.0</td>\n",
       "      <td>0</td>\n",
       "      <td>52</td>\n",
       "      <td>0</td>\n",
       "      <td>0</td>\n",
       "      <td>0</td>\n",
       "      <td>0</td>\n",
       "      <td>0</td>\n",
       "      <td>1</td>\n",
       "      <td>2010</td>\n",
       "    </tr>\n",
       "    <tr>\n",
       "      <th>3</th>\n",
       "      <td>174000</td>\n",
       "      <td>318</td>\n",
       "      <td>9802</td>\n",
       "      <td>2006</td>\n",
       "      <td>2007</td>\n",
       "      <td>0.0</td>\n",
       "      <td>0.0</td>\n",
       "      <td>0.0</td>\n",
       "      <td>384.0</td>\n",
       "      <td>384.0</td>\n",
       "      <td>...</td>\n",
       "      <td>400.0</td>\n",
       "      <td>100</td>\n",
       "      <td>0</td>\n",
       "      <td>0</td>\n",
       "      <td>0</td>\n",
       "      <td>0</td>\n",
       "      <td>0</td>\n",
       "      <td>0</td>\n",
       "      <td>4</td>\n",
       "      <td>2010</td>\n",
       "    </tr>\n",
       "    <tr>\n",
       "      <th>4</th>\n",
       "      <td>138500</td>\n",
       "      <td>255</td>\n",
       "      <td>14235</td>\n",
       "      <td>1900</td>\n",
       "      <td>1993</td>\n",
       "      <td>0.0</td>\n",
       "      <td>0.0</td>\n",
       "      <td>0.0</td>\n",
       "      <td>676.0</td>\n",
       "      <td>676.0</td>\n",
       "      <td>...</td>\n",
       "      <td>484.0</td>\n",
       "      <td>0</td>\n",
       "      <td>59</td>\n",
       "      <td>0</td>\n",
       "      <td>0</td>\n",
       "      <td>0</td>\n",
       "      <td>0</td>\n",
       "      <td>0</td>\n",
       "      <td>3</td>\n",
       "      <td>2010</td>\n",
       "    </tr>\n",
       "  </tbody>\n",
       "</table>\n",
       "<p>5 rows × 34 columns</p>\n",
       "</div>"
      ],
      "text/plain": [
       "   saleprice   id  lot_area  year_built  year_remod/add  mas_vnr_area  \\\n",
       "0     130500  109     13517        1976            2005         289.0   \n",
       "1     220000  544     11492        1996            1997         132.0   \n",
       "2     109000  153      7922        1953            2007           0.0   \n",
       "3     174000  318      9802        2006            2007           0.0   \n",
       "4     138500  255     14235        1900            1993           0.0   \n",
       "\n",
       "   bsmtfin_sf_1  bsmtfin_sf_2  bsmt_unf_sf  total_bsmt_sf  ...  garage_area  \\\n",
       "0         533.0           0.0        192.0          725.0  ...        475.0   \n",
       "1         637.0           0.0        276.0          913.0  ...        559.0   \n",
       "2         731.0           0.0        326.0         1057.0  ...        246.0   \n",
       "3           0.0           0.0        384.0          384.0  ...        400.0   \n",
       "4           0.0           0.0        676.0          676.0  ...        484.0   \n",
       "\n",
       "   wood_deck_sf  open_porch_sf  enclosed_porch  3ssn_porch  screen_porch  \\\n",
       "0             0             44               0           0             0   \n",
       "1             0             74               0           0             0   \n",
       "2             0             52               0           0             0   \n",
       "3           100              0               0           0             0   \n",
       "4             0             59               0           0             0   \n",
       "\n",
       "   pool_area  misc_val  mo_sold  yr_sold  \n",
       "0          0         0        3     2010  \n",
       "1          0         0        4     2009  \n",
       "2          0         0        1     2010  \n",
       "3          0         0        4     2010  \n",
       "4          0         0        3     2010  \n",
       "\n",
       "[5 rows x 34 columns]"
      ]
     },
     "execution_count": 57,
     "metadata": {},
     "output_type": "execute_result"
    }
   ],
   "source": [
    "train_cont.head()"
   ]
  },
  {
   "cell_type": "code",
   "execution_count": null,
   "metadata": {},
   "outputs": [
    {
     "data": {
      "text/html": [
       "<div>\n",
       "<style scoped>\n",
       "    .dataframe tbody tr th:only-of-type {\n",
       "        vertical-align: middle;\n",
       "    }\n",
       "\n",
       "    .dataframe tbody tr th {\n",
       "        vertical-align: top;\n",
       "    }\n",
       "\n",
       "    .dataframe thead th {\n",
       "        text-align: right;\n",
       "    }\n",
       "</style>\n",
       "<table border=\"1\" class=\"dataframe\">\n",
       "  <thead>\n",
       "    <tr style=\"text-align: right;\">\n",
       "      <th></th>\n",
       "      <th>saleprice</th>\n",
       "      <th>ms_subclass</th>\n",
       "      <th>ms_zoning</th>\n",
       "      <th>street</th>\n",
       "      <th>land_contour</th>\n",
       "      <th>lot_config</th>\n",
       "      <th>neighborhood</th>\n",
       "      <th>condition_1</th>\n",
       "      <th>condition_2</th>\n",
       "      <th>bldg_type</th>\n",
       "      <th>...</th>\n",
       "      <th>roof_style</th>\n",
       "      <th>roof_matl</th>\n",
       "      <th>mas_vnr_type</th>\n",
       "      <th>foundation</th>\n",
       "      <th>heating</th>\n",
       "      <th>central_air</th>\n",
       "      <th>garage_type</th>\n",
       "      <th>sale_type</th>\n",
       "      <th>exterior_1st</th>\n",
       "      <th>exterior_2nd</th>\n",
       "    </tr>\n",
       "  </thead>\n",
       "  <tbody>\n",
       "    <tr>\n",
       "      <th>0</th>\n",
       "      <td>130500</td>\n",
       "      <td>60</td>\n",
       "      <td>RL</td>\n",
       "      <td>Pave</td>\n",
       "      <td>Lvl</td>\n",
       "      <td>CulDSac</td>\n",
       "      <td>Sawyer</td>\n",
       "      <td>RRAe</td>\n",
       "      <td>Norm</td>\n",
       "      <td>1Fam</td>\n",
       "      <td>...</td>\n",
       "      <td>Gable</td>\n",
       "      <td>CompShg</td>\n",
       "      <td>BrkFace</td>\n",
       "      <td>CBlock</td>\n",
       "      <td>GasA</td>\n",
       "      <td>Y</td>\n",
       "      <td>Attchd</td>\n",
       "      <td>WD</td>\n",
       "      <td>HdBoard</td>\n",
       "      <td>Plywood</td>\n",
       "    </tr>\n",
       "    <tr>\n",
       "      <th>1</th>\n",
       "      <td>220000</td>\n",
       "      <td>60</td>\n",
       "      <td>RL</td>\n",
       "      <td>Pave</td>\n",
       "      <td>Lvl</td>\n",
       "      <td>CulDSac</td>\n",
       "      <td>SawyerW</td>\n",
       "      <td>Norm</td>\n",
       "      <td>Norm</td>\n",
       "      <td>1Fam</td>\n",
       "      <td>...</td>\n",
       "      <td>Gable</td>\n",
       "      <td>CompShg</td>\n",
       "      <td>BrkFace</td>\n",
       "      <td>PConc</td>\n",
       "      <td>GasA</td>\n",
       "      <td>Y</td>\n",
       "      <td>Attchd</td>\n",
       "      <td>WD</td>\n",
       "      <td>VinylSd</td>\n",
       "      <td>VinylSd</td>\n",
       "    </tr>\n",
       "    <tr>\n",
       "      <th>2</th>\n",
       "      <td>109000</td>\n",
       "      <td>20</td>\n",
       "      <td>RL</td>\n",
       "      <td>Pave</td>\n",
       "      <td>Lvl</td>\n",
       "      <td>Inside</td>\n",
       "      <td>NAmes</td>\n",
       "      <td>Norm</td>\n",
       "      <td>Norm</td>\n",
       "      <td>1Fam</td>\n",
       "      <td>...</td>\n",
       "      <td>Gable</td>\n",
       "      <td>CompShg</td>\n",
       "      <td>None</td>\n",
       "      <td>CBlock</td>\n",
       "      <td>GasA</td>\n",
       "      <td>Y</td>\n",
       "      <td>Detchd</td>\n",
       "      <td>WD</td>\n",
       "      <td>VinylSd</td>\n",
       "      <td>VinylSd</td>\n",
       "    </tr>\n",
       "    <tr>\n",
       "      <th>3</th>\n",
       "      <td>174000</td>\n",
       "      <td>60</td>\n",
       "      <td>RL</td>\n",
       "      <td>Pave</td>\n",
       "      <td>Lvl</td>\n",
       "      <td>Inside</td>\n",
       "      <td>Timber</td>\n",
       "      <td>Norm</td>\n",
       "      <td>Norm</td>\n",
       "      <td>1Fam</td>\n",
       "      <td>...</td>\n",
       "      <td>Gable</td>\n",
       "      <td>CompShg</td>\n",
       "      <td>None</td>\n",
       "      <td>PConc</td>\n",
       "      <td>GasA</td>\n",
       "      <td>Y</td>\n",
       "      <td>BuiltIn</td>\n",
       "      <td>WD</td>\n",
       "      <td>VinylSd</td>\n",
       "      <td>VinylSd</td>\n",
       "    </tr>\n",
       "    <tr>\n",
       "      <th>4</th>\n",
       "      <td>138500</td>\n",
       "      <td>50</td>\n",
       "      <td>RL</td>\n",
       "      <td>Pave</td>\n",
       "      <td>Lvl</td>\n",
       "      <td>Inside</td>\n",
       "      <td>SawyerW</td>\n",
       "      <td>Norm</td>\n",
       "      <td>Norm</td>\n",
       "      <td>1Fam</td>\n",
       "      <td>...</td>\n",
       "      <td>Gable</td>\n",
       "      <td>CompShg</td>\n",
       "      <td>None</td>\n",
       "      <td>PConc</td>\n",
       "      <td>GasA</td>\n",
       "      <td>Y</td>\n",
       "      <td>Detchd</td>\n",
       "      <td>WD</td>\n",
       "      <td>Wd Sdng</td>\n",
       "      <td>Plywood</td>\n",
       "    </tr>\n",
       "  </tbody>\n",
       "</table>\n",
       "<p>5 rows × 21 columns</p>\n",
       "</div>"
      ],
      "text/plain": [
       "   saleprice ms_subclass ms_zoning street land_contour lot_config  \\\n",
       "0     130500          60        RL   Pave          Lvl    CulDSac   \n",
       "1     220000          60        RL   Pave          Lvl    CulDSac   \n",
       "2     109000          20        RL   Pave          Lvl     Inside   \n",
       "3     174000          60        RL   Pave          Lvl     Inside   \n",
       "4     138500          50        RL   Pave          Lvl     Inside   \n",
       "\n",
       "  neighborhood condition_1 condition_2 bldg_type  ... roof_style roof_matl  \\\n",
       "0       Sawyer        RRAe        Norm      1Fam  ...      Gable   CompShg   \n",
       "1      SawyerW        Norm        Norm      1Fam  ...      Gable   CompShg   \n",
       "2        NAmes        Norm        Norm      1Fam  ...      Gable   CompShg   \n",
       "3       Timber        Norm        Norm      1Fam  ...      Gable   CompShg   \n",
       "4      SawyerW        Norm        Norm      1Fam  ...      Gable   CompShg   \n",
       "\n",
       "  mas_vnr_type foundation heating central_air garage_type sale_type  \\\n",
       "0      BrkFace     CBlock    GasA           Y      Attchd       WD    \n",
       "1      BrkFace      PConc    GasA           Y      Attchd       WD    \n",
       "2         None     CBlock    GasA           Y      Detchd       WD    \n",
       "3         None      PConc    GasA           Y     BuiltIn       WD    \n",
       "4         None      PConc    GasA           Y      Detchd       WD    \n",
       "\n",
       "  exterior_1st exterior_2nd  \n",
       "0      HdBoard      Plywood  \n",
       "1      VinylSd      VinylSd  \n",
       "2      VinylSd      VinylSd  \n",
       "3      VinylSd      VinylSd  \n",
       "4      Wd Sdng      Plywood  \n",
       "\n",
       "[5 rows x 21 columns]"
      ]
     },
     "execution_count": 58,
     "metadata": {},
     "output_type": "execute_result"
    }
   ],
   "source": [
    "train_nom.head()"
   ]
  },
  {
   "cell_type": "code",
   "execution_count": null,
   "metadata": {},
   "outputs": [
    {
     "data": {
      "text/html": [
       "<div>\n",
       "<style scoped>\n",
       "    .dataframe tbody tr th:only-of-type {\n",
       "        vertical-align: middle;\n",
       "    }\n",
       "\n",
       "    .dataframe tbody tr th {\n",
       "        vertical-align: top;\n",
       "    }\n",
       "\n",
       "    .dataframe thead th {\n",
       "        text-align: right;\n",
       "    }\n",
       "</style>\n",
       "<table border=\"1\" class=\"dataframe\">\n",
       "  <thead>\n",
       "    <tr style=\"text-align: right;\">\n",
       "      <th></th>\n",
       "      <th>saleprice</th>\n",
       "      <th>lot_shape</th>\n",
       "      <th>overall_qual</th>\n",
       "      <th>overall_cond</th>\n",
       "      <th>exter_qual</th>\n",
       "      <th>exter_cond</th>\n",
       "      <th>bsmt_qual</th>\n",
       "      <th>bsmt_cond</th>\n",
       "      <th>bsmt_exposure</th>\n",
       "      <th>bsmtfin_type_1</th>\n",
       "      <th>bsmtfin_type_2</th>\n",
       "      <th>functional</th>\n",
       "      <th>garage_finish</th>\n",
       "      <th>garage_qual</th>\n",
       "      <th>garage_cond</th>\n",
       "      <th>paved_drive</th>\n",
       "      <th>heating_qc</th>\n",
       "      <th>kitchen_qual</th>\n",
       "      <th>fireplace_qu</th>\n",
       "    </tr>\n",
       "  </thead>\n",
       "  <tbody>\n",
       "    <tr>\n",
       "      <th>0</th>\n",
       "      <td>130500</td>\n",
       "      <td>2</td>\n",
       "      <td>5</td>\n",
       "      <td>7</td>\n",
       "      <td>4</td>\n",
       "      <td>3</td>\n",
       "      <td>3</td>\n",
       "      <td>3</td>\n",
       "      <td>1</td>\n",
       "      <td>6</td>\n",
       "      <td>1</td>\n",
       "      <td>7</td>\n",
       "      <td>2</td>\n",
       "      <td>3</td>\n",
       "      <td>3</td>\n",
       "      <td>2</td>\n",
       "      <td>5</td>\n",
       "      <td>4</td>\n",
       "      <td>0</td>\n",
       "    </tr>\n",
       "    <tr>\n",
       "      <th>1</th>\n",
       "      <td>220000</td>\n",
       "      <td>2</td>\n",
       "      <td>6</td>\n",
       "      <td>4</td>\n",
       "      <td>4</td>\n",
       "      <td>3</td>\n",
       "      <td>4</td>\n",
       "      <td>3</td>\n",
       "      <td>1</td>\n",
       "      <td>6</td>\n",
       "      <td>1</td>\n",
       "      <td>7</td>\n",
       "      <td>2</td>\n",
       "      <td>3</td>\n",
       "      <td>3</td>\n",
       "      <td>2</td>\n",
       "      <td>5</td>\n",
       "      <td>4</td>\n",
       "      <td>3</td>\n",
       "    </tr>\n",
       "    <tr>\n",
       "      <th>2</th>\n",
       "      <td>109000</td>\n",
       "      <td>3</td>\n",
       "      <td>4</td>\n",
       "      <td>6</td>\n",
       "      <td>3</td>\n",
       "      <td>4</td>\n",
       "      <td>3</td>\n",
       "      <td>3</td>\n",
       "      <td>1</td>\n",
       "      <td>6</td>\n",
       "      <td>1</td>\n",
       "      <td>7</td>\n",
       "      <td>1</td>\n",
       "      <td>3</td>\n",
       "      <td>3</td>\n",
       "      <td>2</td>\n",
       "      <td>3</td>\n",
       "      <td>4</td>\n",
       "      <td>0</td>\n",
       "    </tr>\n",
       "    <tr>\n",
       "      <th>3</th>\n",
       "      <td>174000</td>\n",
       "      <td>3</td>\n",
       "      <td>4</td>\n",
       "      <td>4</td>\n",
       "      <td>3</td>\n",
       "      <td>3</td>\n",
       "      <td>4</td>\n",
       "      <td>3</td>\n",
       "      <td>1</td>\n",
       "      <td>1</td>\n",
       "      <td>1</td>\n",
       "      <td>7</td>\n",
       "      <td>3</td>\n",
       "      <td>3</td>\n",
       "      <td>3</td>\n",
       "      <td>2</td>\n",
       "      <td>4</td>\n",
       "      <td>3</td>\n",
       "      <td>0</td>\n",
       "    </tr>\n",
       "    <tr>\n",
       "      <th>4</th>\n",
       "      <td>138500</td>\n",
       "      <td>2</td>\n",
       "      <td>5</td>\n",
       "      <td>7</td>\n",
       "      <td>3</td>\n",
       "      <td>3</td>\n",
       "      <td>2</td>\n",
       "      <td>4</td>\n",
       "      <td>1</td>\n",
       "      <td>1</td>\n",
       "      <td>1</td>\n",
       "      <td>7</td>\n",
       "      <td>1</td>\n",
       "      <td>3</td>\n",
       "      <td>3</td>\n",
       "      <td>0</td>\n",
       "      <td>3</td>\n",
       "      <td>3</td>\n",
       "      <td>0</td>\n",
       "    </tr>\n",
       "  </tbody>\n",
       "</table>\n",
       "</div>"
      ],
      "text/plain": [
       "   saleprice  lot_shape  overall_qual  overall_cond  exter_qual  exter_cond  \\\n",
       "0     130500          2             5             7           4           3   \n",
       "1     220000          2             6             4           4           3   \n",
       "2     109000          3             4             6           3           4   \n",
       "3     174000          3             4             4           3           3   \n",
       "4     138500          2             5             7           3           3   \n",
       "\n",
       "   bsmt_qual  bsmt_cond  bsmt_exposure  bsmtfin_type_1  bsmtfin_type_2  \\\n",
       "0          3          3              1               6               1   \n",
       "1          4          3              1               6               1   \n",
       "2          3          3              1               6               1   \n",
       "3          4          3              1               1               1   \n",
       "4          2          4              1               1               1   \n",
       "\n",
       "   functional  garage_finish  garage_qual  garage_cond  paved_drive  \\\n",
       "0           7              2            3            3            2   \n",
       "1           7              2            3            3            2   \n",
       "2           7              1            3            3            2   \n",
       "3           7              3            3            3            2   \n",
       "4           7              1            3            3            0   \n",
       "\n",
       "   heating_qc  kitchen_qual  fireplace_qu  \n",
       "0           5             4             0  \n",
       "1           5             4             3  \n",
       "2           3             4             0  \n",
       "3           4             3             0  \n",
       "4           3             3             0  "
      ]
     },
     "execution_count": 59,
     "metadata": {},
     "output_type": "execute_result"
    }
   ],
   "source": [
    "train_ord.head()"
   ]
  },
  {
   "cell_type": "markdown",
   "metadata": {},
   "source": [
    "<a id='check_corr'></a>\n",
    "### 4.1) Check for Correlation between Price and Variables"
   ]
  },
  {
   "cell_type": "code",
   "execution_count": null,
   "metadata": {},
   "outputs": [
    {
     "data": {
      "text/plain": [
       "Text(0.5, 1.0, 'Heatmap for Continuous Variables')"
      ]
     },
     "execution_count": 60,
     "metadata": {},
     "output_type": "execute_result"
    }
   ],
   "source": [
    "heatmap(train_cont,(30,20))\n",
    "plt.title('Heatmap for Continuous Variables', fontsize = 30)"
   ]
  },
  {
   "cell_type": "markdown",
   "metadata": {},
   "source": [
    "There are too many variables in to see the correlation of each variable on the heatmap above.\n",
    "\n",
    "Therefor, I would take the top 10 most correlated variables with price picked out using the correlation function to use in my model to predict housing prices."
   ]
  },
  {
   "cell_type": "code",
   "execution_count": null,
   "metadata": {},
   "outputs": [],
   "source": [
    "corr = train_cont.corr()\n",
    "corr.sort_values(['saleprice'], ascending=False, inplace=True)\n",
    "corr['saleprice'].head(11)"
   ]
  },
  {
   "cell_type": "code",
   "execution_count": null,
   "metadata": {},
   "outputs": [],
   "source": [
    "heatmap(train_ord,(20,15))\n",
    "plt.title('Heatmap for Ordinal Variables', fontsize = 20)"
   ]
  },
  {
   "cell_type": "markdown",
   "metadata": {},
   "source": [
    "From the heatmap above, it looks like the top 10 variables correlated to saleprice is overall_qual, exter_qual, kitchen_qual, bsmt_qual, garage_finish, fireplace_qu, heating_qc, bsmt_exposure, bsmtfin_type_1, paved_drive.\n",
    "To confirm, I used the correlation function to get the exact values. These variables would be used as predictors to predict housing price."
   ]
  },
  {
   "cell_type": "code",
   "execution_count": null,
   "metadata": {},
   "outputs": [],
   "source": [
    "corr_ord = train_ord.corr()\n",
    "corr_ord.sort_values([\"saleprice\"], ascending=False, inplace= True)\n",
    "corr_ord[\"saleprice\"].head(11)"
   ]
  },
  {
   "cell_type": "markdown",
   "metadata": {},
   "source": [
    "<a id='boxplot'></a>\n",
    "### 4.2) Check Boxplot Between Price and Variables"
   ]
  },
  {
   "cell_type": "code",
   "execution_count": null,
   "metadata": {
    "scrolled": false
   },
   "outputs": [],
   "source": [
    "boxplot(train_nom, (25,70), 'saleprice')"
   ]
  },
  {
   "cell_type": "markdown",
   "metadata": {},
   "source": [
    "ms_zoning: The median pricing of each category in MS zoning is significantly different from one another. Hence it can be inferred that each category has a different pricing range from one another and hence can be used in the model for pridicting price.\n",
    "\n",
    "\n",
    "street: The median of Paved street is higher than median of Gravel street. This should that different street types affect the pricing of the house, hence it can be used in the model.\n",
    "\n",
    "\n",
    "neighbourhood: The prices of houses in different neighbourhoods in the State varies with each state, therefore it can be used as a variable in the model.\n",
    "\n",
    "\n",
    "condition_1: Different Proximities to various conditions seem to have effect on the prices of the houses. Hence it can be added into the model.\n",
    "\n",
    "\n",
    "condition_2: : Different Proximities to various conditions seem to have effect on the prices of the houses. Hence it can be added into the model.\n",
    "\n",
    "\n",
    "house_style: Different kind of houses seems to have different price ranges, Hence it can be added into the model.\n",
    "\n",
    "\n",
    "roof_materials: Materials used on the roof seem to have a significant effect on the SalePrice. Therefore, it is added to the model.\n",
    "\n",
    "\n",
    "heating: Different methods of heating in the house has a different price range as well based on the median of each type. Hence, it could be used to predict price.\n",
    "\n",
    "\n",
    "central_air: Whether or not the house has a central air system seem to have an effect in price, hence it will be added to our model.\n",
    "\n",
    "\n",
    "garage_type: Different types of garage has different price ranges. Hence it can be used as a variable as part of the model. However, the significance might not be as the price different is not very drastic.\n",
    "\n",
    "\n",
    "sale_type: Some salestype results in different SalePrices. So, it could be added into our model. However, some of the different type result in the same price range.\n",
    "\n"
   ]
  },
  {
   "cell_type": "code",
   "execution_count": null,
   "metadata": {},
   "outputs": [],
   "source": [
    "boxplot(train_ord, (25,70),'saleprice')"
   ]
  },
  {
   "cell_type": "markdown",
   "metadata": {},
   "source": [
    "The boxplot complements the correlation function above in showing how the different ordinal variables affect the Salesprice. You can see the highly correlated ones have an obvious uptrend. Such as Overall Quality against price."
   ]
  },
  {
   "cell_type": "markdown",
   "metadata": {},
   "source": [
    "<a id='create_model'></a>\n",
    "# 5) Create Model"
   ]
  },
  {
   "cell_type": "markdown",
   "metadata": {},
   "source": [
    "<a id='drop'></a>\n",
    "### 5.1) Determine which Column to drop"
   ]
  },
  {
   "cell_type": "markdown",
   "metadata": {},
   "source": [
    "For this model, I have decided to take the top 10 variables with the highest correlation with Saleprice in each of the seperated DataFrames to use in my model to predict housing SalesPrice."
   ]
  },
  {
   "cell_type": "code",
   "execution_count": null,
   "metadata": {},
   "outputs": [],
   "source": [
    "# Nominal df\n",
    "\n",
    "train_model_nom = train_nom[['saleprice','ms_zoning', \"street\", 'neighborhood','condition_1', 'condition_2', 'house_style', 'roof_matl', 'heating', \"central_air\", \"garage_type\", \"sale_type\"]]\n",
    "train_model_nom = pd.get_dummies(train_model_nom, drop_first=True)\n",
    "train_model_nom.head()"
   ]
  },
  {
   "cell_type": "code",
   "execution_count": null,
   "metadata": {},
   "outputs": [],
   "source": [
    "# Ordinal df\n",
    "\n",
    "train_model_ord = train_ord[corr_ord[\"saleprice\"].iloc[0:11].index ]\n",
    "train_model_ord.head()"
   ]
  },
  {
   "cell_type": "code",
   "execution_count": null,
   "metadata": {},
   "outputs": [],
   "source": [
    "# Continous df\n",
    "\n",
    "train_model_cont = train_cont[corr[\"saleprice\"].iloc[0:11].index]\n",
    "train_model_cont.head()"
   ]
  },
  {
   "cell_type": "markdown",
   "metadata": {},
   "source": [
    "<a id='merge'></a>\n",
    "### 5.2) Merge DataFrames to create Model"
   ]
  },
  {
   "cell_type": "code",
   "execution_count": null,
   "metadata": {},
   "outputs": [],
   "source": [
    "# Merge 3 DataFrames together\n",
    "train_1 = pd.concat([pd.concat([train_model_cont, train_model_ord.drop(columns = \"saleprice\")], axis=1),train_model_nom.drop(columns = \"saleprice\")], axis=1)\n",
    "train_1.head()"
   ]
  },
  {
   "cell_type": "markdown",
   "metadata": {},
   "source": [
    "<a id='corr'></a>\n",
    "### 5.3) Check for correlation and pick 30 highest correlation"
   ]
  },
  {
   "cell_type": "code",
   "execution_count": null,
   "metadata": {},
   "outputs": [],
   "source": [
    "pd.set_option('display.max_rows', 100)\n",
    "pd.set_option('display.max_columns', 100)\n",
    "corr_1 = train_1.corr()\n",
    "corr_1.sort_values([\"saleprice\"], ascending=False, inplace= True)\n",
    "corr_1['saleprice'].head(30)"
   ]
  },
  {
   "cell_type": "code",
   "execution_count": null,
   "metadata": {},
   "outputs": [],
   "source": [
    "# Main model use to predict Housing Price\n",
    "features_1 = corr_1[\"saleprice\"].iloc[1:31].index \n",
    "train_model_1 = train_1[features_1 ]"
   ]
  },
  {
   "cell_type": "code",
   "execution_count": null,
   "metadata": {},
   "outputs": [],
   "source": [
    "train_model_1.head()"
   ]
  },
  {
   "cell_type": "markdown",
   "metadata": {},
   "source": [
    "<a id='model_prep'></a>\n",
    "# 6) Prep Model"
   ]
  },
  {
   "cell_type": "markdown",
   "metadata": {},
   "source": [
    "\n",
    "### 6.1) Model Prep: Create our features matrix (`X`) and target vector (`y`)"
   ]
  },
  {
   "cell_type": "code",
   "execution_count": null,
   "metadata": {},
   "outputs": [],
   "source": [
    "X_1 = train_model_1\n",
    "y_1 = train_1[\"saleprice\"]"
   ]
  },
  {
   "cell_type": "markdown",
   "metadata": {},
   "source": [
    "\n",
    "### 6.2) Model Prep: Train/test split"
   ]
  },
  {
   "cell_type": "code",
   "execution_count": null,
   "metadata": {},
   "outputs": [],
   "source": [
    "# Creating the train/test split\n",
    "X_train_1, X_test_1, y_train_1, y_test_1 = train_test_split(X_1,y_1,test_size=0.2, random_state = 42)"
   ]
  },
  {
   "cell_type": "markdown",
   "metadata": {},
   "source": [
    "\n",
    "### 6.3) Model Prep: Normalize / PowerTransform Values"
   ]
  },
  {
   "cell_type": "code",
   "execution_count": null,
   "metadata": {},
   "outputs": [],
   "source": [
    "ss = StandardScaler()\n",
    "X_train_sc1 = ss.fit_transform(X_train_1)\n",
    "X_test_sc1 = ss.transform(X_test_1)"
   ]
  },
  {
   "cell_type": "markdown",
   "metadata": {},
   "source": [
    "\n",
    "### 6.4) Model Prep: Instantiate our models"
   ]
  },
  {
   "cell_type": "code",
   "execution_count": null,
   "metadata": {},
   "outputs": [],
   "source": [
    "lr = LinearRegression()"
   ]
  },
  {
   "cell_type": "code",
   "execution_count": null,
   "metadata": {},
   "outputs": [],
   "source": [
    "lasso = LassoCV(n_alphas=200)"
   ]
  },
  {
   "cell_type": "code",
   "execution_count": null,
   "metadata": {},
   "outputs": [],
   "source": [
    "ridge = RidgeCV(alphas = np.linspace(.1,10,100))"
   ]
  },
  {
   "cell_type": "markdown",
   "metadata": {},
   "source": [
    "<a id='test1'></a>\n",
    "# 7) Test Model"
   ]
  },
  {
   "cell_type": "markdown",
   "metadata": {},
   "source": [
    "\n",
    "### 7.1) Cross validation"
   ]
  },
  {
   "cell_type": "code",
   "execution_count": null,
   "metadata": {},
   "outputs": [],
   "source": [
    "lr_score_1 = cross_val_score(lr,X_train_sc1,y_train_1,cv=10)\n",
    "lr_score_1.mean()"
   ]
  },
  {
   "cell_type": "code",
   "execution_count": null,
   "metadata": {},
   "outputs": [],
   "source": [
    "ridge_score_1 = cross_val_score(ridge, X_train_sc1, y_train_1, cv=10)\n",
    "ridge_score_1.mean()"
   ]
  },
  {
   "cell_type": "code",
   "execution_count": null,
   "metadata": {},
   "outputs": [],
   "source": [
    "lasso_score_1 = cross_val_score(lasso, X_train_sc1, y_train_1, cv=10)\n",
    "lasso_score_1.mean()"
   ]
  },
  {
   "cell_type": "markdown",
   "metadata": {},
   "source": [
    "Using the 3 models, it would seem that lassoCV is doing the best, although only slightly better than the linearRegression model. Hence, we will carry on with that model to fit to the training data and evaluate training and test scores."
   ]
  },
  {
   "cell_type": "markdown",
   "metadata": {},
   "source": [
    "\n",
    "### 7.2) Model Fitting and Evaluation"
   ]
  },
  {
   "cell_type": "code",
   "execution_count": null,
   "metadata": {},
   "outputs": [],
   "source": [
    "# Fitting the model to training data\n",
    "lasso.fit(X_train_sc1, y_train_1)"
   ]
  },
  {
   "cell_type": "code",
   "execution_count": null,
   "metadata": {},
   "outputs": [],
   "source": [
    "# Training Data Score\n",
    "lasso.score(X_train_sc1, y_train_1)"
   ]
  },
  {
   "cell_type": "code",
   "execution_count": null,
   "metadata": {},
   "outputs": [],
   "source": [
    "# Testing Data Score\n",
    "lasso.score(X_test_sc1, y_test_1)"
   ]
  },
  {
   "cell_type": "markdown",
   "metadata": {},
   "source": [
    "From the scores of my training scores and my test scores, the training scores are slightly higher than test scores, this shows there is a very slight overfitting and I should identify some columns to drop."
   ]
  },
  {
   "cell_type": "code",
   "execution_count": null,
   "metadata": {},
   "outputs": [],
   "source": [
    "# Barplot to see how each coefficient of the variables relate to the SalesPrice\n",
    "pd.Series(lasso.coef_, index=features_1).plot.bar(figsize=(15, 7))\n",
    "plt.title('Coefficients of Predictors')"
   ]
  },
  {
   "cell_type": "markdown",
   "metadata": {},
   "source": [
    "<a id='multicollinearity1'></a>\n",
    "### 7.3) Check for Multicollinearity"
   ]
  },
  {
   "cell_type": "markdown",
   "metadata": {},
   "source": [
    "A common rule of thumb is that multicollinearity may be a problem in a data set if any pairwise |r| > 0.7"
   ]
  },
  {
   "cell_type": "code",
   "execution_count": null,
   "metadata": {},
   "outputs": [],
   "source": [
    "multicollinearity(X_1)"
   ]
  },
  {
   "cell_type": "markdown",
   "metadata": {},
   "source": [
    "From the Barplot above, we can see that some of the coefficients of some variables used in the model are very low and close to negligible. I can refine my model by removing some of the variables with very low coefficients as i means that those variables would not affect the model much. \n",
    "\n",
    "Also, Based on multicollinearity, drop 1 of the column pair is correlation > 0.7\n",
    "\n",
    "Variables to drop are: \n",
    "- garage_cars\n",
    "- totrms_abvgrd\n",
    "- 1st_flr_sf\n",
    "- exter_qual\n",
    "- garage_type_Attchd\n",
    "- paved_drive\n",
    "- central_air_Y\n",
    "- house_style_2Story"
   ]
  },
  {
   "cell_type": "markdown",
   "metadata": {},
   "source": [
    "<a id='refine1'></a>\n",
    "# 8) Refine Model"
   ]
  },
  {
   "cell_type": "code",
   "execution_count": null,
   "metadata": {},
   "outputs": [],
   "source": [
    "# Drop columns to create Final Model 1\n",
    "train_model_1_fin = train_model_1.drop(columns=['garage_cars','totrms_abvgrd','1st_flr_sf','exter_qual','garage_type_Attchd','paved_drive','central_air_Y','house_style_2Story'])"
   ]
  },
  {
   "cell_type": "code",
   "execution_count": null,
   "metadata": {},
   "outputs": [],
   "source": [
    "# Create our features matrix (`X`) and target vector (`y`)\n",
    "X_1_fin = train_model_1_fin\n",
    "y_1_fin = train_1[\"saleprice\"]"
   ]
  },
  {
   "cell_type": "code",
   "execution_count": null,
   "metadata": {},
   "outputs": [],
   "source": [
    "# Creating the train/test split\n",
    "X_train_1_fin, X_test_1_fin, y_train_1_fin, y_test_1_fin = train_test_split(X_1_fin,y_1_fin,test_size=0.2, random_state = 42)"
   ]
  },
  {
   "cell_type": "code",
   "execution_count": null,
   "metadata": {},
   "outputs": [],
   "source": [
    "# Normalize / PowerTransform Values\n",
    "X_train_sc1_fin = ss.fit_transform(X_train_1_fin)\n",
    "X_test_sc1_fin = ss.transform(X_test_1_fin)"
   ]
  },
  {
   "cell_type": "code",
   "execution_count": null,
   "metadata": {},
   "outputs": [],
   "source": [
    "# Cross validation\n",
    "lasso_score_1_fin = cross_val_score(lasso, X_train_sc1_fin, y_train_1_fin, cv=10)\n",
    "print(\"Lasso Regression Score :\" + str(lasso_score_1_fin.mean()))\n",
    "lr_score_1_fin = cross_val_score(lr,X_train_sc1_fin,y_train_1_fin,cv=10)\n",
    "print(\"Linear Regression Score :\" + str(lr_score_1_fin.mean()))\n",
    "ridge_score_1_fin = cross_val_score(ridge, X_train_sc1_fin, y_train_1_fin, cv=10)\n",
    "print(\"Ridge Regression Score :\" + str(ridge_score_1_fin.mean()))\n"
   ]
  },
  {
   "cell_type": "markdown",
   "metadata": {},
   "source": [
    "Ridge Regression Score Performs the best so I shall use the Ridge Regression to fit to the training data and evaluate training and test scores."
   ]
  },
  {
   "cell_type": "code",
   "execution_count": null,
   "metadata": {},
   "outputs": [],
   "source": [
    "# Fitting the model to training data\n",
    "ridge.fit(X_train_sc1_fin, y_train_1_fin)"
   ]
  },
  {
   "cell_type": "code",
   "execution_count": null,
   "metadata": {},
   "outputs": [],
   "source": [
    "# Training Data Score\n",
    "ridge.score(X_train_sc1_fin, y_train_1_fin)"
   ]
  },
  {
   "cell_type": "code",
   "execution_count": null,
   "metadata": {},
   "outputs": [],
   "source": [
    "# Testing Data Score\n",
    "ridge.score(X_test_sc1_fin, y_test_1_fin)"
   ]
  },
  {
   "cell_type": "markdown",
   "metadata": {},
   "source": [
    "Test Score and Training Score is about the same after refining. Model is no longer overfitted."
   ]
  },
  {
   "cell_type": "code",
   "execution_count": null,
   "metadata": {},
   "outputs": [],
   "source": [
    "# Calculating the Predicted Price using X_test_sc1_fin\n",
    "pred_1 = ridge.predict(X_test_sc1_fin)"
   ]
  },
  {
   "cell_type": "code",
   "execution_count": null,
   "metadata": {},
   "outputs": [],
   "source": [
    "residuals_1 = y_test_1_fin - pred_1"
   ]
  },
  {
   "cell_type": "code",
   "execution_count": null,
   "metadata": {},
   "outputs": [],
   "source": [
    "sns.regplot(pred_1,residuals_1)"
   ]
  },
  {
   "cell_type": "markdown",
   "metadata": {},
   "source": [
    "Scatterplot show an even spread of between predicted and residuals except for a few outliers."
   ]
  },
  {
   "cell_type": "code",
   "execution_count": null,
   "metadata": {},
   "outputs": [],
   "source": [
    "# RMSE of the model\n",
    "rmse_1 = np.sqrt(mean_squared_error(y_test_1_fin, pred_1))\n",
    "rmse_1"
   ]
  },
  {
   "cell_type": "markdown",
   "metadata": {},
   "source": [
    "<a id='model2'></a>\n",
    "# Model 2"
   ]
  },
  {
   "cell_type": "markdown",
   "metadata": {},
   "source": [
    "<a id='merge2'></a>\n",
    "### Merge DataFrames (Cont / Ord / Nom)"
   ]
  },
  {
   "cell_type": "code",
   "execution_count": null,
   "metadata": {},
   "outputs": [],
   "source": [
    "train_nom_2 = pd.get_dummies(train_nom, drop_first=True)\n",
    "train_nom_2.head()"
   ]
  },
  {
   "cell_type": "code",
   "execution_count": null,
   "metadata": {},
   "outputs": [],
   "source": [
    "train_ord.head()"
   ]
  },
  {
   "cell_type": "code",
   "execution_count": null,
   "metadata": {},
   "outputs": [],
   "source": [
    "train_cont.head()"
   ]
  },
  {
   "cell_type": "code",
   "execution_count": null,
   "metadata": {},
   "outputs": [],
   "source": [
    "# Merging DataFrames\n",
    "train_2 = pd.concat([pd.concat([train_cont,train_ord.drop(columns = \"saleprice\")],axis=1),train_nom_2.drop(columns = \"saleprice\")],axis = 1)\n",
    "train_2"
   ]
  },
  {
   "cell_type": "markdown",
   "metadata": {},
   "source": [
    "<a id='lasso'></a>\n",
    "### Using LassoCV to remove unneccessary Variables"
   ]
  },
  {
   "cell_type": "markdown",
   "metadata": {},
   "source": [
    "Lasso deals primarily with the feature selection of valuable variables, eliminating ones that are not useful. \n",
    "\n",
    "This also takes care of multicollinearity,but in a different way: it will choose the \"best\" of the correlated variables and zero-out the other redundant ones.\n",
    "\n",
    "There may also be useless variables in the data which it is simply getting rid of entirely.\n",
    "\n",
    "Hence, for this model, we will use this method to get the best variables."
   ]
  },
  {
   "cell_type": "code",
   "execution_count": null,
   "metadata": {},
   "outputs": [],
   "source": [
    "features = train_2.drop(columns = \"saleprice\").columns\n",
    "X = train_2.drop(columns = \"saleprice\")\n",
    "y = train_2[\"saleprice\"]"
   ]
  },
  {
   "cell_type": "code",
   "execution_count": null,
   "metadata": {},
   "outputs": [],
   "source": [
    "# Scale X\n",
    "X_sc = ss.fit_transform(X)"
   ]
  },
  {
   "cell_type": "code",
   "execution_count": null,
   "metadata": {},
   "outputs": [],
   "source": [
    "lasso.fit(X_sc,y)"
   ]
  },
  {
   "cell_type": "code",
   "execution_count": null,
   "metadata": {},
   "outputs": [],
   "source": [
    "lasso_coefs = pd.DataFrame({'variable':X.columns,\n",
    "                            'coef':lasso.coef_,\n",
    "                            'abs_coef':np.abs(lasso.coef_)})\n",
    "\n",
    "lasso_coefs.sort_values('abs_coef', inplace=True, ascending=False)\n",
    "lasso_coefs.head(25)"
   ]
  },
  {
   "cell_type": "markdown",
   "metadata": {},
   "source": [
    "From this table of coefficients, to create my model, i will take the variables with the highest absolute cofficients as those are the variables that will affect price change the most. \n",
    "\n",
    "**Why do I take the absolute instead of the normal coefficients?**\n",
    "\n",
    "It is beacause, I want to find out which variables causes the price of the house to increase, and i also want to find out which variables would cause prices to fall as well so as to better be able to predict how prices fluctuate."
   ]
  },
  {
   "cell_type": "markdown",
   "metadata": {},
   "source": [
    "<a id='model_prep2'></a>\n",
    "### Create Model"
   ]
  },
  {
   "cell_type": "code",
   "execution_count": null,
   "metadata": {},
   "outputs": [],
   "source": [
    "features_2 = lasso_coefs[\"variable\"].iloc[:26]"
   ]
  },
  {
   "cell_type": "markdown",
   "metadata": {},
   "source": [
    "\n",
    "### Model Prep: Create our features matrix (`X`) and target vector (`y`)"
   ]
  },
  {
   "cell_type": "code",
   "execution_count": null,
   "metadata": {},
   "outputs": [],
   "source": [
    "X_2 = train_2[features_2]\n",
    "y_2 = train_2[\"saleprice\"]"
   ]
  },
  {
   "cell_type": "markdown",
   "metadata": {},
   "source": [
    "<a id='multicollinearity2'></a>\n",
    "### Check for Multicollinearity"
   ]
  },
  {
   "cell_type": "markdown",
   "metadata": {},
   "source": [
    "A common rule of thumb is that multicollinearity may be a problem in a data set if any pairwise |r| > 0.7"
   ]
  },
  {
   "cell_type": "code",
   "execution_count": null,
   "metadata": {},
   "outputs": [],
   "source": [
    "multicollinearity(X_2)"
   ]
  },
  {
   "cell_type": "markdown",
   "metadata": {},
   "source": [
    "Drop Exter Qual as Multicollinearity affects both Overall Qual and Kitchen Qual"
   ]
  },
  {
   "cell_type": "code",
   "execution_count": null,
   "metadata": {},
   "outputs": [],
   "source": [
    "# Drop Columns\n",
    "X_2 = X_2.drop(columns=['exter_qual'])\n",
    "features_2 = X_2.columns"
   ]
  },
  {
   "cell_type": "code",
   "execution_count": null,
   "metadata": {},
   "outputs": [],
   "source": [
    "X_2.shape"
   ]
  },
  {
   "cell_type": "markdown",
   "metadata": {},
   "source": [
    "\n",
    "### Model Prep: Train/test split"
   ]
  },
  {
   "cell_type": "code",
   "execution_count": null,
   "metadata": {},
   "outputs": [],
   "source": [
    "X_train_2, X_test_2, y_train_2, y_test_2 = train_test_split(X_2, y_2, test_size=0.2, random_state = 42)"
   ]
  },
  {
   "cell_type": "markdown",
   "metadata": {},
   "source": [
    "\n",
    "### Model Prep: Normalize / PowerTransform Values"
   ]
  },
  {
   "cell_type": "code",
   "execution_count": null,
   "metadata": {},
   "outputs": [],
   "source": [
    "X_train_sc2 = ss.fit_transform(X_train_2)\n",
    "X_test_sc2 = ss.transform(X_test_2)"
   ]
  },
  {
   "cell_type": "markdown",
   "metadata": {},
   "source": [
    "<a id='test2'></a>\n",
    "## Test Model"
   ]
  },
  {
   "cell_type": "markdown",
   "metadata": {},
   "source": [
    "\n",
    "### Cross validation"
   ]
  },
  {
   "cell_type": "code",
   "execution_count": null,
   "metadata": {},
   "outputs": [],
   "source": [
    "lasso_score_2 = cross_val_score(lasso, X_train_sc2, y_train_2, cv=10)\n",
    "print(\"Lasso Regression Score :\" + str(lasso_score_2.mean()))\n",
    "lr_score_2 = cross_val_score(lr,X_train_sc2,y_train_2,cv=10)\n",
    "print(\"Linear Regression Score :\" + str(lr_score_2.mean()))\n",
    "ridge_score_2 = cross_val_score(ridge, X_train_sc2, y_train_2, cv=10)\n",
    "print(\"Ridge Regression Score :\" + str(ridge_score_2.mean()))"
   ]
  },
  {
   "cell_type": "markdown",
   "metadata": {},
   "source": [
    "Ridge Regression has the best score. Therefore, I would be using the ridge regression to fit my model and evaluate it."
   ]
  },
  {
   "cell_type": "markdown",
   "metadata": {},
   "source": [
    "\n",
    "### Model Fitting and Evaluation"
   ]
  },
  {
   "cell_type": "code",
   "execution_count": null,
   "metadata": {},
   "outputs": [],
   "source": [
    "# Fitting the training data into Ridge Regression Model\n",
    "ridge2 = ridge.fit(X_train_sc2, y_train_2)"
   ]
  },
  {
   "cell_type": "code",
   "execution_count": null,
   "metadata": {},
   "outputs": [],
   "source": [
    "# Score of the Training Data\n",
    "ridge.score(X_train_sc2,y_train_2)"
   ]
  },
  {
   "cell_type": "code",
   "execution_count": null,
   "metadata": {},
   "outputs": [],
   "source": [
    "# Score of the Test Data\n",
    "ridge.score(X_test_sc2, y_test_2)"
   ]
  },
  {
   "cell_type": "markdown",
   "metadata": {},
   "source": [
    "The Score of the training data is around the same as the score of the test data. This shows there is no signs of overfitting."
   ]
  },
  {
   "cell_type": "code",
   "execution_count": null,
   "metadata": {},
   "outputs": [],
   "source": [
    "# Calculating predicted price\n",
    "pred_2 = ridge.predict(X_test_sc2)"
   ]
  },
  {
   "cell_type": "code",
   "execution_count": null,
   "metadata": {},
   "outputs": [],
   "source": [
    "residuals_2 = y_test_2 - pred_2"
   ]
  },
  {
   "cell_type": "code",
   "execution_count": null,
   "metadata": {},
   "outputs": [],
   "source": [
    "# Plotting a graph of residuals against prediction\n",
    "sns.regplot(pred_2,residuals_2)"
   ]
  },
  {
   "cell_type": "markdown",
   "metadata": {},
   "source": [
    "Scatterplot shows random distribution of plot except for 1 outlier. Model is good."
   ]
  },
  {
   "cell_type": "code",
   "execution_count": null,
   "metadata": {},
   "outputs": [],
   "source": [
    "# RMSE of the model\n",
    "rmse_2 = np.sqrt(mean_squared_error(y_test_2, pred_2))\n",
    "rmse_2"
   ]
  },
  {
   "cell_type": "markdown",
   "metadata": {},
   "source": [
    "<a id='model_3'></a>\n",
    "# Model 3"
   ]
  },
  {
   "cell_type": "markdown",
   "metadata": {},
   "source": [
    "<a id='merge3'></a>\n",
    "### Merge DataFrames"
   ]
  },
  {
   "cell_type": "code",
   "execution_count": null,
   "metadata": {},
   "outputs": [],
   "source": [
    "train_3 = pd.concat([pd.concat([train_cont,train_ord.drop(columns = \"saleprice\")],axis=1),train_nom.drop(columns = \"saleprice\")],axis = 1)\n",
    "train_3.head()"
   ]
  },
  {
   "cell_type": "markdown",
   "metadata": {},
   "source": [
    "<a id='feature_eng'></a>\n",
    "### Feature Engineering"
   ]
  },
  {
   "cell_type": "markdown",
   "metadata": {},
   "source": [
    "\n",
    "Combine columns that are Linked / Similar to each other and add into DataFrame"
   ]
  },
  {
   "cell_type": "code",
   "execution_count": null,
   "metadata": {},
   "outputs": [],
   "source": [
    "# Combine Overall Qual and Overall Cond\n",
    "train_3['comb_overall'] = train_3['overall_qual'] * train_3['overall_cond']\n",
    "# Combine Exter Qual and Exter Cond\n",
    "train_3['exter_overall'] = train_3['exter_qual'] * train_3['exter_cond']\n",
    "# Combine Bsmt Qual and Bsmt Cond\n",
    "train_3['bsmt_overall'] = train_3['bsmt_qual'] * train_3['bsmt_cond']\n",
    "# Combine Full Bath and Half Bath\n",
    "train_3['total_bath'] = train_3['bsmt_full_bath'] + train_3['full_bath'] + (0.5*(train_3['bsmt_half_bath']  + train_3['half_bath']))\n",
    "# Combine Kitchen and Kitchen Quality\n",
    "train_3['kitchen_overall'] = train_3['kitchen_abvgr'] * train_3['kitchen_qual']\n",
    "# Combine Fireplace\n",
    "train_3['fireplace_overall'] = train_3['fireplaces'] * train_3['fireplace_qu']\n",
    "# Garage Overall\n",
    "train_3['garage_overall'] = train_3['garage_qual'] * train_3['garage_cond']\n",
    "# Combine all the SF\n",
    "train_3['total_sf'] = train_3['total_bsmt_sf'] + train_3['gr_liv_area'] + train_3[\"garage_area\"]"
   ]
  },
  {
   "cell_type": "code",
   "execution_count": null,
   "metadata": {},
   "outputs": [],
   "source": [
    "train_3.shape"
   ]
  },
  {
   "cell_type": "markdown",
   "metadata": {},
   "source": [
    "Drop Columns that have been combined because the combined columns would have extremely high correlation with the columns that created it. To avoid this situation. We drop the columns that were used."
   ]
  },
  {
   "cell_type": "code",
   "execution_count": null,
   "metadata": {},
   "outputs": [],
   "source": [
    "train_3 = train_3.drop(columns=['overall_qual','overall_cond','exter_qual','exter_cond','bsmt_qual','bsmt_cond','bsmt_full_bath','full_bath','bsmt_half_bath','half_bath', 'kitchen_abvgr', 'kitchen_qual', 'fireplaces', 'fireplace_qu', 'garage_qual', 'garage_cond', 'total_bsmt_sf', 'gr_liv_area', 'garage_area'])"
   ]
  },
  {
   "cell_type": "code",
   "execution_count": null,
   "metadata": {},
   "outputs": [],
   "source": [
    "train_3 = pd.get_dummies(train_3)"
   ]
  },
  {
   "cell_type": "code",
   "execution_count": null,
   "metadata": {},
   "outputs": [],
   "source": [
    "corr_3 = train_3.corr()\n",
    "corr_3.sort_values([\"saleprice\"], ascending=False, inplace= True)\n",
    "corr_3['saleprice'].head(28)"
   ]
  },
  {
   "cell_type": "markdown",
   "metadata": {},
   "source": [
    "<a id='create_xy3'></a>\n",
    "### Create our features matrix (`X`) and target vector (`y`)"
   ]
  },
  {
   "cell_type": "code",
   "execution_count": null,
   "metadata": {},
   "outputs": [],
   "source": [
    "features_3 = corr_3[\"saleprice\"].iloc[1:28].index "
   ]
  },
  {
   "cell_type": "code",
   "execution_count": null,
   "metadata": {},
   "outputs": [],
   "source": [
    "X_3 = train_3[features_3]\n",
    "y_3 = train_3[\"saleprice\"]"
   ]
  },
  {
   "cell_type": "markdown",
   "metadata": {},
   "source": [
    "<a id='multicollinearity3'></a>\n",
    "### Check for Multicollinearity"
   ]
  },
  {
   "cell_type": "markdown",
   "metadata": {},
   "source": [
    "A common rule of thumb is that multicollinearity may be a problem in a data set if any pairwise |r| > 0.7a"
   ]
  },
  {
   "cell_type": "code",
   "execution_count": null,
   "metadata": {},
   "outputs": [],
   "source": [
    "multicollinearity(X_3)"
   ]
  },
  {
   "cell_type": "markdown",
   "metadata": {},
   "source": [
    "Drop Columns : 1st Flr SF, BsmtFin Type 1, Exterior 2nd_VinylSd because their correlation to SalePrice is lower than their counterpart."
   ]
  },
  {
   "cell_type": "code",
   "execution_count": null,
   "metadata": {},
   "outputs": [],
   "source": [
    "# Drop Columns\n",
    "X_3 = X_3.drop(columns=['1st_flr_sf', 'bsmtfin_type_1', 'exterior_2nd_VinylSd'])"
   ]
  },
  {
   "cell_type": "markdown",
   "metadata": {},
   "source": [
    "<a id='Model_prep3'></a>\n",
    "### Model Prep: Train/test split"
   ]
  },
  {
   "cell_type": "code",
   "execution_count": null,
   "metadata": {},
   "outputs": [],
   "source": [
    "X_train_3, X_test_3, y_train_3, y_test_3 = train_test_split(X_3, y_3, test_size=0.2, random_state = 42)"
   ]
  },
  {
   "cell_type": "markdown",
   "metadata": {},
   "source": [
    "### Model Prep: Normalize / PowerTransform Values"
   ]
  },
  {
   "cell_type": "code",
   "execution_count": null,
   "metadata": {},
   "outputs": [],
   "source": [
    "X_train_sc3 = ss.fit_transform(X_train_3)\n",
    "X_test_sc3 = ss.transform(X_test_3)"
   ]
  },
  {
   "cell_type": "markdown",
   "metadata": {},
   "source": [
    "<a id='test3'></a>\n",
    "## Test Model"
   ]
  },
  {
   "cell_type": "markdown",
   "metadata": {},
   "source": [
    "\n",
    "### Cross validation"
   ]
  },
  {
   "cell_type": "code",
   "execution_count": null,
   "metadata": {},
   "outputs": [],
   "source": [
    "lasso_score_3 = cross_val_score(lasso, X_train_sc3, y_train_3, cv=10)\n",
    "print(\"Lasso Regression Score :\" + str(lasso_score_3.mean()))\n",
    "lr_score_3 = cross_val_score(lr,X_train_sc3,y_train_3,cv=10)\n",
    "print(\"Linear Regression Score :\" + str(lr_score_3.mean()))\n",
    "ridge_score_3 = cross_val_score(ridge, X_train_sc3, y_train_3, cv=10)\n",
    "print(\"Ridge Regression Score :\" + str(ridge_score_3.mean()))"
   ]
  },
  {
   "cell_type": "markdown",
   "metadata": {},
   "source": [
    "Lasso Regression has the best score. Therefore, I would be using the Lasso regression to fit my model and evaluate it."
   ]
  },
  {
   "cell_type": "markdown",
   "metadata": {},
   "source": [
    "\n",
    "### Model Fitting and Evaluation"
   ]
  },
  {
   "cell_type": "code",
   "execution_count": null,
   "metadata": {},
   "outputs": [],
   "source": [
    "# Fitting the training data into lasso Regression Model\n",
    "lasso.fit(X_train_sc3, y_train_3)"
   ]
  },
  {
   "cell_type": "code",
   "execution_count": null,
   "metadata": {},
   "outputs": [],
   "source": [
    "# Score of the Training Data\n",
    "lasso.score(X_train_sc3,y_train_3)"
   ]
  },
  {
   "cell_type": "code",
   "execution_count": null,
   "metadata": {},
   "outputs": [],
   "source": [
    "# Score of the Test Data\n",
    "lasso.score(X_test_sc3, y_test_3)"
   ]
  },
  {
   "cell_type": "markdown",
   "metadata": {},
   "source": [
    "The Score of the training data is slightly higher than the score of the test data. This shows there is no signs of overfitting."
   ]
  },
  {
   "cell_type": "code",
   "execution_count": null,
   "metadata": {},
   "outputs": [],
   "source": [
    "# Calculating predicted price\n",
    "pred_3 = lasso.predict(X_test_sc3)"
   ]
  },
  {
   "cell_type": "code",
   "execution_count": null,
   "metadata": {},
   "outputs": [],
   "source": [
    "residuals_3 = y_test_3 - pred_3"
   ]
  },
  {
   "cell_type": "code",
   "execution_count": null,
   "metadata": {},
   "outputs": [],
   "source": [
    "# Plotting a graph of residuals against prediction\n",
    "sns.regplot(pred_3,residuals_3)"
   ]
  },
  {
   "cell_type": "markdown",
   "metadata": {},
   "source": [
    "Scatterplot shows random distribution of plot except for 1 outlier. Model is good."
   ]
  },
  {
   "cell_type": "code",
   "execution_count": null,
   "metadata": {},
   "outputs": [],
   "source": [
    "# RMSE of the model\n",
    "rmse_2 = np.sqrt(mean_squared_error(y_test_3, pred_3))\n",
    "rmse_2"
   ]
  },
  {
   "cell_type": "markdown",
   "metadata": {},
   "source": [
    "<a id='Kaggle'></a>\n",
    "# 9) Test Model on Kaggle Test Data"
   ]
  },
  {
   "cell_type": "code",
   "execution_count": null,
   "metadata": {},
   "outputs": [],
   "source": [
    "# Load Kaggle Dataset\n",
    "kaggle_test = pd.read_csv(\"../datasets/test.csv\", dtype={'MS SubClass': object, \"PID\": object, \"Overall Qual\": object, \"Overall Cond\": object})\n",
    "kaggle_test.columns"
   ]
  },
  {
   "cell_type": "markdown",
   "metadata": {},
   "source": [
    "To have similar columns as my models, I have to drop some unused columns first.\n",
    "\n",
    "Columns to drop : 'Misc Feature', 'Fence', 'Pool QC', 'Alley', 'Lot Frontage', \"PID\", 'Utilities', 'Land Slope', 'Electrical'"
   ]
  },
  {
   "cell_type": "code",
   "execution_count": null,
   "metadata": {},
   "outputs": [],
   "source": [
    "# Clean Kaggle Dataset\n",
    "kaggle_test = kaggle_test.drop(columns = ['Misc Feature','Fence', 'Pool QC', 'Alley', 'Lot Frontage', \"PID\", 'Utilities', 'Land Slope', 'Electrical'], axis = 1)\n",
    "kaggle_test['Mas Vnr Type'].fillna(\"None\", inplace=True)"
   ]
  },
  {
   "cell_type": "code",
   "execution_count": null,
   "metadata": {},
   "outputs": [],
   "source": [
    "# Fill Null Values\n",
    "fill_null(kaggle_test, kaggle_test.columns)"
   ]
  },
  {
   "cell_type": "code",
   "execution_count": null,
   "metadata": {},
   "outputs": [],
   "source": [
    "# Rename Columns\n",
    "kaggle_test = kaggle_test.rename(columns = lambda x : rename(x))"
   ]
  },
  {
   "cell_type": "code",
   "execution_count": null,
   "metadata": {},
   "outputs": [],
   "source": [
    "# Rank all Ordinal Variables\n",
    "kaggle_test.replace(cleanup, inplace=True)\n"
   ]
  },
  {
   "cell_type": "code",
   "execution_count": null,
   "metadata": {},
   "outputs": [],
   "source": [
    "# Change Nominal Data to get_dummies\n",
    "kaggle_test_dum = pd.get_dummies(kaggle_test)"
   ]
  },
  {
   "cell_type": "markdown",
   "metadata": {},
   "source": [
    "<a id='Kaggle_1'></a>\n",
    "## 9.1) Predict Kaggle Data with Model 1"
   ]
  },
  {
   "cell_type": "markdown",
   "metadata": {},
   "source": [
    "Model 1 Training data : X_1_fin\n",
    "\n",
    "Model 1 Training data : y_1_fin"
   ]
  },
  {
   "cell_type": "code",
   "execution_count": null,
   "metadata": {},
   "outputs": [],
   "source": [
    "# Create Similar Columns with Kaggle Test Data\n",
    "kaggle_test_1 = kaggle_test_dum[X_1_fin.columns]\n",
    "kaggle_test_1.head()"
   ]
  },
  {
   "cell_type": "code",
   "execution_count": null,
   "metadata": {},
   "outputs": [],
   "source": [
    "# Fit Model 1 into Ridge Regression\n",
    "X_train_sc1_fin = ss.fit_transform(X_train_1_fin)\n",
    "ridge.fit(X_train_sc1_fin, y_train_1_fin)"
   ]
  },
  {
   "cell_type": "code",
   "execution_count": null,
   "metadata": {},
   "outputs": [],
   "source": [
    "# Scale Kaggle Model 1 based on scalling of Model 1\n",
    "kaggle_test_1sc = ss.transform(kaggle_test_1)"
   ]
  },
  {
   "cell_type": "code",
   "execution_count": null,
   "metadata": {},
   "outputs": [],
   "source": [
    "# Predict Kaggle SalePrice\n",
    "pred_kaggle_1 = ridge.predict(kaggle_test_1sc)"
   ]
  },
  {
   "cell_type": "code",
   "execution_count": null,
   "metadata": {},
   "outputs": [],
   "source": [
    "# Create DataFrame with ID and SalePrice\n",
    "prediction_1 = kaggle_test[[\"id\"]]\n",
    "prediction_1[\"SalePrice\"] = pred_kaggle_1\n",
    "prediction_1.rename(columns={'id':'Id'}, inplace=True)\n",
    "prediction_1.set_index('Id', inplace= True)"
   ]
  },
  {
   "cell_type": "code",
   "execution_count": null,
   "metadata": {},
   "outputs": [],
   "source": [
    "# Save Dataset to CSV to submit to Kaggle\n",
    "prediction_1.to_csv(\"./prediction_1.csv\")"
   ]
  },
  {
   "cell_type": "markdown",
   "metadata": {},
   "source": [
    "### Kaggle Score for Model 1: RMSE = 31730.63840 (Public) , 33019.52792 (Private) "
   ]
  },
  {
   "cell_type": "markdown",
   "metadata": {},
   "source": [
    "<a id='Kaggle_2'></a>\n",
    "## 9.2) Predict Kaggle Data with Model 2"
   ]
  },
  {
   "cell_type": "markdown",
   "metadata": {},
   "source": [
    "Model 2 Training data : X_2\n",
    "\n",
    "Model 2 Training data : y_2"
   ]
  },
  {
   "cell_type": "code",
   "execution_count": null,
   "metadata": {},
   "outputs": [],
   "source": [
    "kaggle_test_dum['neighborhood_GrnHill'] = 0"
   ]
  },
  {
   "cell_type": "code",
   "execution_count": null,
   "metadata": {},
   "outputs": [],
   "source": [
    "# Create Similar Columns with Kaggle Test Data\n",
    "kaggle_test_2 = kaggle_test_dum[X_2.columns]\n",
    "kaggle_test_2.shape"
   ]
  },
  {
   "cell_type": "code",
   "execution_count": null,
   "metadata": {},
   "outputs": [],
   "source": [
    "# Fit Model 2 into Ridge Regression\n",
    "X_train_sc2 = ss.fit_transform(X_train_2)\n",
    "ridge.fit(X_train_sc2, y_train_2)"
   ]
  },
  {
   "cell_type": "code",
   "execution_count": null,
   "metadata": {},
   "outputs": [],
   "source": [
    "# Scale Kaggle Model 2 based on scalling of Model 2\n",
    "kaggle_test_2sc = ss.transform(kaggle_test_2)"
   ]
  },
  {
   "cell_type": "code",
   "execution_count": null,
   "metadata": {},
   "outputs": [],
   "source": [
    "# Predict Kaggle SalePrice\n",
    "pred_kaggle_2 = ridge.predict(kaggle_test_2sc)"
   ]
  },
  {
   "cell_type": "code",
   "execution_count": null,
   "metadata": {},
   "outputs": [],
   "source": [
    "# Create DataFrame with ID and SalePrice\n",
    "prediction_2 = kaggle_test[[\"id\"]]\n",
    "prediction_2[\"saleprice\"] = pred_kaggle_2\n",
    "prediction_2.rename(columns={'id':'Id'}, inplace=True)\n",
    "prediction_2.set_index('Id', inplace= True)"
   ]
  },
  {
   "cell_type": "code",
   "execution_count": null,
   "metadata": {},
   "outputs": [],
   "source": [
    "# Save Dataset to CSV to submit to Kaggle\n",
    "prediction_2.to_csv(\"./prediction_2.csv\")"
   ]
  },
  {
   "cell_type": "markdown",
   "metadata": {},
   "source": [
    "### Kaggle Score for Model 2: RMSE = 28669.97609 (Public) , 31707.44886 (Private)"
   ]
  },
  {
   "cell_type": "markdown",
   "metadata": {},
   "source": [
    "<a id='Kaggle_3'></a>\n",
    "## 9.3) Predict Kaggle Data with Model 3"
   ]
  },
  {
   "cell_type": "markdown",
   "metadata": {},
   "source": [
    "Model 3 Training data : X_3\n",
    "\n",
    "Model 3 Training data : y_3"
   ]
  },
  {
   "cell_type": "markdown",
   "metadata": {},
   "source": [
    "<a id='modify_kaggle_3'></a>\n",
    "### 9.3.1) Modify Kaggle Data to be similar as Training Data"
   ]
  },
  {
   "cell_type": "code",
   "execution_count": null,
   "metadata": {},
   "outputs": [],
   "source": [
    "# Combine Overall Qual and Overall Cond\n",
    "kaggle_test['comb_overall'] = kaggle_test['overall_qual'] * kaggle_test['overall_cond']\n",
    "# Combine Exter Qual and Exter Cond\n",
    "kaggle_test['exter_overall'] = kaggle_test['exter_qual'] * kaggle_test['exter_cond']\n",
    "# Combine Bsmt Qual and Bsmt Cond\n",
    "kaggle_test['bsmt_overall'] = kaggle_test['bsmt_qual'] * kaggle_test['bsmt_cond']\n",
    "# Combine Full Bath and Half Bath\n",
    "kaggle_test['total_bath'] = kaggle_test['bsmt_full_bath'] + kaggle_test['full_bath'] + (0.5*(kaggle_test['bsmt_half_bath']  + kaggle_test['half_bath']))\n",
    "# Combine Kitchen and Kitchen Quality\n",
    "kaggle_test['kitchen_overall'] = kaggle_test['kitchen_abvgr'] * kaggle_test['kitchen_qual']\n",
    "# Combine Fireplace\n",
    "kaggle_test['fireplace_overall'] = kaggle_test['fireplaces'] * kaggle_test['fireplace_qu']\n",
    "# Garage Overall\n",
    "kaggle_test['garage_overall'] = kaggle_test['garage_qual'] * kaggle_test['garage_cond']\n",
    "# Combine all the SF\n",
    "kaggle_test['total_sf'] = kaggle_test['total_bsmt_sf'] + kaggle_test['gr_liv_area'] + kaggle_test[\"garage_area\"]"
   ]
  },
  {
   "cell_type": "code",
   "execution_count": null,
   "metadata": {},
   "outputs": [],
   "source": [
    "# Change Datatype to correct datatype\n",
    "kaggle_test['bsmt_overall'] = kaggle_test['bsmt_overall'].astype(int)"
   ]
  },
  {
   "cell_type": "code",
   "execution_count": null,
   "metadata": {},
   "outputs": [],
   "source": [
    "# Create Similar Columns with Kaggle Test Data\n",
    "kaggle_test_dum3 = pd.get_dummies(kaggle_test)\n",
    "kaggle_test_3 = kaggle_test_dum3[X_3.columns]\n",
    "kaggle_test_3.shape"
   ]
  },
  {
   "cell_type": "markdown",
   "metadata": {},
   "source": [
    "<a id='predict_kaggle_3'></a>\n",
    "### 9.3.2) Predict Kaggle Data"
   ]
  },
  {
   "cell_type": "code",
   "execution_count": null,
   "metadata": {},
   "outputs": [],
   "source": [
    "# Fit Model 2 into Ridge Regression\n",
    "X_train_sc3 = ss.fit_transform(X_train_3)\n",
    "lasso.fit(X_train_sc3, y_train_3)"
   ]
  },
  {
   "cell_type": "code",
   "execution_count": null,
   "metadata": {},
   "outputs": [],
   "source": [
    "# Scale Kaggle Model 2 based on scalling of Model 2\n",
    "kaggle_test_3sc = ss.transform(kaggle_test_3)"
   ]
  },
  {
   "cell_type": "code",
   "execution_count": null,
   "metadata": {},
   "outputs": [],
   "source": [
    "# Predict Kaggle SalePrice\n",
    "pred_kaggle_3 = lasso.predict(kaggle_test_3sc)"
   ]
  },
  {
   "cell_type": "code",
   "execution_count": null,
   "metadata": {},
   "outputs": [],
   "source": [
    "# Create DataFrame with ID and SalePrice\n",
    "prediction_3 = kaggle_test[[\"id\"]]\n",
    "prediction_3[\"SalePrice\"] = pred_kaggle_3\n",
    "prediction_3.rename(columns={'id':'Id'}, inplace=True)\n",
    "prediction_3.set_index('Id', inplace= True)"
   ]
  },
  {
   "cell_type": "code",
   "execution_count": null,
   "metadata": {},
   "outputs": [],
   "source": [
    "# Save Dataset to CSV to submit to Kaggle\n",
    "prediction_3.to_csv(\"./prediction_3.csv\")"
   ]
  },
  {
   "cell_type": "markdown",
   "metadata": {},
   "source": [
    "### Kaggle Score for Model 3: RMSE = 33611.97639 (Public) , 33342.21643 (Private)"
   ]
  },
  {
   "cell_type": "markdown",
   "metadata": {},
   "source": [
    "<a id='Recommendations'></a>\n",
    "# 10) Recommendations\n",
    "\n",
    "### Best Model = Model 2 (Recommendations will be based on Model 2)"
   ]
  },
  {
   "cell_type": "code",
   "execution_count": null,
   "metadata": {},
   "outputs": [],
   "source": [
    "# Create DataFrame with y_test_2 and pred_2\n",
    "model2_line = pd.DataFrame(columns = [\"test_saleprice\"])\n",
    "model2_line['test_saleprice'] = y_test_2\n",
    "model2_line['pred_saleprice'] = pred_2\n",
    "model2_line.sort_index(inplace=True)"
   ]
  },
  {
   "cell_type": "code",
   "execution_count": null,
   "metadata": {},
   "outputs": [],
   "source": [
    "# Plot a lineplot between test data saleprice against predicted saleprice\n",
    "plt.figure(figsize=(45,15))\n",
    "plt.plot(model2_line.index, 'test_saleprice', data = model2_line, marker='o', color='skyblue')\n",
    "plt.plot(model2_line.index, 'pred_saleprice', data = model2_line, marker='D', color='olive')\n",
    "plt.title(label = \"Comparison Between Test SalePrice and Predicted SalePrice\", fontsize = 35,)\n",
    "plt.legend(prop={'size':30})\n",
    "plt.xticks(fontsize = 35)\n",
    "plt.yticks(fontsize = 35)\n",
    "plt.xlabel(\"ID\", fontsize = 35)\n",
    "plt.ylabel(\"SalePrice\", fontsize = 35)"
   ]
  },
  {
   "cell_type": "markdown",
   "metadata": {},
   "source": [
    "The blue line in the graph represents the Saleprice for the test data, the green line represents the Saleprice for the predicted values.\n",
    "\n",
    "From the graph, I can confidently say that this model can predict house prices in Aimes/Iowa pretty well. As you can see, for each ID, which represents a house, the test point and predicted point is quite close to one another, which means the prices do not vary much and can be used to model prices for people who is looking to buy or sell their house. \n",
    "\n",
    "Do note that the predicted prices should be used just as a benchmark. Actual price will still be determined by the owners of the house."
   ]
  },
  {
   "cell_type": "markdown",
   "metadata": {},
   "source": [
    "**1) Which features appear to add the most value to a home?**"
   ]
  },
  {
   "cell_type": "code",
   "execution_count": null,
   "metadata": {},
   "outputs": [],
   "source": [
    "# Barplot to see how each coefficient of the variables relate to the SalesPrice\n",
    "pd.Series(ridge2.coef_, index=features_2).plot.bar(figsize=(15, 7))\n",
    "plt.title('Coefficients of Predictors')"
   ]
  },
  {
   "cell_type": "markdown",
   "metadata": {},
   "source": [
    "From the Barplot above, the top 3 features that adds the most value to home prices is General Living Area, which is the Square Feet of your living space, the Overall Quality of your house and also at which year the house was built.\n",
    "So basically the main biggest factors that affect housing price is the size of your house and how old and well maintained is the house."
   ]
  },
  {
   "cell_type": "markdown",
   "metadata": {},
   "source": [
    "**2) Which features hurt the value of a home the most?**"
   ]
  },
  {
   "cell_type": "markdown",
   "metadata": {},
   "source": [
    "The Features that hurts the value of your home the most based on the data is the number of bedrooms you have in your house, which is a little strange. The 2nd feature that hurts the value is if the house is the end units of a twinhouse."
   ]
  },
  {
   "cell_type": "markdown",
   "metadata": {},
   "source": [
    "**3) What are things that homeowners could improve in their homes to increase the value?**"
   ]
  },
  {
   "cell_type": "markdown",
   "metadata": {},
   "source": [
    "Other than having a bigger house. A homeowner can increase their home value by keeping the Quality and Condition of their house at tip top shape. The few biggest correlations with price other than the squarefeet of the house is Overall Quality, Overall Condition and Kitchen Quality. \n",
    "\n",
    "The other features cannot be changed."
   ]
  },
  {
   "cell_type": "markdown",
   "metadata": {},
   "source": [
    "**4) What neighborhoods seem like they might be a good investment?**"
   ]
  },
  {
   "cell_type": "markdown",
   "metadata": {},
   "source": [
    "From the graph above, the best neighborhoods to invest in right now which has the highest coefficient are, Northridge Heights, Stone Brook, Northridge and Green Hills respectively from ranking from the best neighborhood."
   ]
  },
  {
   "cell_type": "markdown",
   "metadata": {},
   "source": [
    "**5) Do you feel that this model will generalize to other cities? How could you revise your model to make it more universal OR what data would you need from another city to make a comparable model?**"
   ]
  },
  {
   "cell_type": "markdown",
   "metadata": {},
   "source": [
    "I think the model would not work very well in other cities because the data used to train the model is focused on just this city. In order to make the model more universal, i would need data on the sale prices, city, sizes of the houses and the quality of the houses at least. As, those data are the more critical variables to predict housing price."
   ]
  },
  {
   "cell_type": "code",
   "execution_count": null,
   "metadata": {},
   "outputs": [],
   "source": []
  }
 ],
 "metadata": {
  "kernelspec": {
   "display_name": "Python 3",
   "language": "python",
   "name": "python3"
  },
  "language_info": {
   "codemirror_mode": {
    "name": "ipython",
    "version": 3
   },
   "file_extension": ".py",
   "mimetype": "text/x-python",
   "name": "python",
   "nbconvert_exporter": "python",
   "pygments_lexer": "ipython3",
   "version": "3.7.3"
  }
 },
 "nbformat": 4,
 "nbformat_minor": 2
}
